{
 "cells": [
  {
   "cell_type": "markdown",
   "metadata": {},
   "source": [
    "<div class=\"alert alert-info\" style=\"background-color:#001469; color:white; padding:0px 10px; border-radius:5px;\">\n",
    "  <h2 style='margin:10px 5px'>PYTHON FUNCTIONS</h2>\n",
    "</div>"
   ]
  },
  {
   "cell_type": "markdown",
   "metadata": {},
   "source": [
    "A function is a block of organized, reusable code that is used to perform a single, related action. Functions provide better modularity for your application and a high degree of code reusing. As you already know, Python gives you many built-in functions like print(),range(),enumerate(),max(),min() etc. but you can also create your own functions."
   ]
  },
  {
   "cell_type": "code",
   "execution_count": 1,
   "metadata": {},
   "outputs": [],
   "source": [
    "def philip(country):\n",
    "    print(\"I am from \" + country)"
   ]
  },
  {
   "cell_type": "code",
   "execution_count": 2,
   "metadata": {},
   "outputs": [
    {
     "name": "stdout",
     "output_type": "stream",
     "text": [
      "I am from Nigeria\n"
     ]
    }
   ],
   "source": [
    "philip (\"Nigeria\")"
   ]
  },
  {
   "cell_type": "code",
   "execution_count": 3,
   "metadata": {},
   "outputs": [
    {
     "name": "stdout",
     "output_type": "stream",
     "text": [
      "I am from Sweden\n"
     ]
    }
   ],
   "source": [
    "philip (\"Sweden\")"
   ]
  },
  {
   "cell_type": "code",
   "execution_count": 4,
   "metadata": {},
   "outputs": [
    {
     "name": "stdout",
     "output_type": "stream",
     "text": [
      "I am from Ghana\n"
     ]
    }
   ],
   "source": [
    "philip (\"Ghana\")"
   ]
  },
  {
   "cell_type": "code",
   "execution_count": 5,
   "metadata": {},
   "outputs": [
    {
     "name": "stdout",
     "output_type": "stream",
     "text": [
      "I am from Yemen\n"
     ]
    }
   ],
   "source": [
    "philip(\"Yemen\")"
   ]
  },
  {
   "cell_type": "code",
   "execution_count": 6,
   "metadata": {},
   "outputs": [],
   "source": [
    "def my_function(value): #define a function\n",
    "  for x in value:\n",
    "    print(\"I want to buy \" + x)\n",
    "\n",
    "fruits = [\"apple\", \"banana\", \"cherry\"] #create a list of fruits"
   ]
  },
  {
   "cell_type": "code",
   "execution_count": 7,
   "metadata": {},
   "outputs": [
    {
     "name": "stdout",
     "output_type": "stream",
     "text": [
      "I want to buy apple\n",
      "I want to buy banana\n",
      "I want to buy cherry\n"
     ]
    }
   ],
   "source": [
    "my_function(fruits)"
   ]
  },
  {
   "cell_type": "code",
   "execution_count": 8,
   "metadata": {},
   "outputs": [],
   "source": [
    "#Define a Function that greets a person\n",
    "def greet(A):\n",
    "    print(f\"Hello,{A}!\") #f-string"
   ]
  },
  {
   "cell_type": "code",
   "execution_count": 9,
   "metadata": {},
   "outputs": [
    {
     "name": "stdout",
     "output_type": "stream",
     "text": [
      "Hello,sarah!\n"
     ]
    }
   ],
   "source": [
    "#Use the function\n",
    "greet(\"sarah\")"
   ]
  },
  {
   "cell_type": "code",
   "execution_count": 10,
   "metadata": {},
   "outputs": [
    {
     "name": "stdout",
     "output_type": "stream",
     "text": [
      "Hello,joan!\n"
     ]
    }
   ],
   "source": [
    "greet(\"joan\")"
   ]
  },
  {
   "cell_type": "code",
   "execution_count": 11,
   "metadata": {},
   "outputs": [
    {
     "name": "stdout",
     "output_type": "stream",
     "text": [
      "Hello,olayemi!\n"
     ]
    }
   ],
   "source": [
    "greet(\"olayemi\")"
   ]
  },
  {
   "cell_type": "code",
   "execution_count": 12,
   "metadata": {},
   "outputs": [],
   "source": [
    "#Define a function\n",
    "def describe(type ,name):\n",
    "    print(f\"\\n I have a {type}\")\n",
    "    print(f\"My {type} name is {name.title()}.\")"
   ]
  },
  {
   "cell_type": "code",
   "execution_count": 13,
   "metadata": {},
   "outputs": [
    {
     "name": "stdout",
     "output_type": "stream",
     "text": [
      "\n",
      " I have a dog\n",
      "My dog name is Bingo.\n"
     ]
    }
   ],
   "source": [
    "#Use the function\n",
    "describe(\"dog\", \"bingo\")"
   ]
  },
  {
   "cell_type": "code",
   "execution_count": 14,
   "metadata": {},
   "outputs": [
    {
     "name": "stdout",
     "output_type": "stream",
     "text": [
      "\n",
      " I have a pig\n",
      "My pig name is Yema.\n"
     ]
    }
   ],
   "source": [
    "describe(\"pig\",\"yema\")"
   ]
  },
  {
   "cell_type": "code",
   "execution_count": 15,
   "metadata": {},
   "outputs": [
    {
     "name": "stdout",
     "output_type": "stream",
     "text": [
      "\n",
      " I have a goat\n",
      "My goat name is Captain.\n"
     ]
    }
   ],
   "source": [
    "describe(\"goat\", \"captain\")"
   ]
  },
  {
   "cell_type": "code",
   "execution_count": 16,
   "metadata": {},
   "outputs": [
    {
     "name": "stdout",
     "output_type": "stream",
     "text": [
      "\n",
      " I have a car\n",
      "My car name is Toyota.\n"
     ]
    }
   ],
   "source": [
    "describe(\"car\",\"Toyota\")"
   ]
  },
  {
   "cell_type": "code",
   "execution_count": 36,
   "metadata": {},
   "outputs": [],
   "source": [
    "#Define a Function with pre-selected argument value\n",
    "def describe(type ,name = \"Series A\"):\n",
    "    print(f\"\\n I have a {type}\")\n",
    "    print(f\"My {type}'s brand is {name.title()}.\")"
   ]
  },
  {
   "cell_type": "code",
   "execution_count": 34,
   "metadata": {},
   "outputs": [
    {
     "ename": "TypeError",
     "evalue": "describe() missing 1 required positional argument: 'type'",
     "output_type": "error",
     "traceback": [
      "\u001b[1;31m---------------------------------------------------------------------------\u001b[0m",
      "\u001b[1;31mTypeError\u001b[0m                                 Traceback (most recent call last)",
      "\u001b[1;32m<ipython-input-34-06611a19269c>\u001b[0m in \u001b[0;36m<module>\u001b[1;34m\u001b[0m\n\u001b[1;32m----> 1\u001b[1;33m \u001b[0mdescribe\u001b[0m\u001b[1;33m(\u001b[0m\u001b[1;33m)\u001b[0m\u001b[1;33m\u001b[0m\u001b[1;33m\u001b[0m\u001b[0m\n\u001b[0m",
      "\u001b[1;31mTypeError\u001b[0m: describe() missing 1 required positional argument: 'type'"
     ]
    }
   ],
   "source": [
    "describe()"
   ]
  },
  {
   "cell_type": "code",
   "execution_count": 37,
   "metadata": {},
   "outputs": [
    {
     "name": "stdout",
     "output_type": "stream",
     "text": [
      "\n",
      " I want to go {type}\n",
      "My {type}'s brand is {name.title()}.\n"
     ]
    }
   ],
   "source": [
    "#Use the Function\n",
    "describe(\"Toyota\",\"Series B\")"
   ]
  },
  {
   "cell_type": "code",
   "execution_count": 23,
   "metadata": {},
   "outputs": [
    {
     "name": "stdout",
     "output_type": "stream",
     "text": [
      "\n",
      " I have a Ford\n",
      "My Ford's brand is Series A.\n"
     ]
    }
   ],
   "source": [
    "describe(\"Ford\")"
   ]
  },
  {
   "cell_type": "code",
   "execution_count": null,
   "metadata": {},
   "outputs": [],
   "source": [
    "#Define a Function to auto-correct a name\n",
    "def autocorrect(firstname,lastname):\n",
    "    fullname = f\"{firstname} {lastname}\"\n",
    "    return fullname.title()"
   ]
  },
  {
   "cell_type": "code",
   "execution_count": null,
   "metadata": {},
   "outputs": [],
   "source": [
    "#Use the function and store the return value in a variable\n",
    "mention = autocorrect(\"yemi\", \"seun\")\n",
    "mention"
   ]
  },
  {
   "cell_type": "code",
   "execution_count": null,
   "metadata": {},
   "outputs": [],
   "source": [
    "#Assign a function into another function name\n",
    "auto_name = autocorrect"
   ]
  },
  {
   "cell_type": "code",
   "execution_count": null,
   "metadata": {},
   "outputs": [],
   "source": [
    "#Use the new function name\n",
    "auto_name (\"Philip\", \"adewale\")"
   ]
  },
  {
   "cell_type": "code",
   "execution_count": null,
   "metadata": {},
   "outputs": [],
   "source": [
    "#This is a function that uses dictionary\n",
    "def auto(firstname,lastname):\n",
    "    fullname = {\"first\":firstname,\"Second\":lastname}\n",
    "    return fullname"
   ]
  },
  {
   "cell_type": "code",
   "execution_count": null,
   "metadata": {},
   "outputs": [],
   "source": [
    "mention = auto(\"yemi\", \"oyeleke\")\n",
    "mention"
   ]
  },
  {
   "cell_type": "code",
   "execution_count": 17,
   "metadata": {},
   "outputs": [],
   "source": [
    "#Define a function that expects an assigned value\n",
    "def build(firstname,lastname,age = None):\n",
    "    person = {\"first\":firstname,\"second\":lastname,\"age\":age}\n",
    "    return person"
   ]
  },
  {
   "cell_type": "code",
   "execution_count": 18,
   "metadata": {},
   "outputs": [
    {
     "data": {
      "text/plain": [
       "{'first': 'yemi', 'second': 'seun', 'age': 27}"
      ]
     },
     "execution_count": 18,
     "metadata": {},
     "output_type": "execute_result"
    }
   ],
   "source": [
    "build(\"yemi\", \"seun\",age=27)"
   ]
  },
  {
   "cell_type": "code",
   "execution_count": 19,
   "metadata": {},
   "outputs": [
    {
     "data": {
      "text/plain": [
       "{'first': 'yemi', 'second': 'seun', 'age': 21}"
      ]
     },
     "execution_count": 19,
     "metadata": {},
     "output_type": "execute_result"
    }
   ],
   "source": [
    "build(\"yemi\", \"seun\",age=21)"
   ]
  },
  {
   "cell_type": "code",
   "execution_count": 43,
   "metadata": {},
   "outputs": [],
   "source": [
    "#Define a function that greets users using a List\n",
    "def greet_user(names):\n",
    "    for i in names:\n",
    "        msg = f\"Hello, {i.title()}\"\n",
    "        print(msg)"
   ]
  },
  {
   "cell_type": "code",
   "execution_count": 44,
   "metadata": {},
   "outputs": [
    {
     "name": "stdout",
     "output_type": "stream",
     "text": [
      "Hello, Adamu\n",
      "Hello, Esther\n",
      "Hello, Adetutu\n",
      "Hello, Matthew\n",
      "Hello, Nicole\n"
     ]
    }
   ],
   "source": [
    "#Define a list of names to use for the function for the List\n",
    "mynames = [\"Adamu\",\"Esther\",\"Adetutu\",\"Matthew\",\"Nicole\"]\n",
    "#Use the function\n",
    "greet_user(mynames)"
   ]
  },
  {
   "cell_type": "code",
   "execution_count": 55,
   "metadata": {},
   "outputs": [],
   "source": [
    "#Define a function that greets users using a dictionary\n",
    "def greet_user(names):\n",
    "    for i,j in names.items():\n",
    "        msg = f\"{i.title()},hope you are fine {j.title()}\"\n",
    "        print(msg)"
   ]
  },
  {
   "cell_type": "code",
   "execution_count": 56,
   "metadata": {},
   "outputs": [],
   "source": [
    "mynames = {\n",
    "'jen': 'today',\n",
    "'sarah': 'yesterday',\n",
    "'edward': 'on Monday',\n",
    "'phil': 'last Sunday'}"
   ]
  },
  {
   "cell_type": "code",
   "execution_count": 57,
   "metadata": {},
   "outputs": [
    {
     "name": "stdout",
     "output_type": "stream",
     "text": [
      "Jen,hope you are fine Today\n",
      "Sarah,hope you are fine Yesterday\n",
      "Edward,hope you are fine On Monday\n",
      "Phil,hope you are fine Last Sunday\n"
     ]
    }
   ],
   "source": [
    "greet_user(mynames)"
   ]
  },
  {
   "cell_type": "code",
   "execution_count": null,
   "metadata": {},
   "outputs": [],
   "source": [
    "#Define a function with Global Variable\n",
    "make = \"Volkswagon\"\n",
    "\n",
    "model = \"GT\""
   ]
  },
  {
   "cell_type": "code",
   "execution_count": null,
   "metadata": {},
   "outputs": [],
   "source": [
    "def print_car():\n",
    "    \n",
    "    print(\"Make:\", make)\n",
    "    print(\"Model:\", model)"
   ]
  },
  {
   "cell_type": "code",
   "execution_count": null,
   "metadata": {},
   "outputs": [],
   "source": [
    "print_car()"
   ]
  },
  {
   "cell_type": "code",
   "execution_count": null,
   "metadata": {},
   "outputs": [],
   "source": [
    "def print_car():\n",
    "    \n",
    "    model = \"GTI\"\n",
    "\n",
    "    print(\"Make:\", make)\n",
    "    print(\"Model:\", model)"
   ]
  },
  {
   "cell_type": "code",
   "execution_count": null,
   "metadata": {},
   "outputs": [],
   "source": [
    "print_car()"
   ]
  },
  {
   "cell_type": "code",
   "execution_count": null,
   "metadata": {},
   "outputs": [],
   "source": [
    "make, model"
   ]
  },
  {
   "cell_type": "code",
   "execution_count": null,
   "metadata": {},
   "outputs": [],
   "source": [
    "def print_car():\n",
    "    model = \"GT\"\n",
    "    model = model + \"I\"\n",
    "    \n",
    "    print(\"Make:\", make)\n",
    "    print(\"Model:\", model)"
   ]
  },
  {
   "cell_type": "code",
   "execution_count": null,
   "metadata": {},
   "outputs": [],
   "source": [
    "print_car()"
   ]
  },
  {
   "cell_type": "code",
   "execution_count": null,
   "metadata": {},
   "outputs": [],
   "source": [
    "# Global variable will remian unchanged\n",
    "make, model"
   ]
  },
  {
   "cell_type": "code",
   "execution_count": null,
   "metadata": {},
   "outputs": [],
   "source": [
    "# Argument Reassignment\n",
    "popular_story_books = [\"Geronimo Stilton\",\n",
    "                       \"Thea Stilton\",\n",
    "                       \"Timmy Failure\",\n",
    "                       \"Asterix\",\n",
    "                       \"Tintin\"]"
   ]
  },
  {
   "cell_type": "code",
   "execution_count": null,
   "metadata": {},
   "outputs": [],
   "source": [
    "def modify_list(popular_story_books):\n",
    "    popular_story_books.append(\"Dr.Seuss\")"
   ]
  },
  {
   "cell_type": "code",
   "execution_count": null,
   "metadata": {},
   "outputs": [],
   "source": [
    "modify_list(popular_story_books)"
   ]
  },
  {
   "cell_type": "code",
   "execution_count": null,
   "metadata": {},
   "outputs": [],
   "source": [
    "popular_story_books"
   ]
  },
  {
   "cell_type": "code",
   "execution_count": null,
   "metadata": {},
   "outputs": [],
   "source": [
    "# Using keyword arguments\n",
    "\n",
    "def car_parts(name, brand, hp, engine, zero_to_sixty, top_speed, price):\n",
    "    \n",
    "    other_details = hp, engine, top_speed, price\n",
    "    \n",
    "    print(\"Name of the car :\", name)\n",
    "    print(\"Brand :\", brand,\"\\n0 to 60:\", zero_to_sixty)\n",
    "    print(\"Price :\", price)\n",
    "    print(\"Remaining details (hp, engine, top_speed, price):\", other_details)"
   ]
  },
  {
   "cell_type": "code",
   "execution_count": null,
   "metadata": {},
   "outputs": [],
   "source": [
    "car_parts(\"Aventador\",\n",
    "          \"Lamborghini\",\n",
    "          544,\n",
    "          7.0,\n",
    "          2.9,\n",
    "          220,\n",
    "          261000)"
   ]
  },
  {
   "cell_type": "code",
   "execution_count": null,
   "metadata": {},
   "outputs": [],
   "source": [
    "def car_parts(name=\"Mustang\", brand=\"Ford\", \n",
    "              hp=295, engine=5.0, \n",
    "              zero_to_sixty=8.0, \n",
    "              top_speed=200, price=35000):\n",
    "    \n",
    "    other_details = hp, engine, top_speed, price\n",
    "    \n",
    "    print(\"Name of the car :\", name)\n",
    "    print(\"Brand :\", brand,\"\\n0 to 60:\", zero_to_sixty)\n",
    "    print(\"Price :\", price)\n",
    "    print(\"Remaining details (hp, engine, top_speed, price):\", other_details)"
   ]
  },
  {
   "cell_type": "code",
   "execution_count": null,
   "metadata": {},
   "outputs": [],
   "source": [
    "car_parts()"
   ]
  },
  {
   "cell_type": "code",
   "execution_count": null,
   "metadata": {},
   "outputs": [],
   "source": [
    "car_parts(name=\"Viper\", brand=\"Dodge\")"
   ]
  },
  {
   "cell_type": "code",
   "execution_count": null,
   "metadata": {},
   "outputs": [],
   "source": []
  },
  {
   "cell_type": "code",
   "execution_count": 62,
   "metadata": {},
   "outputs": [],
   "source": [
    "#Define a function with input\n",
    "def hello():\n",
    "  name = str(input(\"Enter your name: \"))\n",
    "  if name:\n",
    "    print (\"Hello \" + str(name))\n",
    "  else:\n",
    "    print(\"Hello What is your name please\") \n",
    "  return"
   ]
  },
  {
   "cell_type": "code",
   "execution_count": 63,
   "metadata": {},
   "outputs": [
    {
     "name": "stdin",
     "output_type": "stream",
     "text": [
      "Enter your name:  \n"
     ]
    },
    {
     "name": "stdout",
     "output_type": "stream",
     "text": [
      "Hello What is your name please\n"
     ]
    }
   ],
   "source": [
    "hello()"
   ]
  },
  {
   "cell_type": "code",
   "execution_count": 68,
   "metadata": {},
   "outputs": [
    {
     "name": "stdout",
     "output_type": "stream",
     "text": [
      "Printing, T-Shirt\n",
      "Printing, Hand Band\n",
      "Printing, Keyholder\n",
      "Printing, Face Cap\n",
      "\n",
      " The following jobs have been completed: \n",
      "T-Shirt\n",
      "Hand Band\n",
      "Keyholder\n",
      "Face Cap\n",
      "Your Job Printed at 2023-02-04 20:32:49.241945\n"
     ]
    }
   ],
   "source": [
    "#Define inbuilt-function that monitor print jobs\n",
    "import time\n",
    "import datetime\n",
    "\n",
    "unprinted_designs = [\"Face Cap\",\"Keyholder\",\"Hand Band\",\"T-Shirt\"]\n",
    "completed_designs = []\n",
    "\n",
    "while unprinted_designs:\n",
    "    time.sleep(1)\n",
    "    current_design = unprinted_designs.pop()\n",
    "    print(f\"Printing, {current_design}\")\n",
    "    completed_designs.append(current_design)\n",
    "\n",
    "print(\"\\n The following jobs have been completed: \")\n",
    "for jobs in completed_designs:\n",
    "    print(jobs)\n",
    "\n",
    "date = datetime.datetime.now()\n",
    "print(f'Your Job Printed at {date}')"
   ]
  },
  {
   "cell_type": "code",
   "execution_count": 79,
   "metadata": {},
   "outputs": [
    {
     "name": "stdout",
     "output_type": "stream",
     "text": [
      "Searching for: Dimkpa\n",
      "Searching for: Olufemi\n",
      "Searching for: Matthew\n",
      "Searching for: Chidera\n",
      "\n",
      " The listed missing persons have been found: \n",
      "Dimkpa\n",
      "Olufemi\n",
      "Matthew\n",
      "Chidera\n"
     ]
    }
   ],
   "source": [
    "import time\n",
    "listed_persons = ['Chidera', 'Matthew', 'Olufemi', 'Dimkpa']\n",
    "now_found = []\n",
    "\n",
    "while listed_persons:\n",
    "    time.sleep(2)\n",
    "    being_found = listed_persons.pop()\n",
    "    print(f'Searching for: {being_found}')\n",
    "    now_found.append(being_found)\n",
    "\n",
    "print('\\n The listed missing persons have been found: ')\n",
    "for y in now_found:\n",
    "    print(y)"
   ]
  },
  {
   "cell_type": "code",
   "execution_count": null,
   "metadata": {},
   "outputs": [],
   "source": []
  },
  {
   "cell_type": "code",
   "execution_count": null,
   "metadata": {},
   "outputs": [],
   "source": []
  },
  {
   "cell_type": "markdown",
   "metadata": {},
   "source": [
    "<div class=\"alert alert-info\" style=\"background-color:#E88209; color:white; padding:0px 10px; border-radius:5px;\">\n",
    "  <h2 style='margin:10px 5px'>Making Pizza</h2>\n",
    "</div>"
   ]
  },
  {
   "cell_type": "code",
   "execution_count": null,
   "metadata": {},
   "outputs": [],
   "source": [
    "#Write a Function that is flexible, * denotes more values can be added to the function\n",
    "def make_pizza(*toppings):\n",
    "    print(toppings)"
   ]
  },
  {
   "cell_type": "code",
   "execution_count": null,
   "metadata": {},
   "outputs": [],
   "source": [
    "make_pizza(\"pepperoni\",\"suya\",\"chicken spice\",\"pepper\",\"Ginger\",\"Pie\")"
   ]
  },
  {
   "cell_type": "code",
   "execution_count": null,
   "metadata": {},
   "outputs": [],
   "source": [
    "#Define another function using the * notation\n",
    "def make_pizza(*toppings):\n",
    "    for tops in toppings:\n",
    "        time.sleep(3)\n",
    "        print(f\"Ordering the following: - {tops}\")"
   ]
  },
  {
   "cell_type": "code",
   "execution_count": null,
   "metadata": {},
   "outputs": [],
   "source": [
    "make_pizza(\"pepperoni pizza\",\"suya pizza\",\"catfish pizza\")"
   ]
  },
  {
   "cell_type": "code",
   "execution_count": null,
   "metadata": {},
   "outputs": [],
   "source": [
    "#Define another function with the * notation and one other argument inside the function\n",
    "def make_pizza(size,*toppings):\n",
    "    for tops in toppings:\n",
    "        time.sleep(4)\n",
    "        print(f\"Ordering a {size} inches Pizza with the following toppings: - {tops}\")\n",
    "        time.sleep(3)\n",
    "    print (\"Your order is now Completed, Please make payment\")"
   ]
  },
  {
   "cell_type": "code",
   "execution_count": null,
   "metadata": {},
   "outputs": [],
   "source": [
    "make_pizza(12,\"pepperoni\",\"suya\",\"catfish\")"
   ]
  },
  {
   "cell_type": "code",
   "execution_count": null,
   "metadata": {},
   "outputs": [],
   "source": []
  },
  {
   "cell_type": "code",
   "execution_count": null,
   "metadata": {},
   "outputs": [],
   "source": [
    "#If the number of arguments is unknown, add a * before the parameter name:\n",
    "\n",
    "def my_function(*kids):\n",
    "  print(\"My youngest child is \" + kids[1])\n",
    "\n",
    "my_function(\"Emmy\", \"Tobias\", \"Linus\")"
   ]
  },
  {
   "cell_type": "code",
   "execution_count": null,
   "metadata": {},
   "outputs": [],
   "source": [
    "#Using Function to Re-Write the Guess Game we wrote with Conditional statements earlier\n",
    "\n",
    "import random\n",
    "\n",
    "def run_game():\n",
    "    number = random.randint(1, 20)\n",
    "    max_guesses = 3\n",
    "    current_guess = 0\n",
    "\n",
    "    print(\"I'm thinking of a number between 1 and 20\")\n",
    "\n",
    "    while True:\n",
    "        guess = int(input(\"Guess a number: \"))\n",
    "        current_guess += 1\n",
    "        if guess == number:\n",
    "            print(\"That's right!\")\n",
    "            return\n",
    "        elif current_guess == max_guesses:\n",
    "            print(\"Nope! It was \" + str(number))\n",
    "            return\n",
    "        elif number < guess:\n",
    "            print(\"Lower\")\n",
    "        else:\n",
    "            print(\"Higher\")\n",
    "        print('You have {} guesses left'.format(max_guesses - current_guess))"
   ]
  },
  {
   "cell_type": "code",
   "execution_count": null,
   "metadata": {},
   "outputs": [],
   "source": [
    "#Now run the game\n",
    "run_game()"
   ]
  },
  {
   "cell_type": "code",
   "execution_count": null,
   "metadata": {},
   "outputs": [],
   "source": [
    "#  Designing a Simple Calculator (one function can become an argument for another function)\n",
    "def add(n1,n2):\n",
    "    return n1 + n2\n",
    "\n",
    "def substract(n1,n2):\n",
    "    return n1 - n2\n",
    "\n",
    "def multiply(n1,n2):\n",
    "    return n1*n2\n",
    "\n",
    "def divide(n1,n2):\n",
    "    return n1/n2\n",
    "\n",
    "def calculator(operation,n1,n2):\n",
    "    return operation(n1,n2) #using operation argument as function"
   ]
  },
  {
   "cell_type": "code",
   "execution_count": null,
   "metadata": {},
   "outputs": [],
   "source": [
    "calculator(multiply,10,20)"
   ]
  },
  {
   "cell_type": "code",
   "execution_count": null,
   "metadata": {},
   "outputs": [],
   "source": [
    "# Define a Nested Functions\n",
    "\n",
    "def greet(name=None,shout=False):\n",
    "    def greeting():\n",
    "        if name:\n",
    "            return f\"Hello {name}\"\n",
    "        else:\n",
    "            return \"Hello\"\n",
    "    if shout:\n",
    "        print(greeting().upper())\n",
    "    else:\n",
    "        print(greeting())"
   ]
  },
  {
   "cell_type": "code",
   "execution_count": null,
   "metadata": {},
   "outputs": [],
   "source": [
    "greet(\"yemi\",True)"
   ]
  },
  {
   "cell_type": "code",
   "execution_count": null,
   "metadata": {},
   "outputs": [],
   "source": []
  },
  {
   "cell_type": "markdown",
   "metadata": {},
   "source": [
    "<div class=\"alert alert-info\" style=\"background-color:#001469; color:white; padding:0px 10px; border-radius:5px;\">\n",
    "  <h2 style='margin:10px 5px'>USING LAMBDA FUNCTION</h2>\n",
    "</div>\n"
   ]
  },
  {
   "cell_type": "markdown",
   "metadata": {},
   "source": [
    "A lambda function in Python is a small, anonymous (unnamed) function defined using the lambda keyword. It is typically used when you need a simple function for a short period and don't want to formally define it using def."
   ]
  },
  {
   "cell_type": "code",
   "execution_count": null,
   "metadata": {},
   "outputs": [],
   "source": [
    "multiply_by_2 = lambda x: x*2"
   ]
  },
  {
   "cell_type": "code",
   "execution_count": null,
   "metadata": {},
   "outputs": [],
   "source": [
    "multiply_by_2(4)"
   ]
  },
  {
   "cell_type": "code",
   "execution_count": null,
   "metadata": {},
   "outputs": [],
   "source": [
    "multiply_by_2(100)"
   ]
  },
  {
   "cell_type": "code",
   "execution_count": null,
   "metadata": {},
   "outputs": [],
   "source": [
    "brand = \"Volkswagon\"\n",
    "car = \"GTI\"\n",
    "\n",
    "full_car_name = lambda brand, car: brand + \" \" + car"
   ]
  },
  {
   "cell_type": "code",
   "execution_count": null,
   "metadata": {},
   "outputs": [],
   "source": [
    "full_car_name(brand, car)"
   ]
  },
  {
   "cell_type": "code",
   "execution_count": null,
   "metadata": {},
   "outputs": [],
   "source": [
    "fullname = full_car_name(\"Ford\", \"Mustang\")\n",
    "\n",
    "fullname"
   ]
  },
  {
   "cell_type": "code",
   "execution_count": null,
   "metadata": {},
   "outputs": [],
   "source": [
    "days = [\"Monday\", \"Tuesday\",\n",
    "        \"Wednesday\", \"Thursday\",\n",
    "        \"Friday\", \"Saturday\", \"Sunday\"]"
   ]
  },
  {
   "cell_type": "code",
   "execution_count": null,
   "metadata": {},
   "outputs": [],
   "source": [
    "holidays = {\"Saturday\",\"Sunday\"}"
   ]
  },
  {
   "cell_type": "code",
   "execution_count": null,
   "metadata": {},
   "outputs": [],
   "source": [
    "# using filter argument\n",
    "filter(lambda day: day not in holidays, days)"
   ]
  },
  {
   "cell_type": "code",
   "execution_count": null,
   "metadata": {},
   "outputs": [],
   "source": [
    "weekdays_list = list(filter(lambda day: day not in holidays, days))\n",
    "\n",
    "weekdays_list"
   ]
  },
  {
   "cell_type": "code",
   "execution_count": null,
   "metadata": {},
   "outputs": [],
   "source": [
    "# With sorted() and key argument:\n",
    "students = [(\"John\", 75), (\"Alice\", 85), (\"Bob\", 65)]\n",
    "sorted_students = sorted(students, key=lambda x: x[1])  # Sort by score"
   ]
  }
 ],
 "metadata": {
  "kernelspec": {
   "display_name": "Python 3",
   "language": "python",
   "name": "python3"
  },
  "language_info": {
   "codemirror_mode": {
    "name": "ipython",
    "version": 3
   },
   "file_extension": ".py",
   "mimetype": "text/x-python",
   "name": "python",
   "nbconvert_exporter": "python",
   "pygments_lexer": "ipython3",
   "version": "3.8.5"
  }
 },
 "nbformat": 4,
 "nbformat_minor": 4
}
