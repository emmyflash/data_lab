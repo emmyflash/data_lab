{
 "cells": [
  {
   "cell_type": "markdown",
   "id": "fbe438dc",
   "metadata": {},
   "source": [
    "<div style=\"background-color:#001469; color:white; padding:10px; border-radius:5px;\">\n",
    "  <h1>Class: Object-Oriented Programming (OOP) and Inheritance in Python</h1>\n",
    "</div>\n",
    "In this course, you will learn the basics of classes, objects, and inheritance, and how to use them to write more organized and reusable code."
   ]
  },
  {
   "cell_type": "markdown",
   "id": "a57af65c",
   "metadata": {},
   "source": [
    "<div style=\"background-color:#0A8754; color:white; padding:10px; border-radius:5px;\">\n",
    "  <h2>1. Introduction to OOP</h2>\n",
    "</div>\n",
    "Object-Oriented Programming (OOP) is a way of structuring code by bundling related properties and behaviors into individual objects. In Python, almost everything is an object, and OOP helps you write code that is easier to understand, maintain, and reuse.\n",
    "\n",
    "**Key Concepts:**\n",
    "- **Class:** Blueprint for creating objects.\n",
    "- **Object:** An instance of a class.\n",
    "- **Attribute:** Variable that belongs to an object or class.\n",
    "- **Method:** Function that belongs to an object or class."
   ]
  },
  {
   "cell_type": "code",
   "execution_count": 1,
   "id": "fc4b5f3d",
   "metadata": {},
   "outputs": [
    {
     "name": "stdout",
     "output_type": "stream",
     "text": [
      "<class 'int'>\n"
     ]
    }
   ],
   "source": [
    "# Example: Everything is an object in Python\n",
    "x = 5\n",
    "print(type(x))"
   ]
  },
  {
   "cell_type": "markdown",
   "id": "d4ab6439",
   "metadata": {},
   "source": [
    "<div style=\"background-color:#0A8754; color:white; padding:10px; border-radius:5px;\">\n",
    "  <h2>2. Defining Classes and Creating Objects</h2>\n",
    "</div>\n",
    "A class is like a blueprint for creating objects. An object is an instance of a class. Let's see how to define a simple class and create an object from it."
   ]
  },
  {
   "cell_type": "code",
   "execution_count": 2,
   "id": "273c8371",
   "metadata": {},
   "outputs": [
    {
     "name": "stdout",
     "output_type": "stream",
     "text": [
      "<class '__main__.Dog'>\n"
     ]
    }
   ],
   "source": [
    "# Defining a simple class\n",
    "class Dog:\n",
    "    pass\n",
    "\n",
    "# Creating an object (instance) of the class\n",
    "my_dog = Dog()\n",
    "print(type(my_dog))"
   ]
  },
  {
   "cell_type": "markdown",
   "id": "5e79710a",
   "metadata": {},
   "source": [
    "<div style=\"background-color:#0A8754; color:white; padding:10px; border-radius:5px;\">\n",
    "  <h2>3. Instance Attributes and Methods</h2>\n",
    "</div>\n",
    "You can define attributes (variables) and methods (functions) inside a class. Attributes store data, and methods define behaviors.\n",
    "\n",
    "Let's add some attributes and a method to our Dog class."
   ]
  },
  {
   "cell_type": "code",
   "execution_count": 3,
   "id": "d54e22ac",
   "metadata": {},
   "outputs": [
    {
     "name": "stdout",
     "output_type": "stream",
     "text": [
      "Buddy\n",
      "3\n",
      "Buddy says woof!\n"
     ]
    }
   ],
   "source": [
    "class Dog:\n",
    "    def __init__(self, name, age):\n",
    "        self.name = name\n",
    "        self.age = age\n",
    "    def bark(self):\n",
    "        print(f\"{self.name} says woof!\")\n",
    "\n",
    "my_dog = Dog(\"Buddy\", 3)\n",
    "print(my_dog.name)\n",
    "print(my_dog.age)\n",
    "my_dog.bark()"
   ]
  },
  {
   "cell_type": "markdown",
   "id": "957d04ff",
   "metadata": {},
   "source": [
    "<div style=\"background-color:#0A8754; color:white; padding:10px; border-radius:5px;\">\n",
    "  <h2>4. The <code>__init__</code> Constructor</h2>\n",
    "</div>\n",
    "The `__init__` method is a special method that is called when an object is created. It is used to initialize the object's attributes.\n",
    "\n",
    "**Example:**"
   ]
  },
  {
   "cell_type": "code",
   "execution_count": 4,
   "id": "6d96d6e9",
   "metadata": {},
   "outputs": [
    {
     "name": "stdout",
     "output_type": "stream",
     "text": [
      "Alice A\n"
     ]
    }
   ],
   "source": [
    "class Student:\n",
    "    def __init__(self, name, grade):\n",
    "        self.name = name\n",
    "        self.grade = grade\n",
    "\n",
    "student1 = Student(\"Alice\", \"A\")\n",
    "print(student1.name, student1.grade)"
   ]
  },
  {
   "cell_type": "markdown",
   "id": "a58e6881",
   "metadata": {},
   "source": [
    "<div style=\"background-color:#0A8754; color:white; padding:10px; border-radius:5px;\">\n",
    "  <h2>5. Inheritance: Reusing Code</h2>\n",
    "</div>\n",
    "Inheritance allows you to define a class that inherits all the methods and properties from another class. This helps you reuse code and create a hierarchy of classes.\n",
    "\n",
    "**Example:**\n",
    "- The `Cat` class inherits from the `Animal` class and overrides the `speak` method."
   ]
  },
  {
   "cell_type": "code",
   "execution_count": null,
   "id": "cbc61b58",
   "metadata": {},
   "outputs": [],
   "source": [
    "# Parent class\n",
    "class Animal:\n",
    "    def __init__(self, name):\n",
    "        self.name = name\n",
    "    def speak(self):\n",
    "        print(f\"{self.name} makes a sound.\")\n",
    "\n",
    "# Child class\n",
    "class Cat(Animal):\n",
    "    def speak(self):\n",
    "        print(f\"{self.name} says meow!\")\n",
    "\n",
    "cat1 = Cat(\"Whiskers\")\n",
    "cat1.speak()"
   ]
  },
  {
   "cell_type": "markdown",
   "id": "3564708f",
   "metadata": {},
   "source": [
    "<div style=\"background-color:#0A8754; color:white; padding:10px; border-radius:5px;\">\n",
    "  <h2>6. Method Overriding</h2>\n",
    "</div>\n",
    "A child class can override methods from the parent class to provide specific behavior. This is useful when you want a subclass to behave differently from its parent class."
   ]
  },
  {
   "cell_type": "code",
   "execution_count": null,
   "id": "fcbaeed1",
   "metadata": {},
   "outputs": [],
   "source": [
    "class Bird(Animal):\n",
    "    def speak(self):\n",
    "        print(f\"{self.name} chirps!\")\n",
    "\n",
    "bird1 = Bird(\"Tweety\")\n",
    "bird1.speak()"
   ]
  },
  {
   "cell_type": "markdown",
   "id": "1b610f3a",
   "metadata": {},
   "source": [
    "<div style=\"background-color:#0A8754; color:white; padding:10px; border-radius:5px;\">\n",
    "  <h2>7. Using <code>super()</code></h2>\n",
    "</div>\n",
    "The `super()` function allows you to call methods from the parent class. This is useful when you want to extend the functionality of the parent class in the child class."
   ]
  },
  {
   "cell_type": "code",
   "execution_count": null,
   "id": "489a6b84",
   "metadata": {},
   "outputs": [],
   "source": [
    "class Dog(Animal):\n",
    "    def __init__(self, name, breed):\n",
    "        super().__init__(name)\n",
    "        self.breed = breed\n",
    "    def speak(self):\n",
    "        super().speak()\n",
    "        print(f\"{self.name} barks!\")\n",
    "\n",
    "dog1 = Dog(\"Rex\", \"German Shepherd\")\n",
    "dog1.speak()"
   ]
  },
  {
   "cell_type": "markdown",
   "id": "ae6d7efd",
   "metadata": {},
   "source": [
    "<div style=\"background-color:#E88209; color:white; padding:10px; border-radius:5px;\">\n",
    "  <h2>8. Practice: Building a Simple Inheritance Hierarchy</h2>\n",
    "</div>\n",
    "Let's build a more complete example to help you understand OOP and inheritance in a real-world context. Follow the steps below and try to create your own objects at the end!\n",
    "\n",
    "**Steps:**\n",
    "1. Define a base class `Person` with name and age attributes, and a method to display info.\n",
    "2. Define a `Student` class that inherits from `Person`, adds a grade attribute, and overrides `display_info`.\n",
    "3. Define a `Teacher` class that inherits from `Person`, adds a subject attribute, and overrides `display_info`.\n",
    "4. Create objects and test the classes.\n",
    "5. Practice: Create your own `Student` and `Teacher` objects below and call their `display_info` methods."
   ]
  },
  {
   "cell_type": "code",
   "execution_count": null,
   "id": "96e9c66e",
   "metadata": {},
   "outputs": [],
   "source": [
    "# Step 1: Define a base class Person with name and age attributes, and a method to display info\n",
    "class Person:\n",
    "    def __init__(self, name, age):\n",
    "        self.name = name\n",
    "        self.age = age\n",
    "    def display_info(self):\n",
    "        print(f\"Name: {self.name}, Age: {self.age}\")\n",
    "\n",
    "# Step 2: Define a Student class that inherits from Person, adds a grade attribute, and overrides display_info\n",
    "class Student(Person):\n",
    "    def __init__(self, name, age, grade):\n",
    "        super().__init__(name, age)\n",
    "        self.grade = grade\n",
    "    def display_info(self):\n",
    "        print(f\"Student Name: {self.name}, Age: {self.age}, Grade: {self.grade}\")\n",
    "\n",
    "# Step 3: Define a Teacher class that inherits from Person, adds a subject attribute, and overrides display_info\n",
    "class Teacher(Person):\n",
    "    def __init__(self, name, age, subject):\n",
    "        super().__init__(name, age)\n",
    "        self.subject = subject\n",
    "    def display_info(self):\n",
    "        print(f\"Teacher Name: {self.name}, Age: {self.age}, Subject: {self.subject}\")\n",
    "\n",
    "# Step 4: Create objects and test the classes\n",
    "person1 = Person(\"Alex\", 40)\n",
    "student1 = Student(\"Mary\", 16, \"A\")\n",
    "teacher1 = Teacher(\"Mr. John\", 35, \"Mathematics\")\n",
    "\n",
    "person1.display_info()\n",
    "student1.display_info()\n",
    "teacher1.display_info()\n",
    "\n",
    "# Step 5: Practice - Create your own Student and Teacher objects below and call their display_info methods\n",
    "# Example:\n",
    "# my_student = Student(\"YourName\", your_age, \"your_grade\")\n",
    "# my_student.display_info()"
   ]
  }
 ],
 "metadata": {
  "kernelspec": {
   "display_name": "base",
   "language": "python",
   "name": "python3"
  },
  "language_info": {
   "codemirror_mode": {
    "name": "ipython",
    "version": 3
   },
   "file_extension": ".py",
   "mimetype": "text/x-python",
   "name": "python",
   "nbconvert_exporter": "python",
   "pygments_lexer": "ipython3",
   "version": "3.12.4"
  }
 },
 "nbformat": 4,
 "nbformat_minor": 5
}
