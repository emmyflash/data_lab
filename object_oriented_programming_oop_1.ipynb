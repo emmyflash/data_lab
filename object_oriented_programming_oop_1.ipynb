{
  "metadata": {
    "kernelspec": {
      "language": "python",
      "display_name": "Python 3",
      "name": "python3"
    },
    "language_info": {
      "name": "python",
      "version": "3.10.12",
      "mimetype": "text/x-python",
      "codemirror_mode": {
        "name": "ipython",
        "version": 3
      },
      "pygments_lexer": "ipython3",
      "nbconvert_exporter": "python",
      "file_extension": ".py"
    },
    "kaggle": {
      "accelerator": "none",
      "dataSources": [],
      "dockerImageVersionId": 30886,
      "isInternetEnabled": true,
      "language": "python",
      "sourceType": "notebook",
      "isGpuEnabled": false
    },
    "colab": {
      "provenance": []
    }
  },
  "nbformat_minor": 0,
  "nbformat": 4,
  "cells": [
    {
      "cell_type": "markdown",
      "source": [
        "🎯 Learning Objectives:\n",
        "\n",
        "  🔹 Understand Object-Oriented Programming core concepts and applications\n",
        "\n",
        "  🏗️ Master OOP Principles: encapsulation, inheritance, polymorphism, abstraction\n",
        "\n",
        "  ⚡ Create Python functions with proper structure, parameters, and documentation\n",
        "\n",
        "  🚀 Build a practical program combining OOP and functional programming concepts"
      ],
      "metadata": {
        "id": "E_SjWMSPGf-h"
      }
    },
    {
      "cell_type": "markdown",
      "source": [
        "# 🚀 Object-Oriented Programming (OOP)\n",
        "\n",
        "Object-Oriented Programming (OOP) focuses on **breaking down a task** into units known as **objects**. Each object includes:\n",
        "\n",
        "- 📊 **Variables (Data)** – Stores information related to the object.  \n",
        "- ⚙️ **Subroutines (Methods)** – Defines the object's behavior and actions.  \n",
        "\n",
        "By organizing code into **objects**, OOP enhances **modularity, reusability, and maintainability**. 🚀\n",
        "  \n",
        "\n",
        "## 🔬 Example: Patient Object  \n",
        "\n",
        "A `Patient` object might have:  \n",
        "\n",
        "### **📋 Properties:**  \n",
        "- 🏷️ `name`  \n",
        "- 🎂 `age`  \n",
        "- 🩸 `blood type`  \n",
        "- 💊 `current medications`  \n",
        "\n",
        "### **⚙️ Behaviors:**  \n",
        "- 🏥 `updateVitals()`  \n",
        "- 🚨 `addAllergy()`  \n",
        "- 💉 `prescribeMedication()`  \n"
      ],
      "metadata": {
        "id": "ukrk_rMIGf-k"
      }
    },
    {
      "cell_type": "markdown",
      "source": [
        "## ⭐ Principles of OOP  \n",
        "\n",
        "Object-Oriented Programming (OOP) is built on four fundamental principles that help structure code efficiently.  \n",
        "\n",
        "✅ **Readable** – Easy to understand and follow 📖  \n",
        "✅ **Reusable** – Avoids repeating the same code 🔄  \n",
        "✅ **Scalable** – Easy to add new features 📈  \n",
        "✅ **Efficient** – Reduces errors and simplifies maintenance ⚙️  "
      ],
      "metadata": {
        "id": "zIgzZlJ3Gf-k"
      }
    },
    {
      "cell_type": "markdown",
      "source": [
        "# 🔍 Overview of Objects  \n",
        "\n",
        "Objects are the **fundamental units** of a program that **simulate real-world entities**.  \n",
        "\n",
        "- 🏗 **Modular Design** – A program is divided into multiple objects, each representing a real-world counterpart.  \n",
        "- 🔄 **Interaction** – Objects communicate through **messages** to accomplish tasks.  \n",
        "\n",
        "## 🏗️ Structure of Objects  \n",
        "\n",
        "Objects have a **standard structure** consisting of **attributes** and **methods (functions)**.  \n",
        "\n",
        "- 📊 **Attributes** – Define the object's characteristics (data/variables).  \n",
        "- ⚙️ **Methods** – Define the object's functionalities (behaviors).  \n",
        "\n",
        "## 🏥 Examples  \n",
        "\n",
        "### **Patient**  \n",
        "- **Attributes** – Name, age, medical history, blood type, weight.  \n",
        "- **Behavior** – Book appointment, take medication, undergo surgery.  \n",
        "\n",
        "### **Medical Device (MRI Scanner)**  \n",
        "- **Attributes** – Model, magnetic field strength, resolution, manufacturer.  \n",
        "- **Behavior** – Scan patient, generate images, adjust settings.  \n",
        "\n",
        "### **Doctor**  \n",
        "- **Attributes** – Name, specialty, experience, license number.  \n",
        "- **Behavior** – Diagnose illness, prescribe treatment, perform surgery.\n",
        "\n",
        "![Object](https://sts.doit.wisc.edu/manuals/python2/images/OOP_Example.jpg)"
      ],
      "metadata": {
        "id": "-mfrvI9GTFB4"
      }
    },
    {
      "cell_type": "markdown",
      "source": [
        "# 🏛️ Class in OOP  \n",
        "\n",
        "A **class** is an **abstraction of objects** or a **collection of objects** sharing similar properties.  \n",
        "\n",
        "## 🔑 Key Points:  \n",
        "- 🏗 **Blueprint for Objects** – Defines the general structure and behavior of objects.  \n",
        "- 🎭 **General vs. Specific** – Objects have specific values, while classes define general or default attributes.  \n",
        "- 🔄 **Multiple Instances** – Several objects can belong to the same class.  \n"
      ],
      "metadata": {
        "id": "Sq0fS3EdULDi"
      }
    },
    {
      "cell_type": "markdown",
      "source": [
        "A **class** acts as a **template or blueprint** for creating a specific set of objects.  \n",
        "\n",
        "- 🏗 **Defines Structure** – Specifies attributes and methods for objects.  \n",
        "- 🔄 **Reusable** – Multiple objects can be created from a single class.  \n",
        "- 🎭 **General vs. Specific** – The class provides a general structure, while objects hold specific values.  \n",
        "\n",
        "\n",
        "### **Class: Patient**  \n",
        "- **Attributes** – Name, age, medical history, blood type.  \n",
        "- **Methods** – Book appointment, take medication, request lab tests.  \n",
        "\n",
        "Each **patient object** created from this class will have unique attribute values while following the same structure!\n",
        "\n",
        "![Class](https://codersite.dev/assets/images/carClass.jpg)"
      ],
      "metadata": {
        "id": "HR-IIxqjbI7h"
      }
    },
    {
      "cell_type": "markdown",
      "source": [
        "# 🎯 Core Concepts of OOP  \n",
        "\n",
        "## 🔒 Encapsulation  \n",
        "## 🔄 Inheritance  \n",
        "## 🔀 Polymorphism  \n",
        "## 🎭 Abstraction\n"
      ],
      "metadata": {
        "id": "q3UfIxuDSOP3"
      }
    },
    {
      "cell_type": "markdown",
      "source": [
        "## 1️⃣ Encapsulation  \n",
        "\n",
        "Think of a **medical record system** where:  \n",
        "\n",
        "- 📦 **Data (properties)** and **methods** to manipulate that data are bundled together  \n",
        "- 🔐 **Access to patient information is controlled**  \n",
        "- ✅ Only **authorized methods** can modify patient data\n",
        "\n",
        "![encapsulation](https://www.scientecheasy.com/wp-content/uploads/2023/10/python-encapsulation-example.png)\n"
      ],
      "metadata": {
        "id": "9Kl0WCV6Gf-l"
      }
    },
    {
      "cell_type": "code",
      "source": [
        "class Patient:\n",
        "    def __init__(self):\n",
        "        self.__records = []  # Private data\n",
        "\n",
        "    def add_record(self, record):  # Public method\n",
        "        self.__records.append(record)"
      ],
      "metadata": {
        "id": "ZgmOrGSUUdpi"
      },
      "outputs": [],
      "execution_count": null
    },
    {
      "cell_type": "markdown",
      "source": [
        "## 2️⃣ Inheritance  \n",
        "\n",
        "Inheritance allows one class (**child/derived**) to inherit properties and methods from another class (**parent/base**).  \n",
        "\n",
        "🩺 Different types of patients can share **common basic information** but have **specialized additional features**.\n",
        "\n",
        "![OOP](https://media2.dev.to/dynamic/image/width=800%2Cheight=%2Cfit=scale-down%2Cgravity=auto%2Cformat=auto/https%3A%2F%2Fdev-to-uploads.s3.amazonaws.com%2Fuploads%2Farticles%2Fbe780pnhc1i6ybjluhfh.png)\n"
      ],
      "metadata": {
        "id": "M9eF7jrWGf-l"
      }
    },
    {
      "cell_type": "code",
      "source": [
        "class Person:\n",
        "    def __init__(self, name):\n",
        "        self.name = name\n",
        "\n",
        "class Doctor(Person):\n",
        "    def prescribe(self):\n",
        "        return \"Medicine prescribed\""
      ],
      "metadata": {
        "id": "--4S1yHvVI3p"
      },
      "outputs": [],
      "execution_count": null
    },
    {
      "cell_type": "markdown",
      "source": [
        "## 3️⃣ Polymorphism  \n",
        "\n",
        "Polymorphism means **\"many forms\"** – it allows different classes to **respond to the same method call in different ways**.  \n",
        "\n",
        "🩺 **Medical Context:**  \n",
        "Just like how different types of doctors **perform examinations differently**, but they all **\"perform examinations.\"**\n",
        "\n",
        "![OOP](https://www.learncomputerscienceonline.com/wp-content/uploads/2021/01/What-Is-Polymorphism-In-OOP.jpg)\n"
      ],
      "metadata": {
        "id": "YMSX1DzNGf-l"
      }
    },
    {
      "cell_type": "code",
      "source": [
        "class Surgeon:\n",
        "    def treat(self):\n",
        "        return \"Surgical treatment\"\n",
        "\n",
        "class Pediatrician:\n",
        "    def treat(self):\n",
        "        return \"Child treatment\""
      ],
      "metadata": {
        "id": "MbG4fC0nVi7S"
      },
      "outputs": [],
      "execution_count": null
    },
    {
      "cell_type": "markdown",
      "source": [
        "## 4️⃣ Abstraction  \n",
        "\n",
        "Abstraction is about **hiding complex implementation details** and showing only the **necessary features**.  \n",
        "\n",
        "🩺 **Medical Context:**  \n",
        "Just like how a **doctor uses a medical device** without needing to know its **internal workings**.  \n",
        "\n",
        "![OOP]()"
      ],
      "metadata": {
        "id": "al8oGFw0Gf-l"
      }
    },
    {
      "cell_type": "code",
      "source": [
        "class BloodTest:\n",
        "    def get_results(self):  # User only sees this simple method\n",
        "        return self._analyze_blood()  # Complex internal process hidden"
      ],
      "metadata": {
        "id": "WqsI6VelWWjj"
      },
      "outputs": [],
      "execution_count": null
    },
    {
      "cell_type": "markdown",
      "source": [
        "## 🔧 Functions\n",
        "\n",
        "- 📌 A block of code that only runs when explicitly called  \n",
        "- 🎯 Can accept arguments (or parameters) that alter its behavior  \n",
        "- 🔄 Can accept any number/type of inputs, but always return a single object  \n",
        "  - ⚠️ *Note:* Functions can return tuples (which may *appear* as multiple objects)  \n"
      ],
      "metadata": {
        "id": "4ZakVsvVGf-m"
      }
    },
    {
      "cell_type": "markdown",
      "source": [
        "### **🔹 Function Definition**  \n",
        "\n",
        "Functions in Python are defined using the `def` keyword. This allows us to add functionalities and properties as needed while maintaining code readability and simplicity.  \n",
        "\n",
        "For example, we can calculate the **Body Mass Index (BMI)** for patients using a function.  \n",
        "\n",
        "The function `calculate_bmi()` is defined using `def`. 🏥📊  \n"
      ],
      "metadata": {
        "id": "GYOqVGIaGf-m"
      }
    },
    {
      "cell_type": "markdown",
      "source": [
        "# 🚀 Types of Python Functions  \n",
        "\n",
        "Python functions are categorized into two main types:  \n",
        "\n",
        "## 🔹 1. Inbuilt Functions  \n",
        "These are **predefined functions** in Python that perform common tasks.\n",
        "\n",
        "### 📌 Examples:  \n",
        "```python\n",
        "print(len([1, 2, 3]))  # Output: 3"
      ],
      "metadata": {
        "id": "2bWyIoPKKUqw"
      }
    },
    {
      "cell_type": "markdown",
      "source": [
        "## 🔹 2. User-Defined Functions  \n",
        "\n",
        "These are **custom functions** created by the user to perform specific tasks.  \n",
        "\n",
        "### 📌 Example: Greeting Function  \n",
        "```python\n",
        "def greet():\n",
        "    print(\"Hello! Welcome to the health center. 😊\")\n",
        "\n",
        "greet()  # Output: Hello! Welcome to the health center. 😊"
      ],
      "metadata": {
        "id": "2UrgDdVxKUqx"
      }
    },
    {
      "cell_type": "markdown",
      "source": [
        "# 🚀 Inbuilt Functions in Python  \n",
        "\n",
        "Python provides **inbuilt functions** to perform common tasks efficiently. These functions save time and effort by handling operations without writing extra code.  \n",
        "\n",
        "## 🔹 Common Inbuilt Functions  \n",
        "\n",
        "### 📊 1. `len()` – Get Length  \n",
        "Used to count the number of items in a list, string, or dictionary.  \n",
        "\n",
        "```python\n",
        "patients = [\"John\", \"Alice\", \"David\", \"Sophia\"]\n",
        "print(len(patients))  # Output: 4"
      ],
      "metadata": {
        "id": "7NWR3OHPKUqx"
      }
    },
    {
      "cell_type": "markdown",
      "source": [
        "### 💊 `sum()` – Calculate Total  \n",
        "Used to compute the total cost of medications.  "
      ],
      "metadata": {
        "id": "33gR0jIrKUqy"
      }
    },
    {
      "cell_type": "code",
      "source": [
        "# Example: Calculate the total cost of medications\n",
        "\n",
        "medication_costs = [50, 100, 200, 150]\n",
        "print(sum(medication_costs))"
      ],
      "metadata": {
        "trusted": true,
        "execution": {
          "iopub.status.busy": "2025-02-16T17:25:38.511073Z",
          "iopub.execute_input": "2025-02-16T17:25:38.511405Z",
          "iopub.status.idle": "2025-02-16T17:25:38.518077Z",
          "shell.execute_reply.started": "2025-02-16T17:25:38.511381Z",
          "shell.execute_reply": "2025-02-16T17:25:38.516455Z"
        },
        "id": "P1vvkmfOKUqy",
        "outputId": "e62d35ea-4383-459c-8166-1d60fb1da695"
      },
      "outputs": [
        {
          "name": "stdout",
          "text": "500\n",
          "output_type": "stream"
        }
      ],
      "execution_count": null
    },
    {
      "cell_type": "markdown",
      "source": [
        "# 🏥 `max()` & `min()` – Find Maximum & Minimum  \n",
        "Used to find the highest and lowest patient temperatures recorded.\n"
      ],
      "metadata": {
        "id": "JmruHA5ZKUq0"
      }
    },
    {
      "cell_type": "code",
      "source": [
        "# Example: Find the highest and lowest recorded temperatures\n",
        "\n",
        "temperatures = [98.6, 99.5, 101.2, 97.8]\n",
        "print(max(temperatures))  # Output: 101.2\n",
        "print(min(temperatures))  # Output: 97.8"
      ],
      "metadata": {
        "trusted": true,
        "execution": {
          "iopub.status.busy": "2025-02-16T17:26:29.621991Z",
          "iopub.execute_input": "2025-02-16T17:26:29.622459Z",
          "iopub.status.idle": "2025-02-16T17:26:29.629338Z",
          "shell.execute_reply.started": "2025-02-16T17:26:29.622425Z",
          "shell.execute_reply": "2025-02-16T17:26:29.628106Z"
        },
        "id": "U7E0UbE6KUq1",
        "outputId": "2111cb0a-f9f8-4290-cf5a-fabf90befdbf"
      },
      "outputs": [
        {
          "name": "stdout",
          "text": "101.2\n97.8\n",
          "output_type": "stream"
        }
      ],
      "execution_count": null
    },
    {
      "cell_type": "markdown",
      "source": [
        "# 📌 `round()` – Round Off Numbers  \n",
        "Used to round a patient's BMI to two decimal places.\n"
      ],
      "metadata": {
        "id": "eKdQadunKUq1"
      }
    },
    {
      "cell_type": "code",
      "source": [
        "# Example: Round a patient's BMI to 2 decimal places\n",
        "\n",
        "bmi = 24.6789\n",
        "print(round(bmi, 2))  # Output: 24.68"
      ],
      "metadata": {
        "trusted": true,
        "execution": {
          "iopub.status.busy": "2025-02-16T17:27:26.771509Z",
          "iopub.execute_input": "2025-02-16T17:27:26.771865Z",
          "iopub.status.idle": "2025-02-16T17:27:26.777264Z",
          "shell.execute_reply.started": "2025-02-16T17:27:26.771802Z",
          "shell.execute_reply": "2025-02-16T17:27:26.776215Z"
        },
        "id": "6molflrQKUq1",
        "outputId": "c2d213cd-c748-4cc5-cd8c-d53b86afcc64"
      },
      "outputs": [
        {
          "name": "stdout",
          "text": "24.68\n",
          "output_type": "stream"
        }
      ],
      "execution_count": null
    },
    {
      "cell_type": "markdown",
      "source": [
        "# 🏷️ `type()` – Get Data Type  \n",
        "Used to check the type of input data in a health record system.  \n"
      ],
      "metadata": {
        "id": "LlL1aRBgKUq2"
      }
    },
    {
      "cell_type": "code",
      "source": [
        "# Example: Check the type of a patient's age\n",
        "\n",
        "age = 45\n",
        "print(type(age))  # Output: <class 'int'>"
      ],
      "metadata": {
        "trusted": true,
        "execution": {
          "iopub.status.busy": "2025-02-16T17:28:26.277510Z",
          "iopub.execute_input": "2025-02-16T17:28:26.277920Z",
          "iopub.status.idle": "2025-02-16T17:28:26.283566Z",
          "shell.execute_reply.started": "2025-02-16T17:28:26.277888Z",
          "shell.execute_reply": "2025-02-16T17:28:26.282190Z"
        },
        "id": "6ra67yyMKUq2",
        "outputId": "ecf141f9-296b-4317-fcb2-2a25ac6e1e4a"
      },
      "outputs": [
        {
          "name": "stdout",
          "text": "<class 'int'>\n",
          "output_type": "stream"
        }
      ],
      "execution_count": null
    },
    {
      "cell_type": "markdown",
      "source": [
        "# 🚀 Python Functions  \n",
        "\n",
        "A **function** in Python is a block of code that performs a specific task.  \n",
        "\n",
        "We've used built-in functions like `min()` & `max()` to find the smallest and largest numbers in a list. But guess what? **We can create our own functions!** 🎉  \n",
        "\n",
        "## 🔹 Why Use Functions?  \n",
        "✅ Organize code into reusable chunks  \n",
        "✅ Make programs cleaner & more manageable  \n",
        "\n",
        "## 📝 Function Syntax  \n",
        "User-defined functions are custom functions we create for specific tasks. Stay tuned to learn how! 🚀  \n"
      ],
      "metadata": {
        "id": "EkO6EDIUKUq2"
      }
    },
    {
      "cell_type": "code",
      "source": [
        "def check_vitals():\n",
        "    print(\"Checking patient vitals... ✅\")"
      ],
      "metadata": {
        "trusted": true,
        "execution": {
          "iopub.status.busy": "2025-02-16T17:09:39.073966Z",
          "iopub.execute_input": "2025-02-16T17:09:39.074348Z",
          "iopub.status.idle": "2025-02-16T17:09:39.079332Z",
          "shell.execute_reply.started": "2025-02-16T17:09:39.074318Z",
          "shell.execute_reply": "2025-02-16T17:09:39.078085Z"
        },
        "id": "QmdUKE2kKUq3"
      },
      "outputs": [],
      "execution_count": null
    },
    {
      "cell_type": "code",
      "source": [
        "check_vitals()"
      ],
      "metadata": {
        "trusted": true,
        "execution": {
          "iopub.status.busy": "2025-02-16T17:09:54.821580Z",
          "iopub.execute_input": "2025-02-16T17:09:54.821988Z",
          "iopub.status.idle": "2025-02-16T17:09:54.827428Z",
          "shell.execute_reply.started": "2025-02-16T17:09:54.821955Z",
          "shell.execute_reply": "2025-02-16T17:09:54.826266Z"
        },
        "id": "V1kvZAGVKUq3",
        "outputId": "628db336-788a-4c80-9b9b-ce16bfd059ac"
      },
      "outputs": [
        {
          "name": "stdout",
          "text": "Checking patient vitals... ✅\n",
          "output_type": "stream"
        }
      ],
      "execution_count": null
    },
    {
      "cell_type": "code",
      "source": [
        "def calculate_bmi(weight_kg, height_m):\n",
        "    \"\"\"\n",
        "    Calculate BMI and return the category.\n",
        "\n",
        "    Parameters:\n",
        "    weight_kg (float): Weight in kilograms\n",
        "    height_m (float): Height in meters\n",
        "\n",
        "    Returns:\n",
        "    tuple: (BMI value, category)\n",
        "    \"\"\"\n",
        "    bmi = weight_kg / (height_m ** 2)\n",
        "\n",
        "    if bmi < 18.5:\n",
        "        category = \"Underweight\"\n",
        "    elif 18.5 <= bmi < 24.9:\n",
        "        category = \"Normal weight\"\n",
        "    elif 25 <= bmi < 29.9:\n",
        "        category = \"Overweight\"\n",
        "    else:\n",
        "        category = \"Obese\"\n",
        "\n",
        "    return bmi, category\n",
        "\n",
        "\n",
        "weight = 70  # kg\n",
        "height = 1.75  # meters\n",
        "\n",
        "bmi_value, bmi_category = calculate_bmi(weight, height)\n",
        "print(f\"BMI: {bmi_value:.2f}, Category: {bmi_category}\")\n"
      ],
      "metadata": {
        "trusted": true,
        "id": "UG0-YTBzGf-m",
        "colab": {
          "base_uri": "https://localhost:8080/"
        },
        "outputId": "f00ae9cd-d71f-4d5b-e0d7-6d0412b6a220"
      },
      "outputs": [
        {
          "output_type": "stream",
          "name": "stdout",
          "text": [
            "BMI: 22.86, Category: Normal weight\n"
          ]
        }
      ],
      "execution_count": null
    },
    {
      "cell_type": "markdown",
      "source": [
        "### **📢 Calling a Function**  \n",
        "\n",
        "Once a function is defined, it can be executed by calling its name followed by parentheses.  \n",
        "\n",
        "In the example below:  \n",
        "- The function takes **two arguments**: `weight_kg` and `height_m`.  \n",
        "- The **BMI** is calculated and returned using the `return` statement.  \n",
        "- The function is called by passing actual values `(70, 1.75)`, and the result is printed.  "
      ],
      "metadata": {
        "id": "erpyucDFugpa"
      }
    },
    {
      "cell_type": "code",
      "source": [
        "# Calling the function with actual values\n",
        "bmi_value = calculate_bmi(70, 1.75)"
      ],
      "metadata": {
        "id": "_A4fUvYCujDE"
      },
      "outputs": [],
      "execution_count": null
    },
    {
      "cell_type": "markdown",
      "source": [
        "### 🔹 Positional vs. Keyword Arguments  \n",
        "\n",
        "- **Positional arguments** are defined by position and *must* be passed.  \n",
        "  - Arguments in the function signature are filled in order.  \n",
        "- **Keyword arguments** have a default value.  \n",
        "  - Arguments can be passed in any order (after any positional arguments).  \n"
      ],
      "metadata": {
        "id": "HfF9OUFYt9fe"
      }
    },
    {
      "cell_type": "code",
      "source": [
        "def patient_info(name, age, condition=\"Healthy\"):\n",
        "    \"\"\"\n",
        "    Displays patient information.\n",
        "\n",
        "    Parameters:\n",
        "    name (str): Patient's name (positional)\n",
        "    age (int): Patient's age (positional)\n",
        "    condition (str, optional): Patient's condition (keyword argument, default is \"Healthy\")\n",
        "    \"\"\"\n",
        "    print(f\"Patient Name: {name}\")\n",
        "    print(f\"Age: {age}\")\n",
        "    print(f\"Condition: {condition}\")\n",
        "\n",
        "# Using positional arguments (must be in order)\n",
        "patient_info(\"Alice\", 30)\n",
        "\n",
        "# Mixing positional and keyword arguments\n",
        "patient_info(\"Bob\", 45, condition=\"Diabetic\")\n",
        "\n",
        "# Using only keyword arguments (after positional arguments)\n",
        "patient_info(name=\"Charlie\", age=25, condition=\"Hypertensive\")"
      ],
      "metadata": {
        "colab": {
          "base_uri": "https://localhost:8080/"
        },
        "id": "9pfNhJ4Rt_1A",
        "outputId": "14e6a619-1eec-497e-9e59-849405882211"
      },
      "outputs": [
        {
          "output_type": "stream",
          "name": "stdout",
          "text": [
            "Patient Name: Alice\n",
            "Age: 30\n",
            "Condition: Healthy\n",
            "Patient Name: Bob\n",
            "Age: 45\n",
            "Condition: Diabetic\n",
            "Patient Name: Charlie\n",
            "Age: 25\n",
            "Condition: Hypertensive\n"
          ]
        }
      ],
      "execution_count": null
    },
    {
      "cell_type": "markdown",
      "source": [
        "# 🌟 *args and **kwargs in Python  \n",
        "\n",
        "A hospital needs to calculate the total cost of a patient’s medications. Instead of defining a function with multiple fixed arguments, we can use `*args` to handle any number of medications dynamically.  \n",
        "\n",
        "## 🏥 Example: Calculating Medication Costs  \n",
        "\n",
        "```python\n",
        "def total_cost(*prices):\n",
        "    return sum(prices)\n",
        "\n",
        "print(total_cost(50, 100, 200, 150))  # Output: 500\n"
      ],
      "metadata": {
        "id": "vEwDZWTmKUq5"
      }
    },
    {
      "cell_type": "markdown",
      "source": [
        "# 🏥 Positional & Keyword Arguments in Python  \n",
        "\n",
        "Till now, we've passed arguments to functions using only names, like `medicine`, `dose`, and `price`. These are called **positional arguments**.  \n",
        "\n",
        "Another type is **keyword arguments**, where we use both a name and a default value.  \n",
        "\n",
        "## 💊 Example: Medication Discount  \n",
        "\n",
        "During a health awareness campaign, a **5% discount** is offered on medications. Outside the campaign, there’s no discount.  \n",
        "\n",
        "Let's create a function to compute the total cost for a patient's prescribed medicines.  \n",
        "\n",
        "```python\n",
        "def total_bill(price, quantity, discount=0.05):  \n",
        "    total = price * quantity * (1 - discount)  \n",
        "    return total  \n",
        "\n",
        "print(total_bill(200, 3))  # With 5% discount\n",
        "print(total_bill(200, 3, discount=0))  # No discount"
      ],
      "metadata": {
        "id": "KUA0KUf4KUq6"
      }
    },
    {
      "cell_type": "markdown",
      "source": [
        "## 🔹 Why Use Keyword Arguments?  \n",
        "\n",
        " ✅ Provides **default values** for flexibility  \n",
        " ✅ Allows specifying arguments in **any order**  \n",
        " ✅ Enhances **code readability**  \n",
        "\n",
        "Using **positional and keyword arguments** helps make healthcare applications more **efficient**! 🚑💉  "
      ],
      "metadata": {
        "id": "bw3v23BjKUq6"
      }
    },
    {
      "cell_type": "markdown",
      "source": [
        "# 🏥 Keyword Arguments & **kwargs in Python  \n",
        "\n",
        "If we assign a value to a **positional argument**, it becomes a **keyword argument**. However, placing keyword arguments before positional arguments causes a **SyntaxError**.  \n",
        "\n",
        "Just like `*args` removes the constraint on the number of **positional arguments**, `**kwargs` removes the constraint on the number of **keyword arguments**.  \n",
        "\n",
        "The `**kwargs` argument must be a **mapping** (like a dictionary).  \n",
        "\n",
        "## 💊 Example: Medical Discount & Cashback  \n",
        "\n",
        "A hospital pharmacy offers:  \n",
        "- **5% discount** on all medications 💰  \n",
        "- **$5 cashback** for the last day of a health campaign  \n",
        "\n",
        "Let's create a function to compute the **patient’s net bill**.  \n",
        "\n",
        "```python\n",
        "def total_bill(price, quantity, discount=0.05, **kwargs):\n",
        "    total = price * quantity * (1 - discount)  \n",
        "    cashback = kwargs.get(\"cashback\", 0)  # Get cashback if available  \n",
        "    return total - cashback  \n",
        "\n",
        "print(total_bill(200, 3, cashback=5))  # Apply $5 cashback  \n",
        "print(total_bill(200, 3))  # No cashback  "
      ],
      "metadata": {
        "id": "oxyXcHdBKUrB"
      }
    },
    {
      "cell_type": "markdown",
      "source": [
        "### 🔄 **Return Statements**  \n",
        "\n",
        "The `return` statement in Python is used to exit a function and send a value back to the caller. If no value is specified, the function returns `None` by default.  \n",
        "\n",
        "The `return` keyword allows us to send meaningful results back to the caller. Instead of just printing the **Body Mass Index (BMI)**, we can enhance our function to also determine the BMI category and return a more informative result.  "
      ],
      "metadata": {
        "id": "RL-Nga8pvLvk"
      }
    },
    {
      "cell_type": "code",
      "source": [
        "def calculate_bmi(weight, height):\n",
        "    bmi = weight / (height ** 2)\n",
        "    return bmi  # Returning the calculated BMI\n",
        "\n",
        "result = calculate_bmi(70, 1.75)\n",
        "print(f\"BMI: {result:.2f}\")"
      ],
      "metadata": {
        "colab": {
          "base_uri": "https://localhost:8080/"
        },
        "id": "ZE1drUuvvKkR",
        "outputId": "5dcefc88-f2e0-4964-b9a3-6a9a310e8430"
      },
      "outputs": [
        {
          "output_type": "stream",
          "name": "stdout",
          "text": [
            "BMI: 22.86\n"
          ]
        }
      ],
      "execution_count": null
    },
    {
      "cell_type": "markdown",
      "source": [
        "# 🚀 Advantages of OOP\n",
        "\n",
        "- 🌍 **Real-World Simulation** – Enhances understanding and problem visualization.  \n",
        "- 🛠 **Easier Maintenance** – Objects interact via public interfaces, allowing updates without breaking the system.  \n",
        "- 📈 **Modularity & Scalability** – New features can be added easily.  \n",
        "- 🔄 **Code Reusability** – Objects can be reused across different programs.  \n",
        "- 🔒 **Enhanced Security** – Restricts direct access to object data, improving protection.  \n",
        "![OOP](https://ik.imagekit.io/upgrad1/abroad-images/imageCompo/images/image2CWA6R9.png?pr-true)\n"
      ],
      "metadata": {
        "id": "jkboYjBQc-LC"
      }
    },
    {
      "cell_type": "markdown",
      "source": [
        "# 📚 Additional Resources  \n",
        "\n",
        "Enhance your Python skills with these valuable resources! 🚀  \n",
        "\n",
        "### 🔹 Official Python Documentation  \n",
        "📌 [Python Docs](https://docs.python.org/3/) – Comprehensive reference for Python functions and modules.  \n",
        "\n",
        "### 🔹 Interactive Learning Platforms  \n",
        "- 🖥 [W3Schools](https://www.w3schools.com/python/) – Beginner-friendly tutorials.  \n",
        "- 🎯 [Real Python](https://realpython.com/) – In-depth Python guides.  \n",
        "- 📖 [GeeksforGeeks](https://www.geeksforgeeks.org/python-programming-language/) – Tutorials and coding problems.  \n",
        "\n",
        "### 🔹 Python Practice & Challenges  \n",
        "- 🏆 [LeetCode](https://leetcode.com/) – Coding challenges to improve problem-solving skills.  \n",
        "- 🧠 [HackerRank](https://www.hackerrank.com/domains/tutorials/10-days-of-python) – Hands-on coding exercises.  \n",
        "- 🎮 [CodeWars](https://www.codewars.com/) – Fun coding challenges.  \n",
        "\n",
        "### 🔹 Python Community & Forums  \n",
        "- 💬 [Stack Overflow](https://stackoverflow.com/questions/tagged/python) – Ask & answer Python-related questions.  \n",
        "- 🔗 [Reddit r/learnpython](https://www.reddit.com/r/learnpython/) – Engage with the Python community.  \n",
        "- 🐍 [Python Discord](https://pythondiscord.com/) – Connect with other Python learners.  \n",
        "\n",
        "Keep learning and happy coding! 🚀🐍  \n"
      ],
      "metadata": {
        "id": "p5wdB1JmKUrC"
      }
    }
  ]
}