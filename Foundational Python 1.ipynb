{
 "cells": [
  {
   "cell_type": "markdown",
   "metadata": {
    "cellUniqueIdByVincent": "c0f9d",
    "id": "d3M8IBIsyehe"
   },
   "source": [
    "<div class=\"alert alert-info\" style=\"background-color:#001469; color:white; padding:0px 10px; border-radius:5px;\">\n",
    "  <h2 style='margin:10px 5px'>Introduction to Python Programming Language</h2>\n",
    "</div>"
   ]
  },
  {
   "cell_type": "code",
   "execution_count": null,
   "metadata": {
    "cellUniqueIdByVincent": "e88b0",
    "id": "FlxYhV32yehl"
   },
   "outputs": [],
   "source": [
    "# Python is an open source programing langauge\n",
    "# Python is widely accepted due to simplicity of the language \n",
    "# Python is a General Purpose Language\n",
    "# Python is currently the most in demand programming language for Data Scientists"
   ]
  },
  {
   "cell_type": "markdown",
   "metadata": {
    "cellUniqueIdByVincent": "7a329"
   },
   "source": [
    "Python has become a staple in data science, allowing data analysts and other professionals to use the language to conduct complex statistical calculations, create data visualizations, build machine learning algorithms, manipulate and analyze data, and complete other data-related tasks."
   ]
  },
  {
   "cell_type": "markdown",
   "metadata": {
    "cellUniqueIdByVincent": "3c92c"
   },
   "source": [
    "<div class=\"alert alert-info\" style=\"background-color:#001469; color:white; padding:0px 10px; border-radius:5px;\">\n",
    "  <h2 style='margin:10px 5px'>Using the Python Print Function</h2>\n",
    "</div>"
   ]
  },
  {
   "cell_type": "code",
   "execution_count": null,
   "metadata": {
    "cellUniqueIdByVincent": "39de4",
    "id": "fYomzyW1yeho"
   },
   "outputs": [],
   "source": [
    "# Comments are pieces of text used to describe what is happening in the code (by using Hash Sign)\n",
    "# They have no effect on the code whatsoever."
   ]
  },
  {
   "cell_type": "code",
   "execution_count": 1,
   "metadata": {
    "cellUniqueIdByVincent": "4675c",
    "id": "K7FVZKMiyehp",
    "outputId": "7c62ec9f-10a6-49fe-c5bb-2b000c8566e4"
   },
   "outputs": [
    {
     "name": "stdout",
     "output_type": "stream",
     "text": [
      "Hello World\n"
     ]
    }
   ],
   "source": [
    "print(\"Hello World\") "
   ]
  },
  {
   "cell_type": "code",
   "execution_count": 57,
   "metadata": {
    "cellUniqueIdByVincent": "4b383",
    "id": "hiTetOxRyehr",
    "outputId": "b94b60eb-c7bf-4b2d-8419-d6706719602f"
   },
   "outputs": [
    {
     "name": "stdout",
     "output_type": "stream",
     "text": [
      "50 100 30 Hello Datalab\n",
      "yemi\n"
     ]
    }
   ],
   "source": [
    "print(50,100,30,\"Hello Datalab\")\n",
    "print(\"yemi\")"
   ]
  },
  {
   "cell_type": "code",
   "execution_count": 58,
   "metadata": {
    "cellUniqueIdByVincent": "cc346",
    "id": "GtR5akmyyehs",
    "outputId": "88d68694-f70c-4236-b869-564f69edc596"
   },
   "outputs": [
    {
     "name": "stdout",
     "output_type": "stream",
     "text": [
      "Hello World to the Unique Team\n"
     ]
    }
   ],
   "source": [
    "#By default, the print function ends with a newline. Passing the whitespace to the \n",
    "#end parameter (end=' ') indicates that the end character has to be \n",
    "#identified by whitespace and not a newline.\n",
    "\n",
    "print(\"Hello\",end=\" \")\n",
    "print(\"World\",end=\" \")\n",
    "print(\"to the Unique Team\")"
   ]
  },
  {
   "cell_type": "code",
   "execution_count": 59,
   "metadata": {
    "cellUniqueIdByVincent": "9a872",
    "id": "5APD6jqbyeht",
    "outputId": "45af149f-2f1b-42f6-8c4d-4a2835b92a22"
   },
   "outputs": [
    {
     "name": "stdout",
     "output_type": "stream",
     "text": [
      "Adejola Yusuf\n"
     ]
    }
   ],
   "source": [
    "print(\"Adejola\",end = \" \")\n",
    "print(\"Yusuf\")"
   ]
  },
  {
   "cell_type": "code",
   "execution_count": 2,
   "metadata": {
    "cellUniqueIdByVincent": "35f6a"
   },
   "outputs": [
    {
     "name": "stdout",
     "output_type": "stream",
     "text": [
      "CYRIL MMBA\n"
     ]
    }
   ],
   "source": [
    "#Apply Upper Case argument\n",
    "print(\"cyril Mmba\".upper()) "
   ]
  },
  {
   "cell_type": "code",
   "execution_count": 61,
   "metadata": {
    "cellUniqueIdByVincent": "98db8"
   },
   "outputs": [
    {
     "name": "stdout",
     "output_type": "stream",
     "text": [
      "adamu nurudeen\n"
     ]
    }
   ],
   "source": [
    "#Apply Lower Case\n",
    "print(\"ADAMU NURUDEEN\".lower())"
   ]
  },
  {
   "cell_type": "code",
   "execution_count": 6,
   "metadata": {
    "cellUniqueIdByVincent": "f57d0"
   },
   "outputs": [
    {
     "name": "stdout",
     "output_type": "stream",
     "text": [
      "Awosanya Adetutu\n"
     ]
    }
   ],
   "source": [
    "#Strip part of a String\n",
    "print(' Awosanya Adetutu'.strip())"
   ]
  },
  {
   "cell_type": "code",
   "execution_count": 7,
   "metadata": {
    "cellUniqueIdByVincent": "0b180"
   },
   "outputs": [
    {
     "name": "stdout",
     "output_type": "stream",
     "text": [
      "3\n"
     ]
    }
   ],
   "source": [
    "#Count number of string\n",
    "# print(\"Akande Ijeoma Nneka\".count(\"a\"))\n",
    "name = \"Akande Ijeoma Nneka\"\n",
    "print (name.count(\"a\"))"
   ]
  },
  {
   "cell_type": "code",
   "execution_count": 8,
   "metadata": {
    "cellUniqueIdByVincent": "5da69"
   },
   "outputs": [
    {
     "name": "stdout",
     "output_type": "stream",
     "text": [
      "1\n"
     ]
    }
   ],
   "source": [
    "#Count Space\n",
    "# print (\"Moses Onyemari\".count(\" \"))\n",
    "name = \"Moses Onyemari\"\n",
    "print(name.count(\" \"))"
   ]
  },
  {
   "cell_type": "markdown",
   "metadata": {
    "cellUniqueIdByVincent": "f67bc"
   },
   "source": [
    "<div class=\"alert alert-info\" style=\"background-color:#001469; color:white; padding:0px 10px; border-radius:5px;\">\n",
    "  <h2 style='margin:10px 5px'>Working with Strings</h2>\n",
    "</div>"
   ]
  },
  {
   "cell_type": "code",
   "execution_count": 65,
   "metadata": {
    "cellUniqueIdByVincent": "6577d",
    "id": "8QNYCoe2yehv"
   },
   "outputs": [],
   "source": [
    "#To use more than one line of text in your string \n",
    "#(called a multiline string), use three single quotes (''')\n",
    "msg = '''How do adults pay their bills? \n",
    "With bank checks!'''"
   ]
  },
  {
   "cell_type": "code",
   "execution_count": 66,
   "metadata": {
    "cellUniqueIdByVincent": "7c442",
    "id": "wslfBl5dyehw",
    "outputId": "277d75d7-b6d8-49ab-c273-e80397474fa0"
   },
   "outputs": [
    {
     "name": "stdout",
     "output_type": "stream",
     "text": [
      "How do adults pay their bills? \n",
      "With bank checks!\n"
     ]
    }
   ],
   "source": [
    "print(msg)"
   ]
  },
  {
   "cell_type": "code",
   "execution_count": 67,
   "metadata": {
    "cellUniqueIdByVincent": "796db",
    "id": "DCpZmdoSyehx"
   },
   "outputs": [],
   "source": [
    "#Assigning string to a variable\n",
    "sola = \"How do we go to class?\""
   ]
  },
  {
   "cell_type": "code",
   "execution_count": 68,
   "metadata": {
    "cellUniqueIdByVincent": "e348d",
    "id": "34XYq-ZGyehy",
    "outputId": "3dd203a1-151c-4a64-9206-c88637dcc474"
   },
   "outputs": [
    {
     "name": "stdout",
     "output_type": "stream",
     "text": [
      "How do we go to class?\n"
     ]
    }
   ],
   "source": [
    "print(sola)"
   ]
  },
  {
   "cell_type": "markdown",
   "metadata": {
    "cellUniqueIdByVincent": "7c60c",
    "id": "BGZk4z-syehy"
   },
   "source": [
    "<div class=\"alert alert-info\" style=\"background-color:#001469; color:white; padding:0px 10px; border-radius:5px;\">\n",
    "  <h2 style='margin:10px 5px'>Handling Problems with Strings</h2>\n",
    "</div>"
   ]
  },
  {
   "cell_type": "code",
   "execution_count": 70,
   "metadata": {
    "cellUniqueIdByVincent": "852fc",
    "id": "zJnIn_mqyehz",
    "outputId": "fcd66d44-f618-4911-9162-5068a39c6a5b"
   },
   "outputs": [
    {
     "ename": "SyntaxError",
     "evalue": "invalid syntax (<ipython-input-70-00bc6c3465c6>, line 2)",
     "output_type": "error",
     "traceback": [
      "\u001b[1;36m  File \u001b[1;32m\"<ipython-input-70-00bc6c3465c6>\"\u001b[1;36m, line \u001b[1;32m2\u001b[0m\n\u001b[1;33m    msg =  'He said, aren't you going to the supermarket.'\u001b[0m\n\u001b[1;37m                          ^\u001b[0m\n\u001b[1;31mSyntaxError\u001b[0m\u001b[1;31m:\u001b[0m invalid syntax\n"
     ]
    }
   ],
   "source": [
    "#Now consider this bad example of a string, which causes Python to display an error message:\n",
    "msg =  'He said, aren't you going to the supermarket.' \n",
    "print(msg)"
   ]
  },
  {
   "cell_type": "code",
   "execution_count": null,
   "metadata": {
    "cellUniqueIdByVincent": "fd395",
    "id": "tiFY3i93yehz",
    "outputId": "4fef1a32-e00d-44c3-ee14-e363d81f0aec"
   },
   "outputs": [
    {
     "name": "stdout",
     "output_type": "stream",
     "text": [
      "He said, aren't you going to the supermarket.\n"
     ]
    }
   ],
   "source": [
    "#Using backslash (\\) before the quotation mark to escape the quotation for better interpretation\n",
    "msg = 'He said, aren\\'t you going to the supermarket.'  \n",
    "print(msg)"
   ]
  },
  {
   "cell_type": "markdown",
   "metadata": {
    "cellUniqueIdByVincent": "5a0e1",
    "id": "7KUE_H8cyeh0"
   },
   "source": [
    "<div class=\"alert alert-info\" style=\"background-color:#001469; color:white; padding:0px 10px; border-radius:5px;\">\n",
    "  <h2 style='margin:10px 5px'>Embedding Values in Strings</h2>\n",
    "</div>"
   ]
  },
  {
   "cell_type": "code",
   "execution_count": 9,
   "metadata": {
    "cellUniqueIdByVincent": "a802a",
    "colab": {
     "base_uri": "https://localhost:8080/"
    },
    "executionInfo": {
     "elapsed": 23,
     "status": "ok",
     "timestamp": 1643106904606,
     "user": {
      "displayName": "hamdalah aremu",
      "photoUrl": "https://lh3.googleusercontent.com/a/default-user=s64",
      "userId": "06049986838093065452"
     },
     "user_tz": -60
    },
    "id": "yDL-n3B3yeh0",
    "outputId": "cebf42ca-27b6-42f8-b4fd-ec7de773eee8"
   },
   "outputs": [
    {
     "name": "stdout",
     "output_type": "stream",
     "text": [
      "I scored 2000 points\n"
     ]
    }
   ],
   "source": [
    "myscore = 2000 #Assign a value to varibale\n",
    "# message = 'I scored %s points' #where %s is a placeholder for the value.\n",
    "message = f'I scored {myscore} points' #where %d is a placeholder for the value.\n",
    "print(message)"
   ]
  },
  {
   "cell_type": "code",
   "execution_count": null,
   "metadata": {},
   "outputs": [],
   "source": []
  },
  {
   "cell_type": "code",
   "execution_count": 73,
   "metadata": {
    "cellUniqueIdByVincent": "3b081",
    "colab": {
     "base_uri": "https://localhost:8080/"
    },
    "executionInfo": {
     "elapsed": 20,
     "status": "ok",
     "timestamp": 1643106904607,
     "user": {
      "displayName": "hamdalah aremu",
      "photoUrl": "https://lh3.googleusercontent.com/a/default-user=s64",
      "userId": "06049986838093065452"
     },
     "user_tz": -60
    },
    "id": "Fr_HgaKOyeh1",
    "outputId": "5dca35c0-e639-4366-a11e-aebfce87c539"
   },
   "outputs": [
    {
     "name": "stdout",
     "output_type": "stream",
     "text": [
      "Team A scored 3 goals more than Team B 2 goals\n"
     ]
    }
   ],
   "source": [
    "#You can also use more than one placeholder in a string, like this:\n",
    "nums = 'Team A scored %s goals more than Team B %s goals'\n",
    "print(nums % (3,2))"
   ]
  },
  {
   "cell_type": "code",
   "execution_count": 1,
   "metadata": {},
   "outputs": [
    {
     "name": "stdout",
     "output_type": "stream",
     "text": [
      "Team A scored 3 goals more than Team 2 %d goals\n"
     ]
    }
   ],
   "source": [
    "nums = f'Team A scored {3} goals more than Team {2} %d goals'\n",
    "print(nums)"
   ]
  },
  {
   "cell_type": "code",
   "execution_count": 74,
   "metadata": {
    "cellUniqueIdByVincent": "5ca48",
    "colab": {
     "base_uri": "https://localhost:8080/"
    },
    "executionInfo": {
     "elapsed": 20,
     "status": "ok",
     "timestamp": 1643106904608,
     "user": {
      "displayName": "hamdalah aremu",
      "photoUrl": "https://lh3.googleusercontent.com/a/default-user=s64",
      "userId": "06049986838093065452"
     },
     "user_tz": -60
    },
    "id": "_pfBH5Tyyeh1",
    "outputId": "0e52b6b5-6c6a-43f5-b6e4-1c96c271e68b"
   },
   "outputs": [
    {
     "name": "stdout",
     "output_type": "stream",
     "text": [
      "TouchLight: a device for finding things in the dark\n",
      "Lamp: a device for finding things in the dark\n",
      "Floodlight: a device for finding things in the dark\n",
      "Bulb: a device for finding things in the dark\n"
     ]
    }
   ],
   "source": [
    "#Reusable throughout your task\n",
    "text = '%s: a device for finding things in the dark' \n",
    "devicepart1 = 'TouchLight'\n",
    "devicepart2 = 'Lamp'\n",
    "devicepart3 = 'Floodlight'\n",
    "devicepart4 = \"Bulb\"\n",
    "\n",
    "print(text % devicepart1)\n",
    "print(text % devicepart2)\n",
    "print(text % devicepart3)\n",
    "print(text % devicepart4)"
   ]
  },
  {
   "cell_type": "markdown",
   "metadata": {
    "cellUniqueIdByVincent": "37023",
    "id": "FEFV4THgyeh2"
   },
   "source": [
    "<div class=\"alert alert-info\" style=\"background-color:#001469; color:white; padding:0px 10px; border-radius:5px;\">\n",
    "  <h2 style='margin:10px 5px'>Data Types and Variables in Python</h2>\n",
    "</div>"
   ]
  },
  {
   "cell_type": "code",
   "execution_count": 75,
   "metadata": {
    "cellUniqueIdByVincent": "91dff",
    "colab": {
     "base_uri": "https://localhost:8080/"
    },
    "executionInfo": {
     "elapsed": 19,
     "status": "ok",
     "timestamp": 1643106904608,
     "user": {
      "displayName": "hamdalah aremu",
      "photoUrl": "https://lh3.googleusercontent.com/a/default-user=s64",
      "userId": "06049986838093065452"
     },
     "user_tz": -60
    },
    "id": "sHip-g32yeh2",
    "outputId": "0a2e8629-d2fe-4dc9-9f53-5d8ec939a14d"
   },
   "outputs": [
    {
     "name": "stdout",
     "output_type": "stream",
     "text": [
      "10\n",
      "-3000\n"
     ]
    }
   ],
   "source": [
    "print(10)  # A positive integer\n",
    "print(-3000)  # A negative integer"
   ]
  },
  {
   "cell_type": "code",
   "execution_count": 76,
   "metadata": {
    "cellUniqueIdByVincent": "db6c7",
    "colab": {
     "base_uri": "https://localhost:8080/"
    },
    "executionInfo": {
     "elapsed": 19,
     "status": "ok",
     "timestamp": 1643106904609,
     "user": {
      "displayName": "hamdalah aremu",
      "photoUrl": "https://lh3.googleusercontent.com/a/default-user=s64",
      "userId": "06049986838093065452"
     },
     "user_tz": -60
    },
    "id": "rBd00poayeh2",
    "outputId": "aa742050-8fc5-4a0c-9aa0-e7cb7a50c80e"
   },
   "outputs": [
    {
     "name": "stdout",
     "output_type": "stream",
     "text": [
      "123456789\n"
     ]
    }
   ],
   "source": [
    "num = 123456789  # Assigning an integer to a variable\n",
    "print(num)"
   ]
  },
  {
   "cell_type": "code",
   "execution_count": 77,
   "metadata": {
    "cellUniqueIdByVincent": "4bd55",
    "colab": {
     "base_uri": "https://localhost:8080/"
    },
    "executionInfo": {
     "elapsed": 18,
     "status": "ok",
     "timestamp": 1643106904609,
     "user": {
      "displayName": "hamdalah aremu",
      "photoUrl": "https://lh3.googleusercontent.com/a/default-user=s64",
      "userId": "06049986838093065452"
     },
     "user_tz": -60
    },
    "id": "P-wjTKHoyeh3",
    "outputId": "4c86cfc6-19d9-4df8-f197-1e1c8a9aecd2"
   },
   "outputs": [
    {
     "name": "stdout",
     "output_type": "stream",
     "text": [
      "-16000\n"
     ]
    }
   ],
   "source": [
    "num = -16000  # Assigning a new integer\n",
    "print(num)"
   ]
  },
  {
   "cell_type": "code",
   "execution_count": 78,
   "metadata": {
    "cellUniqueIdByVincent": "32594",
    "colab": {
     "base_uri": "https://localhost:8080/"
    },
    "executionInfo": {
     "elapsed": 18,
     "status": "ok",
     "timestamp": 1643106904610,
     "user": {
      "displayName": "hamdalah aremu",
      "photoUrl": "https://lh3.googleusercontent.com/a/default-user=s64",
      "userId": "06049986838093065452"
     },
     "user_tz": -60
    },
    "id": "n-EvZ-WVyeh3",
    "outputId": "3f05f528-1f5a-45f4-e87b-bf71a186972c"
   },
   "outputs": [
    {
     "name": "stdout",
     "output_type": "stream",
     "text": [
      "1.00000000005\n"
     ]
    }
   ],
   "source": [
    "print(1.00000000005)  # A positive float"
   ]
  },
  {
   "cell_type": "code",
   "execution_count": 79,
   "metadata": {
    "cellUniqueIdByVincent": "f2b6a",
    "colab": {
     "base_uri": "https://localhost:8080/"
    },
    "executionInfo": {
     "elapsed": 17,
     "status": "ok",
     "timestamp": 1643106904610,
     "user": {
      "displayName": "hamdalah aremu",
      "photoUrl": "https://lh3.googleusercontent.com/a/default-user=s64",
      "userId": "06049986838093065452"
     },
     "user_tz": -60
    },
    "id": "Rwd9T3zVyeh4",
    "outputId": "18567eaf-1016-42c2-cf1c-16a8b79438e8"
   },
   "outputs": [
    {
     "name": "stdout",
     "output_type": "stream",
     "text": [
      "-85.6701\n"
     ]
    }
   ],
   "source": [
    "print(-85.6701)  # A negative float"
   ]
  },
  {
   "cell_type": "code",
   "execution_count": 80,
   "metadata": {
    "cellUniqueIdByVincent": "d4c4f",
    "colab": {
     "base_uri": "https://localhost:8080/"
    },
    "executionInfo": {
     "elapsed": 17,
     "status": "ok",
     "timestamp": 1643106904611,
     "user": {
      "displayName": "hamdalah aremu",
      "photoUrl": "https://lh3.googleusercontent.com/a/default-user=s64",
      "userId": "06049986838093065452"
     },
     "user_tz": -60
    },
    "id": "H5EICSGgyeh4",
    "outputId": "32c71513-0010-4ae4-fd6a-44711edcb6c0"
   },
   "outputs": [
    {
     "name": "stdout",
     "output_type": "stream",
     "text": [
      "1.23456789\n"
     ]
    }
   ],
   "source": [
    "flt_pt = 1.23456789\n",
    "print(flt_pt)"
   ]
  },
  {
   "cell_type": "code",
   "execution_count": 81,
   "metadata": {
    "cellUniqueIdByVincent": "5c0fd",
    "colab": {
     "base_uri": "https://localhost:8080/"
    },
    "executionInfo": {
     "elapsed": 16,
     "status": "ok",
     "timestamp": 1643106904611,
     "user": {
      "displayName": "hamdalah aremu",
      "photoUrl": "https://lh3.googleusercontent.com/a/default-user=s64",
      "userId": "06049986838093065452"
     },
     "user_tz": -60
    },
    "id": "bPn2UFBGyeh4",
    "outputId": "128c79a7-f6e9-440f-8ff2-2feec1d23e43"
   },
   "outputs": [
    {
     "name": "stdout",
     "output_type": "stream",
     "text": [
      "True\n",
      "False\n"
     ]
    }
   ],
   "source": [
    "print(True) # Bolean\n",
    "print(False) #Bolean"
   ]
  },
  {
   "cell_type": "code",
   "execution_count": 82,
   "metadata": {
    "cellUniqueIdByVincent": "13f9d",
    "colab": {
     "base_uri": "https://localhost:8080/"
    },
    "executionInfo": {
     "elapsed": 17,
     "status": "ok",
     "timestamp": 1643106904612,
     "user": {
      "displayName": "hamdalah aremu",
      "photoUrl": "https://lh3.googleusercontent.com/a/default-user=s64",
      "userId": "06049986838093065452"
     },
     "user_tz": -60
    },
    "id": "oqWK-NG0yeh4",
    "outputId": "5115b081-84a6-4317-cc2e-8beda20c13f9"
   },
   "outputs": [
    {
     "name": "stdout",
     "output_type": "stream",
     "text": [
      "Narrow Road\n"
     ]
    }
   ],
   "source": [
    "game = \"Narrow Road\"\n",
    "print(game)"
   ]
  },
  {
   "cell_type": "code",
   "execution_count": 83,
   "metadata": {
    "cellUniqueIdByVincent": "357d7",
    "colab": {
     "base_uri": "https://localhost:8080/"
    },
    "executionInfo": {
     "elapsed": 16,
     "status": "ok",
     "timestamp": 1643106904612,
     "user": {
      "displayName": "hamdalah aremu",
      "photoUrl": "https://lh3.googleusercontent.com/a/default-user=s64",
      "userId": "06049986838093065452"
     },
     "user_tz": -60
    },
    "id": "SsssX_ZRyeh5",
    "outputId": "5a19ed0a-f4d5-4999-bc2c-1a210ab49a4a"
   },
   "outputs": [
    {
     "name": "stdout",
     "output_type": "stream",
     "text": [
      " \n"
     ]
    }
   ],
   "source": [
    "play = \" \"\n",
    "print(play) #it will just print an empty line"
   ]
  },
  {
   "cell_type": "code",
   "execution_count": 84,
   "metadata": {
    "cellUniqueIdByVincent": "cdd04",
    "colab": {
     "base_uri": "https://localhost:8080/"
    },
    "executionInfo": {
     "elapsed": 16,
     "status": "ok",
     "timestamp": 1643106904613,
     "user": {
      "displayName": "hamdalah aremu",
      "photoUrl": "https://lh3.googleusercontent.com/a/default-user=s64",
      "userId": "06049986838093065452"
     },
     "user_tz": -60
    },
    "id": "IJYaxfWyyeh5",
    "outputId": "7dee1c4e-5112-498c-b58a-67a486f230a5"
   },
   "outputs": [
    {
     "name": "stdout",
     "output_type": "stream",
     "text": [
      "11\n"
     ]
    }
   ],
   "source": [
    "#Print the length of String\n",
    "game = \"Narrow Road\"\n",
    "print(len(game)) #space was also counted in the process"
   ]
  },
  {
   "cell_type": "markdown",
   "metadata": {
    "cellUniqueIdByVincent": "63435",
    "id": "jgkGNJ1tyeh5"
   },
   "source": [
    "<div class=\"alert alert-info\" style=\"background-color:#001469; color:white; padding:0px 10px; border-radius:5px;\">\n",
    "  <h2 style='margin:10px 5px'>Sub-Setting Strings with Index</h2>\n",
    "</div>"
   ]
  },
  {
   "cell_type": "code",
   "execution_count": 85,
   "metadata": {
    "cellUniqueIdByVincent": "b1f15",
    "id": "3SglL6uTyeh6",
    "outputId": "75774663-74f8-45da-b1f5-be62b4c47d14"
   },
   "outputs": [
    {
     "name": "stdout",
     "output_type": "stream",
     "text": [
      "y\n"
     ]
    }
   ],
   "source": [
    "instructor = \"olayemi oyeleke\"\n",
    "first = instructor[9] #Accessing the first character in the string\n",
    "print(first)"
   ]
  },
  {
   "cell_type": "code",
   "execution_count": 86,
   "metadata": {
    "cellUniqueIdByVincent": "c9ee2",
    "id": "l8Ld-nWLyeh6",
    "outputId": "c982f873-b7bf-4264-87c0-fa5c41d26170"
   },
   "outputs": [
    {
     "name": "stdout",
     "output_type": "stream",
     "text": [
      " \n"
     ]
    }
   ],
   "source": [
    "space = instructor[7] # Accessing the space in the name/string\n",
    "print(space)"
   ]
  },
  {
   "cell_type": "code",
   "execution_count": 87,
   "metadata": {
    "cellUniqueIdByVincent": "22b62",
    "id": "1mi5tkYtyeh6",
    "outputId": "330c30c5-148a-4b2b-b1b4-7577ebf5f688"
   },
   "outputs": [
    {
     "name": "stdout",
     "output_type": "stream",
     "text": [
      "n\n"
     ]
    }
   ],
   "source": [
    "#Reverse/Negative Indexing\n",
    "saviour = \"Jesus Christ the King\"\n",
    "print(saviour[-2]) #start print from the last character"
   ]
  },
  {
   "cell_type": "code",
   "execution_count": 88,
   "metadata": {
    "cellUniqueIdByVincent": "05ee7",
    "id": "NGrEY4_-yeh7",
    "outputId": "54f99646-5947-4342-a452-84b55ab21876"
   },
   "outputs": [
    {
     "name": "stdout",
     "output_type": "stream",
     "text": [
      "t\n"
     ]
    }
   ],
   "source": [
    "print(saviour[11])"
   ]
  },
  {
   "cell_type": "markdown",
   "metadata": {
    "cellUniqueIdByVincent": "20f14",
    "id": "KdZiBNHAyeh7"
   },
   "source": [
    "<div class=\"alert alert-info\" style=\"background-color:#001469; color:white; padding:0px 10px; border-radius:5px;\">\n",
    "  <h2 style='margin:10px 5px'>String Slicing</h2>\n",
    "</div>"
   ]
  },
  {
   "cell_type": "code",
   "execution_count": 89,
   "metadata": {
    "cellUniqueIdByVincent": "d0480",
    "id": "WLOnAVayyeh7",
    "outputId": "844cfdf4-76af-48d2-c493-c46ec1a04e16"
   },
   "outputs": [
    {
     "name": "stdout",
     "output_type": "stream",
     "text": [
      "python\n"
     ]
    }
   ],
   "source": [
    "my_string = \"pythonclass\"\n",
    "print(my_string[0:6]) #From the start till the 5th index"
   ]
  },
  {
   "cell_type": "code",
   "execution_count": 90,
   "metadata": {
    "cellUniqueIdByVincent": "0088e",
    "id": "F4IuEzE7yeh7",
    "outputId": "d9476f8b-d26f-4487-f934-26dfdf37504b"
   },
   "outputs": [
    {
     "name": "stdout",
     "output_type": "stream",
     "text": [
      "ythonc\n"
     ]
    }
   ],
   "source": [
    "print(my_string[1:7])"
   ]
  },
  {
   "cell_type": "code",
   "execution_count": 91,
   "metadata": {
    "cellUniqueIdByVincent": "3eb89",
    "id": "n-jVuV30yeh7",
    "outputId": "ae1ae487-756c-41c9-8004-fbc6b6ae3c7d"
   },
   "outputs": [
    {
     "name": "stdout",
     "output_type": "stream",
     "text": [
      "lass\n"
     ]
    }
   ],
   "source": [
    "print(my_string[7:len(my_string)])  #From the 7th index till the end"
   ]
  },
  {
   "cell_type": "code",
   "execution_count": null,
   "metadata": {
    "cellUniqueIdByVincent": "e95c4",
    "id": "P6OrAibEyeh8",
    "outputId": "2554a0e0-07f2-4f20-c69d-6125ff6fecca"
   },
   "outputs": [
    {
     "name": "stdout",
     "output_type": "stream",
     "text": [
      "This is my\n"
     ]
    }
   ],
   "source": [
    "# Slicing with a Step\n",
    "my_string = \"This is my string!\"\n",
    "print(my_string[0:10])  # A step of 1"
   ]
  },
  {
   "cell_type": "code",
   "execution_count": 6,
   "metadata": {
    "cellUniqueIdByVincent": "38bcb",
    "id": "znToOL-kyeh8",
    "outputId": "429557da-9140-41ab-a412-9c1d7a34a1c6"
   },
   "outputs": [
    {
     "name": "stdout",
     "output_type": "stream",
     "text": [
      "Ti\n"
     ]
    }
   ],
   "source": [
    "print(my_string[0:7:5])  # A step of 6"
   ]
  },
  {
   "cell_type": "code",
   "execution_count": 95,
   "metadata": {
    "cellUniqueIdByVincent": "9778c",
    "id": "2i9WPHfiyeh8",
    "outputId": "7c0ca27a-825f-4ced-a2f7-1a8be3418f97"
   },
   "outputs": [
    {
     "name": "stdout",
     "output_type": "stream",
     "text": [
      "This is \n"
     ]
    }
   ],
   "source": [
    "# Partial Slicing\n",
    "my_string = \"This is my string!\"\n",
    "print(my_string[:8])  # All the characters before 'M'"
   ]
  },
  {
   "cell_type": "code",
   "execution_count": 96,
   "metadata": {
    "cellUniqueIdByVincent": "760f5",
    "id": "OYK0eWd3yeh8",
    "outputId": "0e359945-8b79-4843-b366-f10c360f0ebb"
   },
   "outputs": [
    {
     "name": "stdout",
     "output_type": "stream",
     "text": [
      "my string!\n"
     ]
    }
   ],
   "source": [
    "print(my_string[8:])  # All the characters starting from 'M'"
   ]
  },
  {
   "cell_type": "code",
   "execution_count": 97,
   "metadata": {
    "cellUniqueIdByVincent": "2e6ab",
    "id": "DSklaXoWyeh9",
    "outputId": "2f8a0f24-f4e3-4992-9743-20f8bbdc12e8"
   },
   "outputs": [
    {
     "name": "stdout",
     "output_type": "stream",
     "text": [
      "This is my string!\n"
     ]
    }
   ],
   "source": [
    "print(my_string[:])  # The whole string"
   ]
  },
  {
   "cell_type": "code",
   "execution_count": 98,
   "metadata": {
    "cellUniqueIdByVincent": "68d7e",
    "id": "_zZfxYLHyeh9",
    "outputId": "3b61adbb-1068-423a-b36b-959ba44ce4f6"
   },
   "outputs": [
    {
     "name": "stdout",
     "output_type": "stream",
     "text": [
      "!gnirts ym si sihT\n"
     ]
    }
   ],
   "source": [
    "print(my_string[::-1])  # The whole string in reverse (step is -1)"
   ]
  },
  {
   "cell_type": "code",
   "execution_count": null,
   "metadata": {
    "cellUniqueIdByVincent": "c45b2",
    "id": "YTpY3zLpyeh9"
   },
   "outputs": [],
   "source": []
  },
  {
   "cell_type": "markdown",
   "metadata": {
    "cellUniqueIdByVincent": "405fe",
    "id": "em-UVaPayeh9"
   },
   "source": [
    "<div class=\"alert alert-info\" style=\"background-color:#001469; color:white; padding:0px 10px; border-radius:5px;\">\n",
    "  <h2 style='margin:10px 5px'>Introduction to Python Operators</h2>\n",
    "</div>"
   ]
  },
  {
   "cell_type": "code",
   "execution_count": null,
   "metadata": {
    "cellUniqueIdByVincent": "d6b5a",
    "id": "RBRO3I6Dyeh9"
   },
   "outputs": [],
   "source": [
    "# Operators are used to perform arithmetic and logical operations on data.\n",
    "\n",
    "# The 4 main operator types in Python are:\n",
    "\n",
    "# 1. arithmetic operators\n",
    "\n",
    "# 2. comparison operators\n",
    "\n",
    "# 3. assignment operators\n",
    "\n",
    "# 4. logical operators"
   ]
  },
  {
   "cell_type": "markdown",
   "metadata": {
    "cellUniqueIdByVincent": "d1ba9",
    "id": "Gy6a0t05yeh-"
   },
   "source": [
    "<div class=\"alert alert-info\" style=\"background-color:#001469; color:white; padding:0px 10px; border-radius:5px;\">\n",
    "  <h2 style='margin:10px 5px'>Arithmetic Operators</h2>\n",
    "</div>"
   ]
  },
  {
   "cell_type": "code",
   "execution_count": 102,
   "metadata": {
    "cellUniqueIdByVincent": "545c3",
    "id": "yYNhuWfSyeh-",
    "outputId": "01df6a73-5143-443e-eeb4-52be06c96b99"
   },
   "outputs": [
    {
     "name": "stdout",
     "output_type": "stream",
     "text": [
      "15\n"
     ]
    }
   ],
   "source": [
    "# Addition\n",
    "print(5+10)"
   ]
  },
  {
   "cell_type": "code",
   "execution_count": 7,
   "metadata": {
    "cellUniqueIdByVincent": "aa417",
    "id": "jNvwiv7Yyeh-",
    "outputId": "d2b1c0b2-a82f-40a7-a922-810b0afc3d71"
   },
   "outputs": [
    {
     "name": "stdout",
     "output_type": "stream",
     "text": [
      "15.399999999999999\n"
     ]
    }
   ],
   "source": [
    "a = 13.2\n",
    "b = 2.2\n",
    "print(a+b)"
   ]
  },
  {
   "cell_type": "code",
   "execution_count": 104,
   "metadata": {
    "cellUniqueIdByVincent": "97ca1",
    "id": "T9QUbJkKyeh-",
    "outputId": "d29f9b17-dd87-4f47-c0f8-9e108ba7441b"
   },
   "outputs": [
    {
     "name": "stdout",
     "output_type": "stream",
     "text": [
      "7\n"
     ]
    }
   ],
   "source": [
    "#Subtraction\n",
    "print(10-3)"
   ]
  },
  {
   "cell_type": "code",
   "execution_count": 105,
   "metadata": {
    "cellUniqueIdByVincent": "9a457",
    "id": "6CAeDuTmyeh_",
    "outputId": "ae56664b-f277-4534-ea8c-e770f6037392"
   },
   "outputs": [
    {
     "name": "stdout",
     "output_type": "stream",
     "text": [
      "2.5\n"
     ]
    }
   ],
   "source": [
    "c = 7.5\n",
    "d = 5\n",
    "print(c-d)"
   ]
  },
  {
   "cell_type": "code",
   "execution_count": 106,
   "metadata": {
    "cellUniqueIdByVincent": "8b64a",
    "id": "xmwCiRntyeh_",
    "outputId": "edc66277-dd40-4a3b-abd8-04cc8fa8b405"
   },
   "outputs": [
    {
     "name": "stdout",
     "output_type": "stream",
     "text": [
      "600\n"
     ]
    }
   ],
   "source": [
    "## Multiplication\n",
    "print(60*10)"
   ]
  },
  {
   "cell_type": "code",
   "execution_count": 107,
   "metadata": {
    "cellUniqueIdByVincent": "d6c97",
    "id": "d25KdxjAyeh_",
    "outputId": "34910c3d-5211-4486-e3fb-efe0bdf89da3"
   },
   "outputs": [
    {
     "name": "stdout",
     "output_type": "stream",
     "text": [
      "25.0\n"
     ]
    }
   ],
   "source": [
    "e = 2.5\n",
    "f = 10\n",
    "print(e*f)"
   ]
  },
  {
   "cell_type": "code",
   "execution_count": 108,
   "metadata": {
    "cellUniqueIdByVincent": "1a2c3",
    "id": "7mliDVAuyeh_",
    "outputId": "166aa862-4ba2-4fe4-f6e7-3eb101eb3bc5"
   },
   "outputs": [
    {
     "name": "stdout",
     "output_type": "stream",
     "text": [
      "5.0\n"
     ]
    }
   ],
   "source": [
    "#Division\n",
    "print(50/10)"
   ]
  },
  {
   "cell_type": "code",
   "execution_count": 109,
   "metadata": {
    "cellUniqueIdByVincent": "05527",
    "id": "Bpp4Xv_Jyeh_",
    "outputId": "43c0f3fe-d8e7-47e7-a4af-5cf714d84a1f"
   },
   "outputs": [
    {
     "name": "stdout",
     "output_type": "stream",
     "text": [
      "8.0\n"
     ]
    }
   ],
   "source": [
    "g = 48\n",
    "h = 6\n",
    "print(g/h)"
   ]
  },
  {
   "cell_type": "code",
   "execution_count": 8,
   "metadata": {
    "cellUniqueIdByVincent": "b4e8f",
    "id": "e-xyNFhTyeiA",
    "outputId": "cc2d3b71-126c-4b3d-bad1-5ecb06bfea54"
   },
   "outputs": [
    {
     "name": "stdout",
     "output_type": "stream",
     "text": [
      "8\n"
     ]
    }
   ],
   "source": [
    "#Floor Division (Division to the nearest smaller integer)\n",
    "print(25//3)"
   ]
  },
  {
   "cell_type": "code",
   "execution_count": 111,
   "metadata": {
    "cellUniqueIdByVincent": "d272b",
    "id": "w28mtecmyeiA",
    "outputId": "012953ab-3f15-4c07-8188-ade219b8fb97"
   },
   "outputs": [
    {
     "name": "stdout",
     "output_type": "stream",
     "text": [
      "1\n"
     ]
    }
   ],
   "source": [
    "i = 3\n",
    "j = 2\n",
    "print(i//j)"
   ]
  },
  {
   "cell_type": "markdown",
   "metadata": {
    "cellUniqueIdByVincent": "9f2db",
    "id": "VqCVh-pdyeiA"
   },
   "source": [
    "<div class=\"alert alert-info\" style=\"background-color:#001469; color:white; padding:0px 10px; border-radius:5px;\">\n",
    "  <h2 style='margin:10px 5px'>Introducing Modulo</h2>\n",
    "</div>"
   ]
  },
  {
   "cell_type": "code",
   "execution_count": 112,
   "metadata": {
    "cellUniqueIdByVincent": "26bb2",
    "id": "CKcTK6Q8yeiA",
    "outputId": "7cd5b592-3b61-44e5-ced0-e9678d4b2e28"
   },
   "outputs": [
    {
     "name": "stdout",
     "output_type": "stream",
     "text": [
      "5.0\n"
     ]
    }
   ],
   "source": [
    "print(10/2)"
   ]
  },
  {
   "cell_type": "code",
   "execution_count": 113,
   "metadata": {
    "cellUniqueIdByVincent": "5fbcf",
    "id": "1SdcDBBNyeiB",
    "outputId": "8b9a5ad3-4b0a-457a-ee07-ffd5244bd527"
   },
   "outputs": [
    {
     "name": "stdout",
     "output_type": "stream",
     "text": [
      "8\n"
     ]
    }
   ],
   "source": [
    "twenty_eight = 28\n",
    "print(twenty_eight%10) #reminder is 8"
   ]
  },
  {
   "cell_type": "code",
   "execution_count": 13,
   "metadata": {
    "cellUniqueIdByVincent": "45d28",
    "id": "Mln7W962yeiB",
    "outputId": "7d4c8628-80af-49c9-d5da-f27e3ffc75e0"
   },
   "outputs": [
    {
     "name": "stdout",
     "output_type": "stream",
     "text": [
      "6\n"
     ]
    }
   ],
   "source": [
    "print(-29 % 7) #The reminder is positive if the right-hand operand is positive"
   ]
  },
  {
   "cell_type": "code",
   "execution_count": 11,
   "metadata": {
    "cellUniqueIdByVincent": "fd183",
    "id": "yJKdJrVXyeiB",
    "outputId": "71cdb08c-adf9-40a6-a8eb-4974e968e853"
   },
   "outputs": [
    {
     "name": "stdout",
     "output_type": "stream",
     "text": [
      "-5\n"
     ]
    }
   ],
   "source": [
    "print(25 % -10) #The reminder is negative if the right-hand operand is negative"
   ]
  },
  {
   "cell_type": "code",
   "execution_count": 116,
   "metadata": {
    "cellUniqueIdByVincent": "10339",
    "id": "b2H9FTtWyeiB",
    "outputId": "0f6e85da-a770-4729-ff5b-477541fae6ec"
   },
   "outputs": [
    {
     "name": "stdout",
     "output_type": "stream",
     "text": [
      "1.8999999999999986\n"
     ]
    }
   ],
   "source": [
    "print(34.4 % 2.5) #The reminder can be float"
   ]
  },
  {
   "cell_type": "markdown",
   "metadata": {
    "cellUniqueIdByVincent": "9c3be",
    "id": "S1E8za8CyeiB"
   },
   "source": [
    "<div class=\"alert alert-info\" style=\"background-color:#001469; color:white; padding:0px 10px; border-radius:5px;\">\n",
    "  <h2 style='margin:10px 5px'>Operator Precedence</h2>\n",
    "</div>"
   ]
  },
  {
   "cell_type": "code",
   "execution_count": 117,
   "metadata": {
    "cellUniqueIdByVincent": "774f8",
    "id": "se_iC-jNyeiC",
    "outputId": "cf5e9a80-fd91-439a-dd10-e87f34575a26"
   },
   "outputs": [
    {
     "name": "stdout",
     "output_type": "stream",
     "text": [
      "4\n"
     ]
    }
   ],
   "source": [
    "# Operator Precedence (will be computed on the basis of operator precedence rule)\n",
    "print(10 - 3 * 2)  #Multiplication computed first, followed by subtraction"
   ]
  },
  {
   "cell_type": "code",
   "execution_count": null,
   "metadata": {
    "cellUniqueIdByVincent": "25eb4",
    "id": "KCpcmKulyeiC",
    "outputId": "e80ac46a-790d-414a-9839-2b9c48dfad8d"
   },
   "outputs": [
    {
     "name": "stdout",
     "output_type": "stream",
     "text": [
      "12.0\n",
      "0.75\n"
     ]
    }
   ],
   "source": [
    "# Same precedence\n",
    "print(3 * 20 / 5)  # Multiplication computed first, followed by division\n",
    "print(3 / 20 * 5)  # Division computed first, followed by multiplication"
   ]
  },
  {
   "cell_type": "code",
   "execution_count": 119,
   "metadata": {
    "cellUniqueIdByVincent": "ba22c",
    "id": "xU6swcZEyeiC",
    "outputId": "12a7b259-d832-4857-f5bd-65d22a3ed101"
   },
   "outputs": [
    {
     "name": "stdout",
     "output_type": "stream",
     "text": [
      "14\n",
      "10.0\n"
     ]
    }
   ],
   "source": [
    "# Parentheses\n",
    "# An expression which is enclosed inside parentheses \n",
    "# will be computed first, regardless of operator precedence:\n",
    "\n",
    "print((10-3)*2) #Substraction occurs first\n",
    "print((18+2)/(10 % 8))"
   ]
  },
  {
   "cell_type": "markdown",
   "metadata": {
    "cellUniqueIdByVincent": "4b39f",
    "id": "MjT6491jyeiC"
   },
   "source": [
    "<div class=\"alert alert-info\" style=\"background-color:#001469; color:white; padding:0px 10px; border-radius:5px;\">\n",
    "  <h2 style='margin:10px 5px'>Comparison Operators</h2>\n",
    "</div>"
   ]
  },
  {
   "cell_type": "code",
   "execution_count": 120,
   "metadata": {
    "cellUniqueIdByVincent": "74a49",
    "id": "VHY9ilpwyeiC",
    "outputId": "5883506e-0013-44a4-bd6e-472f450d0ab0"
   },
   "outputs": [
    {
     "name": "stdout",
     "output_type": "stream",
     "text": [
      "True\n"
     ]
    }
   ],
   "source": [
    "# The result of a comparison is always a bool.\n",
    "num1 = 5\n",
    "num2 = 10\n",
    "num3 = 10\n",
    "\n",
    "print(num2 > num1)  # 10 is greater than 5"
   ]
  },
  {
   "cell_type": "code",
   "execution_count": 121,
   "metadata": {
    "cellUniqueIdByVincent": "7eab9",
    "id": "jlUDRFdGyeiD",
    "outputId": "b89e3340-5395-462f-e96e-1ab13f37b9c0"
   },
   "outputs": [
    {
     "name": "stdout",
     "output_type": "stream",
     "text": [
      "False\n"
     ]
    }
   ],
   "source": [
    "print(num1 > num2)  # 5 is not greater than 10"
   ]
  },
  {
   "cell_type": "code",
   "execution_count": 122,
   "metadata": {
    "cellUniqueIdByVincent": "43089",
    "id": "hR7xym2GyeiD",
    "outputId": "660f4b00-879d-416a-98a1-eff4931ae2ec"
   },
   "outputs": [
    {
     "name": "stdout",
     "output_type": "stream",
     "text": [
      "True\n"
     ]
    }
   ],
   "source": [
    "print(num2 is num3)  # Both have the same value"
   ]
  },
  {
   "cell_type": "code",
   "execution_count": 123,
   "metadata": {
    "cellUniqueIdByVincent": "4176d",
    "id": "gKYyyDKbyeiD",
    "outputId": "b101b85b-68b8-4c85-df13-be30f79ef48a"
   },
   "outputs": [
    {
     "name": "stdout",
     "output_type": "stream",
     "text": [
      "True\n"
     ]
    }
   ],
   "source": [
    "print(num3 is not num1)  # Both have different values"
   ]
  },
  {
   "cell_type": "code",
   "execution_count": 124,
   "metadata": {
    "cellUniqueIdByVincent": "551aa",
    "id": "Ni2eDu_vyeiD",
    "outputId": "836ce7a1-6c2d-42ab-ba6f-3383b0175d8c"
   },
   "outputs": [
    {
     "name": "stdout",
     "output_type": "stream",
     "text": [
      "False\n"
     ]
    }
   ],
   "source": [
    "print(3 + 10 == 5 + 5)  # Both are not equal"
   ]
  },
  {
   "cell_type": "code",
   "execution_count": 125,
   "metadata": {
    "cellUniqueIdByVincent": "4d81b",
    "id": "-xvbEVXLyeiE",
    "outputId": "dca0106c-35f2-44c3-9e89-b78e0d1e0586"
   },
   "outputs": [
    {
     "name": "stdout",
     "output_type": "stream",
     "text": [
      "False\n"
     ]
    }
   ],
   "source": [
    "print(3 <= 2)  # 3 is not less than or equal to 2"
   ]
  },
  {
   "cell_type": "markdown",
   "metadata": {
    "cellUniqueIdByVincent": "a8271",
    "id": "-dWLZWsgyeiE"
   },
   "source": [
    "<div class=\"alert alert-info\" style=\"background-color:#001469; color:white; padding:0px 10px; border-radius:5px;\">\n",
    "  <h2 style='margin:10px 5px'>Assignment Operators</h2>\n",
    "</div>"
   ]
  },
  {
   "cell_type": "code",
   "execution_count": 126,
   "metadata": {
    "cellUniqueIdByVincent": "db82d",
    "id": "mhqnn9TpyeiE",
    "outputId": "07001112-d815-49fb-dad3-bc08bed82655"
   },
   "outputs": [
    {
     "name": "stdout",
     "output_type": "stream",
     "text": [
      "2021\n"
     ]
    }
   ],
   "source": [
    "year = 2021\n",
    "print(year)"
   ]
  },
  {
   "cell_type": "code",
   "execution_count": 127,
   "metadata": {
    "cellUniqueIdByVincent": "1fbf8",
    "id": "2wSnzeiqyeiE",
    "outputId": "366875e4-9526-44ec-a7fb-534a70c21283"
   },
   "outputs": [
    {
     "name": "stdout",
     "output_type": "stream",
     "text": [
      "2022\n"
     ]
    }
   ],
   "source": [
    "new_year = year + 1 #Use the existing value to create a new one\n",
    "print(new_year)"
   ]
  },
  {
   "cell_type": "code",
   "execution_count": 128,
   "metadata": {
    "cellUniqueIdByVincent": "80b1e",
    "id": "FMak_QFSyeiE",
    "outputId": "df66c536-f0cf-49d4-eebd-ade16f8ce6f8"
   },
   "outputs": [
    {
     "name": "stdout",
     "output_type": "stream",
     "text": [
      "20\n"
     ]
    }
   ],
   "source": [
    "### Copying ####\n",
    "first = 20\n",
    "second = first #copy first into second\n",
    "print(second)"
   ]
  },
  {
   "cell_type": "code",
   "execution_count": 129,
   "metadata": {
    "cellUniqueIdByVincent": "c9116",
    "id": "-A19hvRFyeiF",
    "outputId": "327ed487-7ca1-4213-8fe1-59c2ae7a48c0"
   },
   "outputs": [
    {
     "name": "stdout",
     "output_type": "stream",
     "text": [
      "45 20\n"
     ]
    }
   ],
   "source": [
    "first = 45 # updating first will not affect second which we have already copied\n",
    "print(first,second) #second remains unchanged."
   ]
  },
  {
   "cell_type": "code",
   "execution_count": null,
   "metadata": {
    "cellUniqueIdByVincent": "d0340",
    "id": "3SNVjJH2yeiF"
   },
   "outputs": [],
   "source": [
    "#num = 10\n",
    "#print(num)\n",
    "\n",
    "#num +=5\n",
    "#print(num)\n",
    "\n",
    "#num -=5\n",
    "#print(num)\n",
    "\n",
    "#num *=2\n",
    "#print(num)\n",
    "\n",
    "#num /=2\n",
    "#print(num)\n",
    "\n",
    "#num **= 2\n",
    "#print(num)"
   ]
  },
  {
   "cell_type": "markdown",
   "metadata": {
    "cellUniqueIdByVincent": "da16f",
    "id": "BV389_sDyeiF"
   },
   "source": [
    "<div class=\"alert alert-info\" style=\"background-color:#001469; color:white; padding:0px 10px; border-radius:5px;\">\n",
    "  <h2 style='margin:10px 5px'>Logical Operators</h2>\n",
    "</div>"
   ]
  },
  {
   "cell_type": "code",
   "execution_count": 130,
   "metadata": {
    "cellUniqueIdByVincent": "afa13",
    "id": "13OZTKiiyeiF",
    "outputId": "ee64a815-2371-4d55-dd18-46f47f9a5971"
   },
   "outputs": [
    {
     "name": "stdout",
     "output_type": "stream",
     "text": [
      "True\n"
     ]
    }
   ],
   "source": [
    "# Logical expressions are formed using Booleans.\n",
    "\n",
    "my_bool = True or False\n",
    "print(my_bool) #OR Expression"
   ]
  },
  {
   "cell_type": "code",
   "execution_count": 131,
   "metadata": {
    "cellUniqueIdByVincent": "e68c1",
    "id": "TAJCiZMLyeiF",
    "outputId": "00bbe68e-d154-4968-f06d-2b18bfee18d3"
   },
   "outputs": [
    {
     "name": "stdout",
     "output_type": "stream",
     "text": [
      "False\n"
     ]
    }
   ],
   "source": [
    "my_bool = True and False\n",
    "print(my_bool) #AND Expression"
   ]
  },
  {
   "cell_type": "code",
   "execution_count": 134,
   "metadata": {
    "cellUniqueIdByVincent": "8873e",
    "id": "JRn5Ci19yeiG",
    "outputId": "1c32c736-20df-41ef-8033-6baca4122b21"
   },
   "outputs": [
    {
     "name": "stdout",
     "output_type": "stream",
     "text": [
      "True\n"
     ]
    }
   ],
   "source": [
    "my_bool = False\n",
    "print(not my_bool) #NOT Expression"
   ]
  },
  {
   "cell_type": "markdown",
   "metadata": {
    "cellUniqueIdByVincent": "c24f2",
    "id": "HCRyo0PVyeiG"
   },
   "source": [
    "<div class=\"alert alert-info\" style=\"background-color:#001469; color:white; padding:0px 10px; border-radius:5px;\">\n",
    "  <h2 style='margin:10px 5px'>Comparison Operators</h2>\n",
    "</div>"
   ]
  },
  {
   "cell_type": "code",
   "execution_count": null,
   "metadata": {
    "cellUniqueIdByVincent": "24426",
    "id": "LbGMKU-_yeiG",
    "outputId": "6087a858-0ad9-424f-a2ac-ddb1cd0ef9a8"
   },
   "outputs": [
    {
     "name": "stdout",
     "output_type": "stream",
     "text": [
      "False\n"
     ]
    }
   ],
   "source": [
    "print('a'<'B')"
   ]
  },
  {
   "cell_type": "code",
   "execution_count": 136,
   "metadata": {
    "cellUniqueIdByVincent": "b9ebd",
    "id": "oqt7WA9SyeiG",
    "outputId": "d5700120-ad60-4de9-8a35-f2263824f2c6"
   },
   "outputs": [
    {
     "name": "stdout",
     "output_type": "stream",
     "text": [
      "True\n"
     ]
    }
   ],
   "source": [
    "office = \"datalab\"\n",
    "office_copy = \"datalab\"\n",
    "print(office == office_copy)"
   ]
  },
  {
   "cell_type": "markdown",
   "metadata": {
    "cellUniqueIdByVincent": "2b9a1",
    "id": "vl8kPEBMyeiG"
   },
   "source": [
    "<div class=\"alert alert-info\" style=\"background-color:#001469; color:white; padding:0px 10px; border-radius:5px;\">\n",
    "  <h2 style='margin:10px 5px'>String Concatenation (Joining)</h2>\n",
    "</div>"
   ]
  },
  {
   "cell_type": "code",
   "execution_count": 137,
   "metadata": {
    "cellUniqueIdByVincent": "8a335",
    "id": "Z6KsIQUYyeiH",
    "outputId": "ac30658b-4e2a-4a6c-aeef-0bd3259f39ec"
   },
   "outputs": [
    {
     "name": "stdout",
     "output_type": "stream",
     "text": [
      "AwosanyaAdetutu\n"
     ]
    }
   ],
   "source": [
    "first_half = \"Awosanya\"\n",
    "second_half = \"Adetutu\"\n",
    "full_name = first_half + second_half\n",
    "print(full_name)"
   ]
  },
  {
   "cell_type": "code",
   "execution_count": 138,
   "metadata": {
    "cellUniqueIdByVincent": "f331e",
    "id": "o1FY-CYryeiH",
    "outputId": "9d787243-998e-4057-f049-aa386dbd3e7e"
   },
   "outputs": [
    {
     "name": "stdout",
     "output_type": "stream",
     "text": [
      "CyrilMmba\n"
     ]
    }
   ],
   "source": [
    "first_name = \"Cyril\"\n",
    "surname = \"Mmba\"\n",
    "full_name = first_name + surname\n",
    "print(full_name)"
   ]
  },
  {
   "cell_type": "code",
   "execution_count": 139,
   "metadata": {
    "cellUniqueIdByVincent": "02773",
    "id": "K6dD9AqzyeiH",
    "outputId": "b2e349d2-41f5-4ff5-c412-dcfe19398416"
   },
   "outputs": [
    {
     "name": "stdout",
     "output_type": "stream",
     "text": [
      "EzinneEzinneEzinne\n"
     ]
    }
   ],
   "source": [
    "print(\"Ezinne\"* 3) #The * operator allows us to multiply a string, resulting in a repeating pattern."
   ]
  },
  {
   "cell_type": "code",
   "execution_count": null,
   "metadata": {
    "cellUniqueIdByVincent": "7ccc1",
    "id": "ZKdv8bbZyeiI"
   },
   "outputs": [],
   "source": []
  },
  {
   "cell_type": "markdown",
   "metadata": {
    "cellUniqueIdByVincent": "9168c",
    "id": "E48R0t76yeiI"
   },
   "source": [
    "<div class=\"alert alert-info\" style=\"background-color:#001469; color:white; padding:0px 10px; border-radius:5px;\">\n",
    "  <h2 style='margin:10px 5px'>Python Collections</h2>\n",
    "</div>"
   ]
  },
  {
   "cell_type": "markdown",
   "metadata": {
    "cellUniqueIdByVincent": "7d0e3"
   },
   "source": [
    "There are four collection data types in the Python programming language:\n",
    "\n",
    "List: is a collection which is ordered and changeable. Allows duplicate members.A List can contain different data types.\n",
    "\n",
    "Tuple: is a collection which is ordered and unchangeable. Allows duplicate members.\n",
    "\n",
    "Set: is a collection which is unordered, unchangeable*, and unindexed. No duplicate members.A set can contain different data types.\n",
    "\n",
    "Dictionary: is a collection which is ordered and changeable. No duplicate members."
   ]
  },
  {
   "cell_type": "markdown",
   "metadata": {
    "cellUniqueIdByVincent": "097ff"
   },
   "source": [
    "*Set items are unchangeable, but you can remove items and add new items."
   ]
  },
  {
   "cell_type": "markdown",
   "metadata": {
    "cellUniqueIdByVincent": "fb0b2"
   },
   "source": [
    "<div class=\"alert alert-info\" style=\"background-color:#001469; color:white; padding:0px 10px; border-radius:5px;\">\n",
    "  <h2 style='margin:10px 5px'>Python Tuple</h2>\n",
    "</div>"
   ]
  },
  {
   "cell_type": "markdown",
   "metadata": {
    "cellUniqueIdByVincent": "36fa9"
   },
   "source": [
    "Tuples are unchangeable, meaning that we cannot change, add or remove items after the tuple has been created."
   ]
  },
  {
   "cell_type": "code",
   "execution_count": 144,
   "metadata": {
    "cellUniqueIdByVincent": "fe1c2"
   },
   "outputs": [],
   "source": [
    "a = (\"abc\", 34, True, 40, \"male\")"
   ]
  },
  {
   "cell_type": "code",
   "execution_count": 145,
   "metadata": {
    "cellUniqueIdByVincent": "2af95"
   },
   "outputs": [
    {
     "data": {
      "text/plain": [
       "('abc', 34, True, 40, 'male')"
      ]
     },
     "execution_count": 145,
     "metadata": {},
     "output_type": "execute_result"
    }
   ],
   "source": [
    "a"
   ]
  },
  {
   "cell_type": "code",
   "execution_count": 141,
   "metadata": {
    "cellUniqueIdByVincent": "aafb1"
   },
   "outputs": [
    {
     "data": {
      "text/plain": [
       "tuple"
      ]
     },
     "execution_count": 141,
     "metadata": {},
     "output_type": "execute_result"
    }
   ],
   "source": [
    "type(a)"
   ]
  },
  {
   "cell_type": "code",
   "execution_count": 142,
   "metadata": {
    "cellUniqueIdByVincent": "3bea6"
   },
   "outputs": [
    {
     "ename": "TypeError",
     "evalue": "'tuple' object does not support item assignment",
     "output_type": "error",
     "traceback": [
      "\u001b[1;31m---------------------------------------------------------------------------\u001b[0m",
      "\u001b[1;31mTypeError\u001b[0m                                 Traceback (most recent call last)",
      "\u001b[1;32m<ipython-input-142-28956847715a>\u001b[0m in \u001b[0;36m<module>\u001b[1;34m\u001b[0m\n\u001b[0;32m      1\u001b[0m \u001b[1;31m#It is immutable (values inside a Tuple can not be changed)\u001b[0m\u001b[1;33m\u001b[0m\u001b[1;33m\u001b[0m\u001b[1;33m\u001b[0m\u001b[0m\n\u001b[1;32m----> 2\u001b[1;33m \u001b[0ma\u001b[0m\u001b[1;33m[\u001b[0m\u001b[1;36m0\u001b[0m\u001b[1;33m]\u001b[0m \u001b[1;33m=\u001b[0m \u001b[1;34m\"xyz\"\u001b[0m\u001b[1;33m\u001b[0m\u001b[1;33m\u001b[0m\u001b[0m\n\u001b[0m",
      "\u001b[1;31mTypeError\u001b[0m: 'tuple' object does not support item assignment"
     ]
    }
   ],
   "source": [
    "#It is immutable (values inside a Tuple can not be changed)\n",
    "a[0] = \"xyz\""
   ]
  },
  {
   "cell_type": "markdown",
   "metadata": {
    "cellUniqueIdByVincent": "4c77a"
   },
   "source": [
    "Why then must we use tuple? Tuples make the code safe from any accidental modification. If a data is needed in a program which is not supposed to be changed, then it is better to put it in tuple."
   ]
  },
  {
   "cell_type": "markdown",
   "metadata": {
    "cellUniqueIdByVincent": "b6d19"
   },
   "source": [
    "<div class=\"alert alert-info\" style=\"background-color:#001469; color:white; padding:0px 10px; border-radius:5px;\">\n",
    "  <h2 style='margin:10px 5px'>Python Set</h2>\n",
    "</div>"
   ]
  },
  {
   "cell_type": "code",
   "execution_count": 143,
   "metadata": {
    "cellUniqueIdByVincent": "23b84"
   },
   "outputs": [
    {
     "data": {
      "text/plain": [
       "{'bar', 'baz', 'foo', 'qux'}"
      ]
     },
     "execution_count": 143,
     "metadata": {},
     "output_type": "execute_result"
    }
   ],
   "source": [
    "#In a set, only one of the duplicate values get printed\n",
    "#Set items are unordered, unchangeable*, and do not allow duplicate values.\n",
    "x = set(['foo', 'bar', 'baz', 'foo', 'qux'])\n",
    "x"
   ]
  },
  {
   "cell_type": "code",
   "execution_count": null,
   "metadata": {
    "cellUniqueIdByVincent": "da2ba"
   },
   "outputs": [],
   "source": [
    "type(x)"
   ]
  },
  {
   "cell_type": "code",
   "execution_count": 146,
   "metadata": {
    "cellUniqueIdByVincent": "c87e7"
   },
   "outputs": [
    {
     "data": {
      "text/plain": [
       "{34, 40, True, 'abc', 'male'}"
      ]
     },
     "execution_count": 146,
     "metadata": {},
     "output_type": "execute_result"
    }
   ],
   "source": [
    "#Another one to create a python set\n",
    "y = {\"abc\", 34, True, 40, \"male\"}\n",
    "y"
   ]
  },
  {
   "cell_type": "code",
   "execution_count": 147,
   "metadata": {
    "cellUniqueIdByVincent": "fc1f1"
   },
   "outputs": [
    {
     "data": {
      "text/plain": [
       "set"
      ]
     },
     "execution_count": 147,
     "metadata": {},
     "output_type": "execute_result"
    }
   ],
   "source": [
    "type(y)"
   ]
  },
  {
   "cell_type": "code",
   "execution_count": 148,
   "metadata": {
    "cellUniqueIdByVincent": "e1a82"
   },
   "outputs": [
    {
     "ename": "TypeError",
     "evalue": "unhashable type: 'list'",
     "output_type": "error",
     "traceback": [
      "\u001b[1;31m---------------------------------------------------------------------------\u001b[0m",
      "\u001b[1;31mTypeError\u001b[0m                                 Traceback (most recent call last)",
      "\u001b[1;32m<ipython-input-148-f111c6f167ea>\u001b[0m in \u001b[0;36m<module>\u001b[1;34m\u001b[0m\n\u001b[0;32m      1\u001b[0m \u001b[1;31m#set cannot have mutable items\u001b[0m\u001b[1;33m\u001b[0m\u001b[1;33m\u001b[0m\u001b[1;33m\u001b[0m\u001b[0m\n\u001b[1;32m----> 2\u001b[1;33m \u001b[0mz\u001b[0m \u001b[1;33m=\u001b[0m \u001b[1;33m{\u001b[0m\u001b[1;36m1\u001b[0m\u001b[1;33m,\u001b[0m \u001b[1;36m2\u001b[0m\u001b[1;33m,\u001b[0m \u001b[1;33m[\u001b[0m\u001b[1;36m3\u001b[0m\u001b[1;33m,\u001b[0m \u001b[1;36m4\u001b[0m\u001b[1;33m]\u001b[0m\u001b[1;33m}\u001b[0m\u001b[1;33m\u001b[0m\u001b[1;33m\u001b[0m\u001b[0m\n\u001b[0m",
      "\u001b[1;31mTypeError\u001b[0m: unhashable type: 'list'"
     ]
    }
   ],
   "source": [
    "#set cannot have mutable items\n",
    "#Since a python List is mutable, you cannot combine with a python set\n",
    "z = {1, 2, [3, 4]}"
   ]
  },
  {
   "cell_type": "code",
   "execution_count": 149,
   "metadata": {
    "cellUniqueIdByVincent": "26a07"
   },
   "outputs": [
    {
     "ename": "TypeError",
     "evalue": "'set' object does not support item assignment",
     "output_type": "error",
     "traceback": [
      "\u001b[1;31m---------------------------------------------------------------------------\u001b[0m",
      "\u001b[1;31mTypeError\u001b[0m                                 Traceback (most recent call last)",
      "\u001b[1;32m<ipython-input-149-91aadd807e89>\u001b[0m in \u001b[0;36m<module>\u001b[1;34m\u001b[0m\n\u001b[0;32m      3\u001b[0m \u001b[1;31m#but you can remove items and add new items.\u001b[0m\u001b[1;33m\u001b[0m\u001b[1;33m\u001b[0m\u001b[1;33m\u001b[0m\u001b[0m\n\u001b[0;32m      4\u001b[0m \u001b[1;33m\u001b[0m\u001b[0m\n\u001b[1;32m----> 5\u001b[1;33m \u001b[0my\u001b[0m\u001b[1;33m[\u001b[0m\u001b[1;36m0\u001b[0m\u001b[1;33m]\u001b[0m \u001b[1;33m=\u001b[0m \u001b[1;36m3\u001b[0m\u001b[1;33m\u001b[0m\u001b[1;33m\u001b[0m\u001b[0m\n\u001b[0m",
      "\u001b[1;31mTypeError\u001b[0m: 'set' object does not support item assignment"
     ]
    }
   ],
   "source": [
    "#Once a set is created, you cannot change its items\n",
    "# A python set is immutable\n",
    "#but you can remove items and add new items.\n",
    "\n",
    "y[0] = 3 "
   ]
  },
  {
   "cell_type": "code",
   "execution_count": 150,
   "metadata": {
    "cellUniqueIdByVincent": "406cf"
   },
   "outputs": [
    {
     "data": {
      "text/plain": [
       "{'bar', 'baz', 'foo', 'qux'}"
      ]
     },
     "execution_count": 150,
     "metadata": {},
     "output_type": "execute_result"
    }
   ],
   "source": [
    "#To modify set elements/values\n",
    "x = {'foo', 'bar', 'baz'}\n",
    "x.add('qux')\n",
    "x"
   ]
  },
  {
   "cell_type": "code",
   "execution_count": 151,
   "metadata": {
    "cellUniqueIdByVincent": "2bf49"
   },
   "outputs": [
    {
     "data": {
      "text/plain": [
       "{'bar', 'foo', 'qux'}"
      ]
     },
     "execution_count": 151,
     "metadata": {},
     "output_type": "execute_result"
    }
   ],
   "source": [
    "x.remove('baz')\n",
    "x"
   ]
  },
  {
   "cell_type": "code",
   "execution_count": 152,
   "metadata": {
    "cellUniqueIdByVincent": "5ce08"
   },
   "outputs": [
    {
     "data": {
      "text/plain": [
       "'bar'"
      ]
     },
     "execution_count": 152,
     "metadata": {},
     "output_type": "execute_result"
    }
   ],
   "source": [
    "#Pop removes and returns an arbitrarily chosen element from x. \n",
    "#If x is empty, x.pop() raises an exception:\n",
    "x.pop()"
   ]
  },
  {
   "cell_type": "code",
   "execution_count": 153,
   "metadata": {
    "cellUniqueIdByVincent": "ccda3"
   },
   "outputs": [
    {
     "data": {
      "text/plain": [
       "{'bar', 'baz', 'foo', 'quux', 'qux'}"
      ]
     },
     "execution_count": 153,
     "metadata": {},
     "output_type": "execute_result"
    }
   ],
   "source": [
    "#In Python, set union can be performed with the | operator:\n",
    "\n",
    "#Consider these two sets:\n",
    "x1 = {'foo', 'bar', 'baz'}\n",
    "x2 = {'baz', 'qux', 'quux'}\n",
    "x1.union(x2)  "
   ]
  },
  {
   "cell_type": "markdown",
   "metadata": {
    "cellUniqueIdByVincent": "0f431"
   },
   "source": [
    "<div class=\"alert alert-info\" style=\"background-color:#001469; color:white; padding:0px 10px; border-radius:5px;\">\n",
    "  <h2 style='margin:10px 5px'>Python Set Operations</h2>\n",
    "</div>"
   ]
  },
  {
   "cell_type": "markdown",
   "metadata": {
    "cellUniqueIdByVincent": "77f88"
   },
   "source": [
    "Sets can be used to carry out mathematical set operations like union, intersection, difference and symmetric difference."
   ]
  },
  {
   "cell_type": "code",
   "execution_count": null,
   "metadata": {
    "cellUniqueIdByVincent": "5f595"
   },
   "outputs": [],
   "source": [
    "# Difference of two sets\n",
    "# initialize A and B\n",
    "A = {1, 2, 3, 4, 5}\n",
    "B = {4, 5, 6, 7, 8}\n",
    "\n",
    "print(A - B)"
   ]
  },
  {
   "cell_type": "code",
   "execution_count": null,
   "metadata": {
    "cellUniqueIdByVincent": "ed7c4"
   },
   "outputs": [],
   "source": [
    "# use difference function on A\n",
    "A.difference(B)"
   ]
  },
  {
   "cell_type": "code",
   "execution_count": null,
   "metadata": {
    "cellUniqueIdByVincent": "46157"
   },
   "outputs": [],
   "source": [
    "# use difference function on B\n",
    "B.difference(A)"
   ]
  },
  {
   "cell_type": "markdown",
   "metadata": {
    "cellUniqueIdByVincent": "38b81",
    "id": "4Xw6HFMUyeiI"
   },
   "source": [
    "<div class=\"alert alert-info\" style=\"background-color:#001469; color:white; padding:0px 10px; border-radius:5px;\">\n",
    "  <h2 style='margin:10px 5px'>Python List</h2>\n",
    "</div>"
   ]
  },
  {
   "cell_type": "code",
   "execution_count": 154,
   "metadata": {
    "cellUniqueIdByVincent": "37ef7",
    "id": "hJ5YF6CfyeiI",
    "outputId": "2893842b-5423-4fae-c6a7-08ba789bf1ba"
   },
   "outputs": [
    {
     "name": "stdout",
     "output_type": "stream",
     "text": [
      "[1, 3, 'intern', 34, 'S234']\n"
     ]
    }
   ],
   "source": [
    "#Example of Python list\n",
    "my = [1,3,\"intern\",34,\"S234\"]\n",
    "print(my)"
   ]
  },
  {
   "cell_type": "code",
   "execution_count": 155,
   "metadata": {
    "cellUniqueIdByVincent": "929c0"
   },
   "outputs": [
    {
     "data": {
      "text/plain": [
       "['yemi', 3, 'intern', 34, 'S234']"
      ]
     },
     "execution_count": 155,
     "metadata": {},
     "output_type": "execute_result"
    }
   ],
   "source": [
    "#Python list is mutable (unlike a python set and a python Tuple)\n",
    "my[0] = \"yemi\"\n",
    "my"
   ]
  },
  {
   "cell_type": "code",
   "execution_count": 156,
   "metadata": {
    "cellUniqueIdByVincent": "2930d",
    "id": "7qhFfTg9yeiI",
    "outputId": "e8110b49-09d5-4392-8d1d-2e197a11ff5b"
   },
   "outputs": [
    {
     "name": "stdout",
     "output_type": "stream",
     "text": [
      "['Ezinne', 1, 'Nurudeen', 2, 'Olasupo', 3, 'Austin', 4, 'Usman', 5]\n"
     ]
    }
   ],
   "source": [
    "datalab_interns =[\"Ezinne\", 1, \"Nurudeen\", 2, \"Olasupo\", 3, \"Austin\", 4, \"Usman\",5]\n",
    "print(datalab_interns)"
   ]
  },
  {
   "cell_type": "code",
   "execution_count": 157,
   "metadata": {
    "cellUniqueIdByVincent": "a0010",
    "id": "VvdmuBtzyeiJ",
    "outputId": "6b5e78e2-8f82-4dc3-bcc7-ab9c706b1883"
   },
   "outputs": [
    {
     "name": "stdout",
     "output_type": "stream",
     "text": [
      "['Olasupo', 3]\n"
     ]
    }
   ],
   "source": [
    "print(datalab_interns[4:6]) #Lists can be indexed and sliced just like strings"
   ]
  },
  {
   "cell_type": "code",
   "execution_count": 158,
   "metadata": {
    "cellUniqueIdByVincent": "8952b",
    "id": "Ee4wdJMzyeiJ"
   },
   "outputs": [
    {
     "name": "stdout",
     "output_type": "stream",
     "text": [
      "10\n"
     ]
    }
   ],
   "source": [
    "print(len(datalab_interns))"
   ]
  },
  {
   "cell_type": "code",
   "execution_count": 17,
   "metadata": {
    "cellUniqueIdByVincent": "e0307",
    "id": "d9erU5I6yeiJ",
    "outputId": "aa2db568-4417-4406-86df-df937d661a58"
   },
   "outputs": [
    {
     "name": "stdout",
     "output_type": "stream",
     "text": [
      "\n",
      "Multi-Dimensional List: \n",
      "[['Adegboyega', 'For'], ['President', '2022'], ['I will vote for him', 'my name', True, 'mylife']]\n"
     ]
    }
   ],
   "source": [
    "# Creating a Multi-Dimensional List (By Nesting a list inside a List) \n",
    "List = [['Adegboyega', 'For'] , ['President','2022'], ['I will vote for him', \"my name\", True ,\"mylife\"]] \n",
    "print(\"\\nMulti-Dimensional List: \") \n",
    "print(List)"
   ]
  },
  {
   "cell_type": "code",
   "execution_count": 21,
   "metadata": {
    "cellUniqueIdByVincent": "9b332"
   },
   "outputs": [
    {
     "data": {
      "text/plain": [
       "['I will vote for him']"
      ]
     },
     "execution_count": 21,
     "metadata": {},
     "output_type": "execute_result"
    }
   ],
   "source": [
    "(List[2][0:1])"
   ]
  },
  {
   "cell_type": "code",
   "execution_count": 161,
   "metadata": {
    "cellUniqueIdByVincent": "d1f75",
    "id": "ewtBkVUWyeiJ",
    "outputId": "134c185f-870b-4c4b-f7de-b84de155df35"
   },
   "outputs": [
    {
     "name": "stdout",
     "output_type": "stream",
     "text": [
      "\n",
      "List with the use of Mixed Values: \n",
      "[1, 2, '', 4, 'Adegboyega', 6, 'Esther']\n"
     ]
    }
   ],
   "source": [
    "# Creating a List with mixed type of values (Having numbers and strings) \n",
    "List = [1, 2, '', 4, 'Adegboyega', 6, 'Esther'] \n",
    "print(\"\\nList with the use of Mixed Values: \") \n",
    "print(List)"
   ]
  },
  {
   "cell_type": "markdown",
   "metadata": {
    "cellUniqueIdByVincent": "85cdb",
    "id": "7J3_wjXGyeiK"
   },
   "source": [
    "<div class=\"alert alert-info\" style=\"background-color:#001469; color:white; padding:0px 10px; border-radius:5px;\">\n",
    "  <h2 style='margin:10px 5px'>Demonstrate Addition of Elements into a List</h2>\n",
    "</div>"
   ]
  },
  {
   "cell_type": "code",
   "execution_count": 202,
   "metadata": {
    "cellUniqueIdByVincent": "6fbae",
    "id": "6Vtc3L61yeiK"
   },
   "outputs": [
    {
     "name": "stdout",
     "output_type": "stream",
     "text": [
      "Initial blank List: \n",
      "[]\n"
     ]
    }
   ],
   "source": [
    "# Creating a List \n",
    "List = [] #An empty List\n",
    "print(\"Initial blank List: \") \n",
    "print(List) "
   ]
  },
  {
   "cell_type": "code",
   "execution_count": 203,
   "metadata": {
    "cellUniqueIdByVincent": "2f7a2",
    "id": "Irk0kfgGyeiK"
   },
   "outputs": [
    {
     "name": "stdout",
     "output_type": "stream",
     "text": [
      "\n",
      "List after Addition of Three elements: \n",
      "[1, 2, 3]\n"
     ]
    }
   ],
   "source": [
    "# Addition of Elements in the List \n",
    "List.append(1) \n",
    "List.append(2) \n",
    "List.append(3) \n",
    "print(\"\\nList after Addition of Three elements: \") \n",
    "print(List) "
   ]
  },
  {
   "cell_type": "code",
   "execution_count": 204,
   "metadata": {
    "cellUniqueIdByVincent": "80d12"
   },
   "outputs": [
    {
     "data": {
      "text/plain": [
       "[1, 2, 3, 'yemi']"
      ]
     },
     "execution_count": 204,
     "metadata": {},
     "output_type": "execute_result"
    }
   ],
   "source": [
    "List.append(\"yemi\")\n",
    "List"
   ]
  },
  {
   "cell_type": "code",
   "execution_count": 205,
   "metadata": {
    "cellUniqueIdByVincent": "5fe28",
    "id": "LO9oprTMyeiK"
   },
   "outputs": [
    {
     "name": "stdout",
     "output_type": "stream",
     "text": [
      "\n",
      "List after Addition of elements from 1-3: \n",
      "[1, 2, 3, 'yemi', 1, 2, 3]\n"
     ]
    }
   ],
   "source": [
    "# LOOP: Adding elements to the List using Iterator (\"For\" Iterator)\n",
    "for i in range(1, 4):\n",
    "    List.append(i) \n",
    "print(\"\\nList after Addition of elements from 1-3: \") \n",
    "print(List) "
   ]
  },
  {
   "cell_type": "code",
   "execution_count": 206,
   "metadata": {
    "cellUniqueIdByVincent": "5e87d",
    "id": "rhlXx6vcyeiK"
   },
   "outputs": [
    {
     "name": "stdout",
     "output_type": "stream",
     "text": [
      "\n",
      "List after Addition of a Tuple: \n",
      "[1, 2, 3, 'yemi', 1, 2, 3, (5, 6)]\n"
     ]
    }
   ],
   "source": [
    "# Adding Tuples to the List\n",
    "# A tuple is a kind list that is immutable.\n",
    "List.append((5, 6)) \n",
    "print(\"\\nList after Addition of a Tuple: \")\n",
    "print(List)"
   ]
  },
  {
   "cell_type": "code",
   "execution_count": 207,
   "metadata": {
    "cellUniqueIdByVincent": "fa6b9"
   },
   "outputs": [
    {
     "data": {
      "text/plain": [
       "[1, 2, 3, 'yemi', 1, 2, 3, (5, 6), {1, 2, 3}]"
      ]
     },
     "execution_count": 207,
     "metadata": {},
     "output_type": "execute_result"
    }
   ],
   "source": [
    "List.append({1,2,3})\n",
    "List"
   ]
  },
  {
   "cell_type": "code",
   "execution_count": 208,
   "metadata": {
    "cellUniqueIdByVincent": "2f504"
   },
   "outputs": [
    {
     "name": "stdout",
     "output_type": "stream",
     "text": [
      "\n",
      "List after Addition of Some Names: \n",
      "[1, 2, 3, 'yemi', 1, 2, 3, (5, 6), {1, 2, 3}, ['Esther', 'Matthew']]\n"
     ]
    }
   ],
   "source": [
    "List2 = ['Esther', 'Matthew'] \n",
    "List.append(List2) \n",
    "print(\"\\nList after Addition of Some Names: \") \n",
    "print(List) "
   ]
  },
  {
   "cell_type": "markdown",
   "metadata": {
    "cellUniqueIdByVincent": "fa94f"
   },
   "source": [
    "<div class=\"alert alert-info\" style=\"background-color:#001469; color:white; padding:0px 10px; border-radius:5px;\">\n",
    "  <h2 style='margin:10px 5px'>Printing with \"For\" Loop (Iterator)</h2>\n",
    "</div>"
   ]
  },
  {
   "cell_type": "code",
   "execution_count": 209,
   "metadata": {
    "cellUniqueIdByVincent": "5dd86"
   },
   "outputs": [
    {
     "name": "stdout",
     "output_type": "stream",
     "text": [
      "letter:b\n",
      "letter:e\n",
      "letter:a\n",
      "letter:u\n",
      "letter:t\n",
      "letter:y\n"
     ]
    }
   ],
   "source": [
    "secret = \"beauty\"\n",
    "for char in secret:\n",
    "    print (\"letter:\" + char)"
   ]
  },
  {
   "cell_type": "code",
   "execution_count": 3,
   "metadata": {
    "cellUniqueIdByVincent": "0b254"
   },
   "outputs": [
    {
     "name": "stdout",
     "output_type": "stream",
     "text": [
      "Present:ESTHER is in the Class\n"
     ]
    }
   ],
   "source": [
    "interns = [\"ESTHER\",\"Adegboyega\",\"Ezinne\"]\n",
    "for s in interns:\n",
    "    if s in (\"ESTHER\"):\n",
    "        print(\"Present:\" + s + \" \" + \"is in the Class\")"
   ]
  },
  {
   "cell_type": "code",
   "execution_count": 4,
   "metadata": {},
   "outputs": [
    {
     "name": "stdout",
     "output_type": "stream",
     "text": [
      "Present: ESTHER is in the class\n"
     ]
    }
   ],
   "source": [
    "for s in interns:\n",
    "    if s in (\"ESTHER\"):\n",
    "        print(F\"Present: {s} is in the class\")"
   ]
  },
  {
   "cell_type": "code",
   "execution_count": 224,
   "metadata": {
    "cellUniqueIdByVincent": "57ce8"
   },
   "outputs": [
    {
     "data": {
      "text/plain": [
       "'Moses'"
      ]
     },
     "execution_count": 224,
     "metadata": {},
     "output_type": "execute_result"
    }
   ],
   "source": [
    "interns_A  = []\n",
    "interns_B = [\"yemi\",\"Moses\",\"Ada\"]\n",
    "for i in interns_B:\n",
    "    interns_A.append(i)\n",
    "interns_A.pop(1)"
   ]
  },
  {
   "cell_type": "code",
   "execution_count": null,
   "metadata": {
    "cellUniqueIdByVincent": "18594"
   },
   "outputs": [
    {
     "name": "stdout",
     "output_type": "stream",
     "text": [
      "B\n",
      "Y\n"
     ]
    }
   ],
   "source": [
    "secret = \"BoY\"\n",
    "for char in secret:\n",
    "    if char.isupper():\n",
    "        print (char)"
   ]
  },
  {
   "cell_type": "code",
   "execution_count": 13,
   "metadata": {
    "cellUniqueIdByVincent": "7d875"
   },
   "outputs": [
    {
     "name": "stdout",
     "output_type": "stream",
     "text": [
      "\n",
      "A1\n",
      "B2\n",
      "C3\n",
      "\n"
     ]
    }
   ],
   "source": [
    "letters = \"ABC\"\n",
    "figures = \"123\"\n",
    "result = \"\\n\"\n",
    "for i in range(3):\n",
    "    result += letters[i] + figures[i] + \"\\n\"\n",
    "print(result)"
   ]
  },
  {
   "cell_type": "code",
   "execution_count": null,
   "metadata": {
    "cellUniqueIdByVincent": "af2f7"
   },
   "outputs": [],
   "source": [
    "for num in range(5):\n",
    "    print(num)"
   ]
  },
  {
   "cell_type": "code",
   "execution_count": 14,
   "metadata": {
    "cellUniqueIdByVincent": "c9575"
   },
   "outputs": [
    {
     "name": "stdout",
     "output_type": "stream",
     "text": [
      "2\n",
      "3\n",
      "4\n",
      "5\n"
     ]
    }
   ],
   "source": [
    "for num in range(2,6):\n",
    "    print(num)"
   ]
  },
  {
   "cell_type": "code",
   "execution_count": 19,
   "metadata": {
    "cellUniqueIdByVincent": "15915"
   },
   "outputs": [
    {
     "name": "stdout",
     "output_type": "stream",
     "text": [
      "2\n",
      "4\n"
     ]
    }
   ],
   "source": [
    "for num in range(2,6,2):\n",
    "    print(num)"
   ]
  },
  {
   "cell_type": "code",
   "execution_count": 17,
   "metadata": {
    "cellUniqueIdByVincent": "74b2a"
   },
   "outputs": [
    {
     "name": "stdout",
     "output_type": "stream",
     "text": [
      "6\n",
      "5\n",
      "4\n",
      "3\n"
     ]
    }
   ],
   "source": [
    "for num in range (6,2,-1):\n",
    "    print(num)"
   ]
  },
  {
   "cell_type": "code",
   "execution_count": 22,
   "metadata": {
    "cellUniqueIdByVincent": "deb9f"
   },
   "outputs": [
    {
     "name": "stdout",
     "output_type": "stream",
     "text": [
      "[3, 6, 9, 12]\n"
     ]
    }
   ],
   "source": [
    "print(list(range(3,15,3)))"
   ]
  },
  {
   "cell_type": "markdown",
   "metadata": {
    "cellUniqueIdByVincent": "817f6"
   },
   "source": [
    "<div class=\"alert alert-info\" style=\"background-color:#001469; color:white; padding:0px 10px; border-radius:5px;\">\n",
    "  <h2 style='margin:10px 5px'>Creating a Nested List</h2>\n",
    "</div>"
   ]
  },
  {
   "cell_type": "code",
   "execution_count": null,
   "metadata": {
    "cellUniqueIdByVincent": "427bf",
    "id": "WlAncwJDyeiL"
   },
   "outputs": [],
   "source": [
    "# Creating a Multi-Dimensional List (By Nesting a list inside a List) \n",
    "List = [['Team', 'Unique'] , ['For','Real' ]]\n",
    "print(List) "
   ]
  },
  {
   "cell_type": "markdown",
   "metadata": {
    "cellUniqueIdByVincent": "aedd2",
    "id": "KZ6Gw6LNyeiL"
   },
   "source": [
    "<div class=\"alert alert-info\" style=\"background-color:#001469; color:white; padding:0px 10px; border-radius:5px;\">\n",
    "  <h2 style='margin:10px 5px'>Accessing an Element from Nested List using Index Number</h2>\n",
    "</div>"
   ]
  },
  {
   "cell_type": "code",
   "execution_count": null,
   "metadata": {
    "cellUniqueIdByVincent": "bab9c"
   },
   "outputs": [],
   "source": [
    "List"
   ]
  },
  {
   "cell_type": "code",
   "execution_count": null,
   "metadata": {
    "cellUniqueIdByVincent": "61563",
    "id": "zY3P2uQXyeiL"
   },
   "outputs": [],
   "source": [
    "print(List[0][1]) "
   ]
  },
  {
   "cell_type": "code",
   "execution_count": null,
   "metadata": {
    "cellUniqueIdByVincent": "457a4"
   },
   "outputs": [],
   "source": [
    "print(List[1][0])"
   ]
  },
  {
   "cell_type": "markdown",
   "metadata": {
    "cellUniqueIdByVincent": "412ed",
    "id": "hQx1Id93yeiL"
   },
   "source": [
    "<div class=\"alert alert-info\" style=\"background-color:#001469; color:white; padding:0px 10px; border-radius:5px;\">\n",
    "  <h2 style='margin:10px 5px'>Demonstrate Removal of Elements in a List</h2>\n",
    "</div>"
   ]
  },
  {
   "cell_type": "code",
   "execution_count": 23,
   "metadata": {
    "cellUniqueIdByVincent": "1b19b",
    "id": "E6vtevZiyeiL"
   },
   "outputs": [
    {
     "name": "stdout",
     "output_type": "stream",
     "text": [
      "Intial List: \n",
      "[1, 2, 3, 4, 5, 6, 7, 8, 9, 10, 11, 12]\n"
     ]
    }
   ],
   "source": [
    "# Creating a List \n",
    "List = [1, 2, 3, 4, 5, 6, 7, 8, 9, 10, 11, 12] \n",
    "print(\"Intial List: \") \n",
    "print(List) "
   ]
  },
  {
   "cell_type": "code",
   "execution_count": 25,
   "metadata": {
    "cellUniqueIdByVincent": "d9494",
    "id": "pMcDGmnQyeiL"
   },
   "outputs": [],
   "source": [
    "# Removing elements from List using Remove() method \n",
    "List.remove(5)"
   ]
  },
  {
   "cell_type": "code",
   "execution_count": 26,
   "metadata": {
    "cellUniqueIdByVincent": "ba518",
    "id": "jkoLYs_9yeiM"
   },
   "outputs": [],
   "source": [
    "List.remove(6) "
   ]
  },
  {
   "cell_type": "code",
   "execution_count": 27,
   "metadata": {
    "cellUniqueIdByVincent": "c27ff",
    "id": "fNas_vJNyeiM"
   },
   "outputs": [
    {
     "name": "stdout",
     "output_type": "stream",
     "text": [
      "\n",
      "List after Removal of two elements: \n",
      "[1, 2, 3, 4, 7, 8, 9, 10, 11, 12]\n"
     ]
    }
   ],
   "source": [
    "print(\"\\nList after Removal of two elements: \") \n",
    "print(List) "
   ]
  },
  {
   "cell_type": "code",
   "execution_count": null,
   "metadata": {
    "cellUniqueIdByVincent": "c595d",
    "id": "JxLC1ar1yeiM"
   },
   "outputs": [],
   "source": [
    "##### Removing elements from List using iterator method ###### \n",
    "for i in range(1, 5): \n",
    "    List.remove(i) \n",
    "print(\"\\nList after Removing a range of elements: \") \n",
    "print(List) "
   ]
  },
  {
   "cell_type": "code",
   "execution_count": null,
   "metadata": {
    "cellUniqueIdByVincent": "ae9aa",
    "id": "TDf_psAkyeiM"
   },
   "outputs": [],
   "source": [
    "List = [1,2,3,4,5] \n",
    "\n",
    "#### Removing element from the Set using the pop() method #######\n",
    "List.pop() \n",
    "print(\"\\nList after popping an element: \") \n",
    "print(List) "
   ]
  },
  {
   "cell_type": "code",
   "execution_count": null,
   "metadata": {
    "cellUniqueIdByVincent": "88da6",
    "id": "tpv27ziPyeiM"
   },
   "outputs": [],
   "source": [
    "# Removing element at a specific location from the Set using the pop() method \n",
    "List.pop(2) \n",
    "print(\"\\nList after popping a specific element: \") \n",
    "print(List) "
   ]
  },
  {
   "cell_type": "markdown",
   "metadata": {
    "cellUniqueIdByVincent": "4b128",
    "id": "JMBs1LK2yeiO"
   },
   "source": [
    "<div class=\"alert alert-info\" style=\"background-color:#E88209; color:white; padding:0px 10px; border-radius:5px;\">\n",
    "  <h2 style='margin:10px 5px'>Writing your Own Program</h2>\n",
    "</div>"
   ]
  },
  {
   "cell_type": "code",
   "execution_count": 34,
   "metadata": {
    "cellUniqueIdByVincent": "1efc2",
    "id": "U24EuEGuyeiP"
   },
   "outputs": [
    {
     "name": "stdout",
     "output_type": "stream",
     "text": [
      "Sum of all elements in the list:  28\n"
     ]
    }
   ],
   "source": [
    "total = 0\n",
    "\n",
    "# creating a list\n",
    "list1 = [1,2,3,4,5,6,7]\n",
    "\n",
    "# Iterate each element in the list\n",
    "# and add them in variable total\n",
    "for element in range(0, len(list1)):\n",
    "    total = total + list1[element]\n",
    "\n",
    "# printing total value\n",
    "print(\"Sum of all elements in the list: \", total)"
   ]
  },
  {
   "cell_type": "code",
   "execution_count": null,
   "metadata": {},
   "outputs": [],
   "source": []
  },
  {
   "cell_type": "code",
   "execution_count": 31,
   "metadata": {},
   "outputs": [
    {
     "data": {
      "text/plain": [
       "40"
      ]
     },
     "execution_count": 31,
     "metadata": {},
     "output_type": "execute_result"
    }
   ],
   "source": [
    "list1 = [1,10,40,36,16]\n",
    "list1.sort()\n",
    "list1\n",
    "result = max(list1)\n",
    "result"
   ]
  },
  {
   "cell_type": "markdown",
   "metadata": {
    "cellUniqueIdByVincent": "6359d",
    "id": "I08xD3hiyeiP"
   },
   "source": [
    "<div class=\"alert alert-info\" style=\"background-color:#001469; color:white; padding:0px 10px; border-radius:5px;\">\n",
    "  <h2 style='margin:10px 5px'>Find Largest Element in List</h2>\n",
    "</div>"
   ]
  },
  {
   "cell_type": "code",
   "execution_count": null,
   "metadata": {
    "cellUniqueIdByVincent": "3e992",
    "id": "4vxiY_7YyeiP"
   },
   "outputs": [],
   "source": [
    "# Python program to find largest number in a list\n",
    "\n",
    "# A list of numbers is given\n",
    "lis = [1, 10, 40, 36, 16]\n",
    "\n",
    "# sorting the given list \"lis\"\n",
    "# sort() function sorts the list in ascending order\n",
    "lis.sort()\n",
    "\n",
    "# Displaying the last element of the list\n",
    "# which is the largest number in the sorted list\n",
    "print(\"Largest number in the list is:\", lis[-1])"
   ]
  },
  {
   "cell_type": "code",
   "execution_count": null,
   "metadata": {
    "cellUniqueIdByVincent": "157bc",
    "id": "RGmAtPnUyeiQ"
   },
   "outputs": [],
   "source": [
    "# Python program to find largest number in a list\n",
    "# using max() function\n",
    "\n",
    "# A list of numbers\n",
    "lis = [19, 10, 45, 26, 6]\n",
    "\n",
    "# max() method returns the largest element of the list\n",
    "print(\"Largest number of the list is:\", max(lis))"
   ]
  },
  {
   "cell_type": "markdown",
   "metadata": {
    "cellUniqueIdByVincent": "63f12",
    "id": "fBTowRF4yeiR"
   },
   "source": [
    "<div class=\"alert alert-info\" style=\"background-color:#001469; color:white; padding:0px 10px; border-radius:5px;\">\n",
    "  <h2 style='margin:10px 5px'>Finding Largest Number in a List, where List is Provided by User</h2>\n",
    "</div>"
   ]
  },
  {
   "cell_type": "code",
   "execution_count": 33,
   "metadata": {
    "cellUniqueIdByVincent": "7320f",
    "id": "FM9p3jbOyeiR"
   },
   "outputs": [
    {
     "name": "stdout",
     "output_type": "stream",
     "text": [
      "Largest element of the list is : 9\n"
     ]
    }
   ],
   "source": [
    "# creating empty list\n",
    "lis = []\n",
    "\n",
    "# user enters the number of elements to put in list\n",
    "count = int(input('How many numbers? '))\n",
    "\n",
    "# iterating count to append all input elements in list\n",
    "for n in range(count):\n",
    "    number = int(input('Enter number: '))\n",
    "    lis.append(number)\n",
    "\n",
    "# displaying largest element\n",
    "print(\"Largest element of the list is :\", max(lis))"
   ]
  },
  {
   "cell_type": "code",
   "execution_count": null,
   "metadata": {
    "cellUniqueIdByVincent": "a1887"
   },
   "outputs": [],
   "source": []
  },
  {
   "cell_type": "markdown",
   "metadata": {
    "cellUniqueIdByVincent": "8d087",
    "id": "K2u7T3jvyeiS"
   },
   "source": [
    "<div class=\"alert alert-info\" style=\"background-color:#E88209; color:white; padding:0px 10px; border-radius:5px;\">\n",
    "  <h2 style='margin:10px 5px'>Python program to give shop name</h2>\n",
    "</div>"
   ]
  },
  {
   "cell_type": "code",
   "execution_count": 226,
   "metadata": {
    "cellUniqueIdByVincent": "3dd37",
    "id": "v0UJCiVRyeiS"
   },
   "outputs": [
    {
     "name": "stdout",
     "output_type": "stream",
     "text": [
      "Welcome to the shop Name Generator.\n",
      "What's name of the city you grew up in?\n",
      "New York\n",
      "What's your pet's name?\n",
      "Bogo\n",
      "Your shop name could be New York Bogo\n"
     ]
    }
   ],
   "source": [
    "print(\"Welcome to the shop Name Generator.\")\n",
    "street = input(\"What's name of the city you grew up in?\\n\")\n",
    "pet = input(\"What's your pet's name?\\n\")\n",
    "print(\"Your shop name could be \" + street + \" \" + pet)"
   ]
  },
  {
   "cell_type": "code",
   "execution_count": null,
   "metadata": {
    "cellUniqueIdByVincent": "881d5",
    "id": "FLVOEkUXyeiT"
   },
   "outputs": [],
   "source": []
  }
 ],
 "metadata": {
  "kernelspec": {
   "display_name": ".venv",
   "language": "python",
   "name": "python3"
  },
  "language_info": {
   "codemirror_mode": {
    "name": "ipython",
    "version": 3
   },
   "file_extension": ".py",
   "mimetype": "text/x-python",
   "name": "python",
   "nbconvert_exporter": "python",
   "pygments_lexer": "ipython3",
   "version": "3.13.5"
  },
  "vincent": {
   "sessionId": "f413c1e9c988abf8c7126522_2025-07-02T08-21-09-028Z"
  }
 },
 "nbformat": 4,
 "nbformat_minor": 4
}
