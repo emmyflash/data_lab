{
 "cells": [
  {
   "cell_type": "markdown",
   "metadata": {
    "cellUniqueIdByVincent": "dddf6"
   },
   "source": [
    "<div class=\"alert alert-info\" style=\"background-color:#001469; color:white; padding:0px 10px; border-radius:5px;\">\n",
    "  <h2 style='margin:10px 5px'>REVISION FROM LAST LECTURES</h2>\n",
    "</div>"
   ]
  },
  {
   "cell_type": "code",
   "execution_count": null,
   "metadata": {
    "cellUniqueIdByVincent": "b5124"
   },
   "outputs": [],
   "source": [
    "#This prints the names of the first three players\n",
    "players = ['charles', 'martina', 'michael', 'florence', 'eli']\n",
    "for i in players[0:3]:\n",
    "    print(i.title())"
   ]
  },
  {
   "cell_type": "code",
   "execution_count": null,
   "metadata": {
    "cellUniqueIdByVincent": "523a2"
   },
   "outputs": [],
   "source": [
    "#This prints the names of the last three players\n",
    "players = ['charles', 'martina', 'michael', 'florence', 'eli']\n",
    "for player in players[-3:]:\n",
    "    print(player.title())"
   ]
  },
  {
   "cell_type": "markdown",
   "metadata": {
    "cellUniqueIdByVincent": "9eb6e"
   },
   "source": [
    "<div class=\"alert alert-info\" style=\"background-color:#001469; color:white; padding:0px 10px; border-radius:5px;\">\n",
    "  <h2 style='margin:10px 5px'>CONDITIONAL STATEMENTS</h2>\n",
    "</div>"
   ]
  },
  {
   "cell_type": "markdown",
   "metadata": {
    "cellUniqueIdByVincent": "9f69b"
   },
   "source": [
    "A conditional statement in Python is a programming construct that allows your code to make decisions based on whether a condition is True or False. It helps control the flow of execution depending on given criteria.\n",
    "\n",
    "- Simple if statement\n",
    "\n",
    "Executes a block of code only if a specified condition is true.\n",
    "\n",
    "- if-else statement\n",
    "\n",
    "Provides an alternative block of code to execute when the condition is false.\n",
    "\n",
    "- if-elif-else statement\n",
    "\n",
    "Handles multiple conditions. Checks conditions in sequence until one is true, otherwise executes the else block.\n",
    "\n",
    "- Nested if statements\n",
    "\n",
    "An if statement placed inside another if (or else/elif) block to check multiple levels of conditions.\n",
    "\n",
    "- Conditional expressions (Ternary operator)\n",
    "\n",
    "A compact way to return a value or expression based on a condition (used inline).\n",
    "\n",
    "- Logical conditionals using and, or, not\n",
    "\n",
    "Used to combine or invert conditions for more complex decision-making."
   ]
  },
  {
   "cell_type": "code",
   "execution_count": null,
   "metadata": {
    "cellUniqueIdByVincent": "cc171"
   },
   "outputs": [],
   "source": [
    "salary = 1000\n",
    "expenses = 770"
   ]
  },
  {
   "cell_type": "code",
   "execution_count": null,
   "metadata": {
    "cellUniqueIdByVincent": "ef1a8"
   },
   "outputs": [],
   "source": [
    "living_within_means = False\n",
    "\n",
    "if salary - expenses > 0:\n",
    "    living_within_means = True"
   ]
  },
  {
   "cell_type": "code",
   "execution_count": null,
   "metadata": {
    "cellUniqueIdByVincent": "9423b"
   },
   "outputs": [],
   "source": [
    "print(\"Am I living within my means?\", living_within_means)"
   ]
  },
  {
   "cell_type": "code",
   "execution_count": null,
   "metadata": {
    "cellUniqueIdByVincent": "2932e"
   },
   "outputs": [],
   "source": [
    "salary = 1000\n",
    "expenses = 770\n",
    "\n",
    "living_within_means = salary - expenses > 0\n",
    "\n",
    "if living_within_means and expenses > 500:\n",
    "    print(\"I'm glad you're saving but perhaps your expenses could be lower?\")"
   ]
  },
  {
   "cell_type": "code",
   "execution_count": null,
   "metadata": {
    "cellUniqueIdByVincent": "a77d4"
   },
   "outputs": [],
   "source": [
    "salary = 1000\n",
    "expenses = 770\n",
    "\n",
    "savings = 0\n",
    "\n",
    "if salary > expenses:\n",
    "    savings = salary - expenses\n",
    "    print(\"Savings for the month: \", savings)"
   ]
  },
  {
   "cell_type": "code",
   "execution_count": null,
   "metadata": {
    "cellUniqueIdByVincent": "414cb"
   },
   "outputs": [],
   "source": [
    "salary = 1000\n",
    "expenses = 770\n",
    "\n",
    "if salary > expenses:\n",
    "    print(\"Savings for the month: \", salary - expenses)\n",
    "else:\n",
    "    print(\"Loans to tide you over: \", expenses - salary)"
   ]
  },
  {
   "cell_type": "code",
   "execution_count": null,
   "metadata": {
    "cellUniqueIdByVincent": "38a14"
   },
   "outputs": [],
   "source": [
    "salary = 1000\n",
    "expenses = 1100\n",
    "\n",
    "if salary > expenses:\n",
    "    print(\"Savings for the month: \", salary - expenses)\n",
    "else:\n",
    "    print(\"Loans to tide you over: \", expenses - salary)"
   ]
  },
  {
   "cell_type": "code",
   "execution_count": null,
   "metadata": {
    "cellUniqueIdByVincent": "c2b53"
   },
   "outputs": [],
   "source": [
    "luxury_cars_and_their_horsepowers = {\"Phantom\" : 414,\n",
    "                                     \"Cullinan\" : 420,\n",
    "                                     \"Wraith\" : 465,\n",
    "                                     \"Ghost\" : 420,\n",
    "                                     \"Dawn\" : 420}"
   ]
  },
  {
   "cell_type": "code",
   "execution_count": null,
   "metadata": {
    "cellUniqueIdByVincent": "16384"
   },
   "outputs": [],
   "source": [
    "if \"Phantom\" in luxury_cars_and_their_horsepowers:\n",
    "    print(\"The Phantom is in the luxury_cars_and_their_horsepowers\")"
   ]
  },
  {
   "cell_type": "code",
   "execution_count": null,
   "metadata": {
    "cellUniqueIdByVincent": "5b2a0"
   },
   "outputs": [],
   "source": [
    "if \"Maybach\" not in luxury_cars_and_their_horsepowers:\n",
    "    print(\"The Maybach is not in luxury_cars_and_their_horsepowers\")"
   ]
  },
  {
   "cell_type": "code",
   "execution_count": null,
   "metadata": {
    "cellUniqueIdByVincent": "a4a06"
   },
   "outputs": [],
   "source": [
    "camera_brands = {\"Canon\",\n",
    "                 \"Nikon\",\n",
    "                 \"Sony\",\n",
    "                 \"Panasonic\",\n",
    "                 \"Pentax\",\n",
    "                 \"Olympus\"}"
   ]
  },
  {
   "cell_type": "code",
   "execution_count": null,
   "metadata": {
    "cellUniqueIdByVincent": "c03b1"
   },
   "outputs": [],
   "source": [
    "camera_brands"
   ]
  },
  {
   "cell_type": "code",
   "execution_count": null,
   "metadata": {
    "cellUniqueIdByVincent": "1ab0f"
   },
   "outputs": [],
   "source": [
    "## TODO: Run with \"Leica\" and then \"Sony\"\n",
    "\n",
    "camera_input = input(\"What camera brand do you like? \\n\")\n",
    "\n",
    "if camera_input in camera_brands:\n",
    "    print(\"Great, That camera brand is in the set already\")\n",
    "else:\n",
    "    print(\"Uh... Just wait, I'll add that to my set\")\n",
    "    camera_brands.add(camera_input)\n",
    "\n",
    "print(\"Camera brands: \", camera_brands)"
   ]
  },
  {
   "cell_type": "markdown",
   "metadata": {
    "cellUniqueIdByVincent": "99036"
   },
   "source": [
    "<div class=\"alert alert-info\" style=\"background-color:#001469; color:white; padding:0px 10px; border-radius:5px;\">\n",
    "  <h2 style='margin:10px 5px'>BREAK AND CONTINUE STATEMENTS</h2>\n",
    "</div>"
   ]
  },
  {
   "cell_type": "code",
   "execution_count": 3,
   "metadata": {
    "cellUniqueIdByVincent": "d294f"
   },
   "outputs": [],
   "source": [
    "classic_cars = [\"Pierce Arrow\", \"Oldsmobile\", \"Mustang\", \"Corvette\", \"Alfa Romeo Spider\"]"
   ]
  },
  {
   "cell_type": "code",
   "execution_count": null,
   "metadata": {
    "cellUniqueIdByVincent": "77010"
   },
   "outputs": [],
   "source": [
    "for car in classic_cars:\n",
    "    print(car)\n",
    "    break"
   ]
  },
  {
   "cell_type": "code",
   "execution_count": null,
   "metadata": {
    "cellUniqueIdByVincent": "255a0"
   },
   "outputs": [],
   "source": [
    "car"
   ]
  },
  {
   "cell_type": "code",
   "execution_count": null,
   "metadata": {
    "cellUniqueIdByVincent": "7f160"
   },
   "outputs": [],
   "source": [
    "for car in classic_cars:\n",
    "    print(car)\n",
    "    \n",
    "    if car == \"Corvette\":\n",
    "        print(\"This is my favorite! \", car)\n",
    "        break"
   ]
  },
  {
   "cell_type": "code",
   "execution_count": null,
   "metadata": {
    "cellUniqueIdByVincent": "1f7a8"
   },
   "outputs": [],
   "source": [
    "car"
   ]
  },
  {
   "cell_type": "code",
   "execution_count": null,
   "metadata": {
    "cellUniqueIdByVincent": "c13c7"
   },
   "outputs": [],
   "source": [
    "for car in classic_cars:\n",
    "    if car == \"Corvette\":\n",
    "        print(\"This is my favorite! \", car)\n",
    "        break\n",
    "\n",
    "    print(\"Still within the for loop:\", car)"
   ]
  },
  {
   "cell_type": "code",
   "execution_count": null,
   "metadata": {
    "cellUniqueIdByVincent": "0c502"
   },
   "outputs": [],
   "source": [
    "## TODO: Run with \"Booday\" and \"Wednesday\"\n",
    "\n",
    "days = [\"Sunday\", \"Monday\", \"Tuesday\", \"Wednesday\", \"Thursday\", \"Friday\", \"Saturday\"]\n",
    "\n",
    "day_input = input(\"What day is it? \")\n",
    "\n",
    "for day in days:\n",
    "    print(\"Checking: \", day)\n",
    "    \n",
    "    if day == day_input:\n",
    "        print(\"This is a valid day of the week!\")\n",
    "        break\n",
    "        \n",
    "else:\n",
    "    print(\"This is not a valid day of the week\")"
   ]
  },
  {
   "cell_type": "markdown",
   "metadata": {
    "cellUniqueIdByVincent": "2bbce"
   },
   "source": [
    "The continue statement in Python is used inside loops to skip the current iteration and move to the next one, without breaking the loop entirely."
   ]
  },
  {
   "cell_type": "code",
   "execution_count": null,
   "metadata": {
    "cellUniqueIdByVincent": "10801"
   },
   "outputs": [],
   "source": [
    "for i in range(1, 11):\n",
    "    if i % 2 == 0:\n",
    "        continue  # Skip even numbers\n",
    "    print(i)"
   ]
  },
  {
   "cell_type": "code",
   "execution_count": null,
   "metadata": {
    "cellUniqueIdByVincent": "5920c"
   },
   "outputs": [],
   "source": [
    "classic_cars = [\"Pierce Arrow\", \"Oldsmobile\", \"Mustang\", \"Corvette\", \"Alfa Romeo Spider\"]"
   ]
  },
  {
   "cell_type": "code",
   "execution_count": null,
   "metadata": {
    "cellUniqueIdByVincent": "8121d"
   },
   "outputs": [],
   "source": [
    "for car in classic_cars:\n",
    "    if car == \"Mustang\":\n",
    "        continue\n",
    "        \n",
    "    print(car)"
   ]
  },
  {
   "cell_type": "code",
   "execution_count": null,
   "metadata": {
    "cellUniqueIdByVincent": "f3f1e"
   },
   "outputs": [],
   "source": []
  },
  {
   "cell_type": "markdown",
   "metadata": {
    "cellUniqueIdByVincent": "21297"
   },
   "source": [
    "<div class=\"alert alert-info\" style=\"background-color:#E88209; color:white; padding:0px 10px; border-radius:5px;\">\n",
    "  <h2 style='margin:10px 5px'>EXERCISES: Make a Pizza Order System</h2>\n",
    "</div>"
   ]
  },
  {
   "cell_type": "code",
   "execution_count": 2,
   "metadata": {
    "cellUniqueIdByVincent": "7a4e6"
   },
   "outputs": [
    {
     "name": "stdout",
     "output_type": "stream",
     "text": [
      "Adding mushrooms\n",
      "Adding extra cheese\n",
      "\n",
      "Finished making your pizza!\n"
     ]
    }
   ],
   "source": [
    "requested_toppings = ['mushrooms', 'extra cheese']\n",
    "if 'mushrooms' in requested_toppings:\n",
    "    print(\"Adding mushrooms\")\n",
    "if 'pepperoni' in requested_toppings:\n",
    "    print(\"Adding pepperoni\")\n",
    "if 'extra cheese' in requested_toppings:\n",
    "    print(\"Adding extra cheese\")\n",
    "    print(\"\\nFinished making your pizza!\")"
   ]
  },
  {
   "cell_type": "code",
   "execution_count": null,
   "metadata": {
    "cellUniqueIdByVincent": "61317"
   },
   "outputs": [],
   "source": []
  },
  {
   "cell_type": "code",
   "execution_count": 5,
   "metadata": {
    "cellUniqueIdByVincent": "29d0d"
   },
   "outputs": [
    {
     "name": "stdout",
     "output_type": "stream",
     "text": [
      "Adding: ['mushrooms', 'extra cheese']\n",
      "Sorry, we are out of green peppers right now.\n",
      "Adding: ['mushrooms', 'extra cheese']\n",
      "\n",
      "Finished making your pizza!\n"
     ]
    }
   ],
   "source": [
    "# But what if the pizzeria runs out of green peppers? \n",
    "#An if statement inside a for loop can handle this situation appropriately:\n",
    "\n",
    "cust_order = ['mushrooms', 'green peppers', 'extra cheese']\n",
    "\n",
    "for i in cust_order:\n",
    "    if i == 'green peppers':\n",
    "        print(\"Sorry, we are out of green peppers right now.\")\n",
    "    else:\n",
    "        print(\"Adding:\", cust_order[0:3:2])\n",
    "print(\"\\nFinished making your pizza!\")\n",
    "\n",
    "# This time we check each requested item before adding it to the pizza. \n",
    "# The code checks to see if the person requested green peppers. \n",
    "# If so, we display a message informing them why they can’t have green peppers.\n",
    "# The else block at ensures that all other toppings will be added to the pizza."
   ]
  },
  {
   "cell_type": "code",
   "execution_count": null,
   "metadata": {
    "cellUniqueIdByVincent": "0536d"
   },
   "outputs": [],
   "source": [
    "########### Checking That a List Is Not Empty #######################\n",
    "requested_toppings = []\n",
    "if requested_toppings:\n",
    "    for requested_topping in requested_toppings:\n",
    "        print(f\"Adding {requested_topping}.\")\n",
    "    print(\"\\nFinished making your pizza!\")\n",
    "else:\n",
    "    print(\"Are you sure you want a plain pizza?\")"
   ]
  },
  {
   "cell_type": "code",
   "execution_count": null,
   "metadata": {
    "cellUniqueIdByVincent": "a43c5"
   },
   "outputs": [],
   "source": [
    "###### Using Multiple Lists ##############\n",
    "# Let’s watch out for unusual topping requests \n",
    "#before we build our pizza request system.\n",
    "\n",
    "available_toppings = ['mushrooms', 'olives', 'green peppers','pepperoni', 'pineapple', 'extra cheese']\n",
    "requested_toppings = ['mushrooms', 'french fries', 'extra cheese']\n",
    "for requested_topping in requested_toppings:\n",
    "    if requested_topping in available_toppings:\n",
    "        print(f\"Adding {requested_topping}.\")\n",
    "    else:\n",
    "        print(f\"Sorry, we don't have {requested_topping}.\")\n",
    "print(\"\\nFinished making your pizza!\")"
   ]
  },
  {
   "cell_type": "code",
   "execution_count": null,
   "metadata": {
    "cellUniqueIdByVincent": "9e873"
   },
   "outputs": [],
   "source": [
    "num = 5\n",
    "if (num==5):\n",
    "    print(\"The number is equal to 5\")"
   ]
  },
  {
   "cell_type": "code",
   "execution_count": null,
   "metadata": {
    "cellUniqueIdByVincent": "43466"
   },
   "outputs": [],
   "source": [
    "if num > 6:  #The condition is false\n",
    "    print(\"The number is greater than 6\") #The code is not executed"
   ]
  },
  {
   "cell_type": "code",
   "execution_count": null,
   "metadata": {
    "cellUniqueIdByVincent": "efd26"
   },
   "outputs": [],
   "source": [
    "# Conditions with Logical Operators\n",
    "num = 12\n",
    "if num % 2 == 0 and num % 3 == 0 and num % 4 == 0:\n",
    "    print(\"The number is a multiple of 2,3,4\")\n",
    "else:\n",
    "    print (\"The number you entered is not a multiple of 2,3,4\")\n",
    "# Only works when num is a multiple of 2, 3, and 4"
   ]
  },
  {
   "cell_type": "code",
   "execution_count": null,
   "metadata": {
    "cellUniqueIdByVincent": "92dee"
   },
   "outputs": [],
   "source": [
    "if (num % 5 == 0 or num % 6 == 0):\n",
    "    print(\"The number is a multiple of 5 and/or 6\")  \n",
    "# Only works when num is either a multiple of 5 or 6"
   ]
  },
  {
   "cell_type": "code",
   "execution_count": null,
   "metadata": {
    "cellUniqueIdByVincent": "5548b"
   },
   "outputs": [],
   "source": [
    "# Nested if Statements\n",
    "num = 70\n",
    "if num>=0 and num <=100:\n",
    "    if num >=50 and num <=75:\n",
    "        if num >=60 and num <=70:\n",
    "            print(\"The number is in the 60 - 70 range\")"
   ]
  },
  {
   "cell_type": "code",
   "execution_count": null,
   "metadata": {
    "cellUniqueIdByVincent": "b8875"
   },
   "outputs": [],
   "source": [
    "# Creating and Editing Values in conditional statement\n",
    "num = 10\n",
    "if num > 5:\n",
    "    num = 20 #Assigning new value to num\n",
    "    new_num = num * 5 #Creating a new value called new_num\n",
    "    print(num)\n",
    "    print(new_num)"
   ]
  },
  {
   "cell_type": "code",
   "execution_count": null,
   "metadata": {
    "cellUniqueIdByVincent": "414e2"
   },
   "outputs": [],
   "source": [
    "# If Else Condition\n",
    "num = 70\n",
    "if num <=50:\n",
    "    print(\"The number is less than or equal to 50\")\n",
    "else:\n",
    "    print(\"The number is greater than 50\")"
   ]
  },
  {
   "cell_type": "code",
   "execution_count": null,
   "metadata": {
    "cellUniqueIdByVincent": "8dcbf"
   },
   "outputs": [],
   "source": [
    "# Conditional Expressions\n",
    "num = 60\n",
    "output = \"The number is less than or equal to 50\" \\\n",
    "    if num <= 50 else \"The number is greater than 50\"\n",
    "print(output)"
   ]
  },
  {
   "cell_type": "markdown",
   "metadata": {
    "cellUniqueIdByVincent": "b8b11"
   },
   "source": [
    "<div class=\"alert alert-info\" style=\"background-color:#E88209; color:white; padding:0px 10px; border-radius:5px;\">\n",
    "  <h2 style='margin:10px 5px'>Make Traffic Light</h2>\n",
    "</div>"
   ]
  },
  {
   "cell_type": "code",
   "execution_count": 9,
   "metadata": {
    "cellUniqueIdByVincent": "9a55f"
   },
   "outputs": [
    {
     "name": "stdout",
     "output_type": "stream",
     "text": [
      " Yellow\n"
     ]
    },
    {
     "name": "stdout",
     "output_type": "stream",
     "text": [
      "Caution\n"
     ]
    }
   ],
   "source": [
    "light = str(input()) #Expecting user input\n",
    "\n",
    "if light == \"Green\":\n",
    "    print(\"Go\")\n",
    "elif light == \"Yellow\":\n",
    "    print(\"Caution\")\n",
    "elif light == \"Red\":\n",
    "    print(\"stop\")\n",
    "else:\n",
    "    print(\"The light signal is not Correct\")"
   ]
  },
  {
   "cell_type": "markdown",
   "metadata": {
    "cellUniqueIdByVincent": "742cd"
   },
   "source": [
    "<div class=\"alert alert-info\" style=\"background-color:#E88209; color:white; padding:0px 10px; border-radius:5px;\">\n",
    "  <h2 style='margin:10px 5px'>Make a Calculator</h2>\n",
    "</div>"
   ]
  },
  {
   "cell_type": "code",
   "execution_count": null,
   "metadata": {
    "cellUniqueIdByVincent": "d8933"
   },
   "outputs": [],
   "source": [
    "menu = \"\"\"-- Calculator Menu --\n",
    "0. Quit\n",
    "1. Add two numbers\n",
    "2. Subtract two numbers\n",
    "3. Multiply two numbers\n",
    "4. Divide two numbers\"\"\"\n",
    "\n",
    "selection = None\n",
    "\n",
    "while selection != 0:\n",
    "    print(menu)\n",
    "    selection = int(input(\"Select an option: \"))\n",
    "\n",
    "    if selection not in range(5):\n",
    "        print(\"Invalid option: %d\" % selection)\n",
    "        continue\n",
    "\n",
    "    if selection == 0:\n",
    "        continue\n",
    "\n",
    "    a = float(input(\"Please enter the first number: \"))\n",
    "    b = float(input(\"Please enter the second number: \"))\n",
    "\n",
    "    if selection == 1:\n",
    "        result = a + b\n",
    "    elif selection == 2:\n",
    "        result = a - b\n",
    "    elif selection == 3:\n",
    "        result = a * b\n",
    "    elif selection == 4:\n",
    "        result = a / b\n",
    "\n",
    "    print(\"The result is %g.\" % result)"
   ]
  },
  {
   "cell_type": "markdown",
   "metadata": {
    "cellUniqueIdByVincent": "940c3"
   },
   "source": [
    "<div class=\"alert alert-info\" style=\"background-color:#E88209; color:white; padding:0px 10px; border-radius:5px;\">\n",
    "  <h2 style='margin:10px 5px'>Make a Loan Calculator</h2>\n",
    "</div>"
   ]
  },
  {
   "cell_type": "code",
   "execution_count": null,
   "metadata": {
    "cellUniqueIdByVincent": "63a40"
   },
   "outputs": [],
   "source": [
    "# Get the loan details\n",
    "money_owed = float(input(\"How much money do you owe, in Naira?\\n\")) # N50,000\n",
    "apr = float(input(\"What is the annual percentage rate of the loan?\\n\")) # 3%\n",
    "payment = float(input(\"How much will you pay off each month in Naira?\\n\")) # N1,000\n",
    "months = int(input(\"How many months do you want to see the results for?\\n\")) # 24\n",
    "\n",
    "# Divide apr by 100 to make a percent, and 12 to make monthly\n",
    "monthly_rate = apr/100/12\n",
    "\n",
    "# Repeat payments exactly months number of times\n",
    "for i in range(months):\n",
    "\n",
    "    # Add in interest\n",
    "    interest_paid = money_owed*monthly_rate\n",
    "    money_owed = money_owed + interest_paid\n",
    "\n",
    "    # Make payment\n",
    "    money_owed = money_owed - payment\n",
    "\n",
    "    # Print results after this month\n",
    "    print(\"Paid\",payment,\"of which\",interest_paid,\"was interest\", end=\" \")\n",
    "    print(\"Now I owe\", money_owed)"
   ]
  },
  {
   "cell_type": "code",
   "execution_count": null,
   "metadata": {
    "cellUniqueIdByVincent": "ed008"
   },
   "outputs": [],
   "source": [
    "#Using the While Loop\n",
    "\n",
    "usernames = []\n",
    "\n",
    "print(\"Enter three options for your username\")\n",
    "\n",
    "while len(usernames) < 3:\n",
    "    username = input(\"Choose a username: [4-10 characters] \")\n",
    "    if 4 <= len(username) <= 10:\n",
    "        print(f\"Thank you. The username {username} is valid\")\n",
    "        usernames.append(username)\n",
    "    else:\n",
    "        print(\"The username must be between 4 and 10 characters long\")\n",
    "\n",
    "print(usernames)"
   ]
  },
  {
   "cell_type": "code",
   "execution_count": null,
   "metadata": {
    "cellUniqueIdByVincent": "8d824"
   },
   "outputs": [],
   "source": [
    "#Using the While Loop\n",
    "#Another Example:\n",
    "\n",
    "colors = [\"red\", \"green\", \"blue\", \"yellow\", \"pink\"]\n",
    "while len(colors) > 0: #while the list is not empty\n",
    "    print(f\"The next color is {colors.pop(0)}\")"
   ]
  },
  {
   "cell_type": "code",
   "execution_count": null,
   "metadata": {
    "cellUniqueIdByVincent": "94e5a"
   },
   "outputs": [],
   "source": [
    "# Code that checks whether the value of an integer is in the range of 0-9.\n",
    "\n",
    "# We can have as many elif statements as possible as long as they \n",
    "# are between the IF and ELSE statement.\n",
    "\n",
    "num = 5\n",
    "\n",
    "if num == 0:\n",
    "    print(\"Zero\")\n",
    "elif num == 1:\n",
    "    print(\"One\")\n",
    "elif num == 2:\n",
    "    print(\"Two\")\n",
    "elif num == 3:\n",
    "    print(\"Three\")\n",
    "elif num == 4:\n",
    "    print(\"Four\")\n",
    "elif num == 5:\n",
    "    print(\"Five\")\n",
    "elif num == 6:\n",
    "    print(\"Six\")\n",
    "elif num == 7:\n",
    "    print(\"Seven\")\n",
    "elif num == 8:\n",
    "    print(\"Eight\")\n",
    "elif num == 9:\n",
    "    print(\"Nine\")"
   ]
  },
  {
   "cell_type": "code",
   "execution_count": null,
   "metadata": {
    "cellUniqueIdByVincent": "18d62"
   },
   "outputs": [],
   "source": [
    "num = 13\n",
    "# Multiple IF Statements behave differently. \n",
    "# If more statements are true they evaluate.\n",
    "if num > 5:\n",
    "    print(\"The number is greater than 5\")\n",
    "\n",
    "if num % 2 == 0:\n",
    "    print(\"The number is even\")\n",
    "\n",
    "if not num % 2 == 0:\n",
    "    print(\"The number is odd\")"
   ]
  },
  {
   "cell_type": "markdown",
   "metadata": {
    "cellUniqueIdByVincent": "66042"
   },
   "source": [
    "<div class=\"alert alert-info\" style=\"background-color:#E88209; color:white; padding:0px 10px; border-radius:5px;\">\n",
    "  <h2 style='margin:10px 5px'>Exercises: More on using Python Input</h2>\n",
    "</div>"
   ]
  },
  {
   "cell_type": "code",
   "execution_count": null,
   "metadata": {
    "cellUniqueIdByVincent": "26841"
   },
   "outputs": [],
   "source": [
    "#This program says hello and asks for my name.\n",
    "\n",
    "print('Hello Friend!')\n",
    "print('What is your name?') # ask for their name\n",
    "myName = input() #Take their name input\n",
    "print('It is good to meet you, ' + myName)\n",
    "print('The length of your name is:')\n",
    "print(len(myName)) #print the length of their name\n",
    "print('What is your age?') # ask for their age\n",
    "myAge = input() #Take their age input\n",
    "print('You will be ' + str(int(myAge) + 1) + ' in a year.') #Add one to their age"
   ]
  },
  {
   "cell_type": "code",
   "execution_count": 10,
   "metadata": {
    "cellUniqueIdByVincent": "16e7d"
   },
   "outputs": [
    {
     "name": "stdout",
     "output_type": "stream",
     "text": [
      "Please type your name.\n"
     ]
    },
    {
     "name": "stdout",
     "output_type": "stream",
     "text": [
      " yemi\n"
     ]
    },
    {
     "name": "stdout",
     "output_type": "stream",
     "text": [
      "Try Again!\n",
      "Please type your name.\n"
     ]
    },
    {
     "name": "stdout",
     "output_type": "stream",
     "text": [
      " yemi\n"
     ]
    },
    {
     "name": "stdout",
     "output_type": "stream",
     "text": [
      "Try Again!\n",
      "Please type your name.\n"
     ]
    },
    {
     "name": "stdout",
     "output_type": "stream",
     "text": [
      " Cyril\n"
     ]
    },
    {
     "name": "stdout",
     "output_type": "stream",
     "text": [
      "Welcome Home\n"
     ]
    }
   ],
   "source": [
    "############## Validate a User Name ###############\n",
    "while True:\n",
    "    print('Please type your name.')\n",
    "    name = input()\n",
    "    if name == 'Cyril':\n",
    "        print (\"Welcome Home\")\n",
    "        break\n",
    "    print('Try Again!')"
   ]
  },
  {
   "cell_type": "code",
   "execution_count": null,
   "metadata": {
    "cellUniqueIdByVincent": "1e968"
   },
   "outputs": [],
   "source": [
    "####### Let’s use continue to write a program that asks for a name \n",
    "# and password ##########\n",
    "\n",
    "while True:\n",
    "    print('Who are you?')\n",
    "    name = input()\n",
    "    if name != 'Modupe':\n",
    "        continue\n",
    "    print('Hello,Modupe . What is the password? (It is a fish.)')\n",
    "    password = input()\n",
    "    if password == 'swordfish':\n",
    "        break\n",
    "print('Access granted.')"
   ]
  },
  {
   "cell_type": "code",
   "execution_count": null,
   "metadata": {
    "cellUniqueIdByVincent": "30ddd"
   },
   "outputs": [],
   "source": [
    "############ Using Loop to Repeatedly Print a Name ############\n",
    "print('My name is:')\n",
    "for i in range(5):\n",
    "    print('Fatimat Five Times (' + str(i) + ')')"
   ]
  },
  {
   "cell_type": "code",
   "execution_count": null,
   "metadata": {
    "cellUniqueIdByVincent": "18629"
   },
   "outputs": [],
   "source": [
    "animals = ['cat', 'dog', 'fish']\n",
    "\n",
    "for first_animal in animals:\n",
    "    for second_animal in animals:\n",
    "        print(\"Yesterday I bought a %s. Today I bought a %s.\" % (first_animal, second_animal))"
   ]
  },
  {
   "cell_type": "code",
   "execution_count": null,
   "metadata": {
    "cellUniqueIdByVincent": "af690"
   },
   "outputs": [],
   "source": [
    "############### GUESS GAME IN PYTHON #######################\n",
    "\n",
    "# This is a guess the number game.\n",
    "\n",
    "import random\n",
    "secretNumber = random.randint(1, 20)\n",
    "print('I am thinking of a number between 1 and 20.Can you tell the number?')\n",
    "\n",
    "# Ask the player to guess 5 times.\n",
    "for guessesTaken in range(1, 6):\n",
    "    print('Take a guess.')\n",
    "    guess = int(input())\n",
    "\n",
    "    if guess < secretNumber:\n",
    "        print('Your guess is too low.')\n",
    "    elif guess > secretNumber:\n",
    "        print('Your guess is too high.')\n",
    "    else:\n",
    "        break # Break the loop after 5 guesses\n",
    "\n",
    "if guess == secretNumber:\n",
    "    print('Congratulations! You guessed my number in ' + str(guessesTaken) + ' guesses!')\n",
    "else:\n",
    "   print('Oh no Sorry!. The number I was thinking of was ' + str(secretNumber))"
   ]
  },
  {
   "cell_type": "markdown",
   "metadata": {
    "cellUniqueIdByVincent": "cad58"
   },
   "source": [
    "<div class=\"alert alert-info\" style=\"background-color:#001469; color:white; padding:0px 10px; border-radius:5px;\">\n",
    "  <h2 style='margin:10px 5px'>LIST COMPREHENSION</h2>\n",
    "</div>"
   ]
  },
  {
   "cell_type": "code",
   "execution_count": null,
   "metadata": {
    "cellUniqueIdByVincent": "5a07b"
   },
   "outputs": [],
   "source": [
    "#List comprehension, or listcomp for short, allows you to define a list’s contents \n",
    "#inline with its declaration. To make a list into a listcomp, you must wrap it \n",
    "#in square brackets as usual, but also include an expression that will \n",
    "#generate the items in the list and a for loop to loop through them.\n",
    "\n",
    "#The following example creates a list without using list comprehension:\n",
    "\n",
    "x = []\n",
    "for i in (1, 2, 3):\n",
    "    x.append(i)"
   ]
  },
  {
   "cell_type": "code",
   "execution_count": null,
   "metadata": {
    "cellUniqueIdByVincent": "58709"
   },
   "outputs": [],
   "source": [
    "x"
   ]
  },
  {
   "cell_type": "code",
   "execution_count": null,
   "metadata": {
    "cellUniqueIdByVincent": "b822f"
   },
   "outputs": [],
   "source": [
    "#And this next example uses list comprehension to make the same list with a single line:\n",
    "x = [i for i in (1, 2, 3)]"
   ]
  },
  {
   "cell_type": "code",
   "execution_count": null,
   "metadata": {
    "cellUniqueIdByVincent": "4d443"
   },
   "outputs": [],
   "source": [
    "#print the x\n",
    "x"
   ]
  },
  {
   "cell_type": "code",
   "execution_count": null,
   "metadata": {
    "cellUniqueIdByVincent": "cb40a"
   },
   "outputs": [],
   "source": [
    "#You can use multiple for statements together and use if statements to filter out items. \n",
    "#Here we create a list of words and use list comprehension to capitalize each item, \n",
    "#split up items with multiple words into single words, and delete the extraneous 'or'\n",
    "\n",
    "x = [word.capitalize()\n",
    "     for line in (\"hello world?\", \"world!\", \"or not\")\n",
    "     for word in line.split()\n",
    "     if not word.startswith(\"or\")]"
   ]
  },
  {
   "cell_type": "code",
   "execution_count": null,
   "metadata": {
    "cellUniqueIdByVincent": "23cda"
   },
   "outputs": [],
   "source": [
    "x"
   ]
  },
  {
   "cell_type": "code",
   "execution_count": null,
   "metadata": {
    "cellUniqueIdByVincent": "2e943"
   },
   "outputs": [],
   "source": [
    "#The code above has two for loops: the first iterates over the text lines, \n",
    "#while the second iterates over words in each of those lines. \n",
    "#The final if statement filters out words that start with or to exclude them from the final list.\n",
    "#Using list comprehension rather than for loops is a neat way to define lists quickly."
   ]
  },
  {
   "cell_type": "code",
   "execution_count": null,
   "metadata": {
    "cellUniqueIdByVincent": "211c9"
   },
   "outputs": [],
   "source": []
  },
  {
   "cell_type": "markdown",
   "metadata": {
    "cellUniqueIdByVincent": "8f470"
   },
   "source": [
    "<div class=\"alert alert-info\" style=\"background-color:#001469; color:white; padding:0px 10px; border-radius:5px;\">\n",
    "  <h2 style='margin:10px 5px'>PYTHON DICTIONARY</h2>\n",
    "</div>"
   ]
  },
  {
   "cell_type": "markdown",
   "metadata": {
    "cellUniqueIdByVincent": "599e2"
   },
   "source": [
    "A Python dictionary is a built-in data structure that stores data in key-value pairs. It's like a real-world dictionary where you look up a word (the key) to find its definition (the value). Dictionaries are unordered, mutable, and do not allow duplicate keys. "
   ]
  },
  {
   "cell_type": "code",
   "execution_count": null,
   "metadata": {
    "cellUniqueIdByVincent": "87b68"
   },
   "outputs": [],
   "source": [
    "fruit = {1: \"Kiwi\",2:\"Mango\",3:\"Orange\",4:\"Banana\"}\n",
    "print(fruit)"
   ]
  },
  {
   "cell_type": "markdown",
   "metadata": {
    "cellUniqueIdByVincent": "dd239"
   },
   "source": [
    "<div class=\"alert alert-info\" style=\"background-color:#001469; color:white; padding:0px 10px; border-radius:5px;\">\n",
    "  <h2 style='margin:10px 5px'>Accessing Values in a Dictionary</h2>\n",
    "</div>"
   ]
  },
  {
   "cell_type": "code",
   "execution_count": null,
   "metadata": {
    "cellUniqueIdByVincent": "c3429"
   },
   "outputs": [],
   "source": [
    "phone = {\"Olayemi\":+2348139608388,\"Helen\": +2348190678,\"Feyi\": +2348038518576}"
   ]
  },
  {
   "cell_type": "code",
   "execution_count": null,
   "metadata": {
    "cellUniqueIdByVincent": "76936"
   },
   "outputs": [],
   "source": [
    "print(phone[\"Feyi\"])"
   ]
  },
  {
   "cell_type": "code",
   "execution_count": null,
   "metadata": {
    "cellUniqueIdByVincent": "240f8"
   },
   "outputs": [],
   "source": [
    "game = {'color': 'green', 'points': 5}"
   ]
  },
  {
   "cell_type": "code",
   "execution_count": null,
   "metadata": {
    "cellUniqueIdByVincent": "9e514"
   },
   "outputs": [],
   "source": [
    "print(game['color'])"
   ]
  },
  {
   "cell_type": "code",
   "execution_count": null,
   "metadata": {
    "cellUniqueIdByVincent": "2c46a"
   },
   "outputs": [],
   "source": [
    "print(game['points'])"
   ]
  },
  {
   "cell_type": "code",
   "execution_count": null,
   "metadata": {
    "cellUniqueIdByVincent": "81bd9"
   },
   "outputs": [],
   "source": [
    "game = {'color': 'green', 'points': 5}"
   ]
  },
  {
   "cell_type": "code",
   "execution_count": null,
   "metadata": {
    "cellUniqueIdByVincent": "78806"
   },
   "outputs": [],
   "source": [
    "new_points = game['points']"
   ]
  },
  {
   "cell_type": "code",
   "execution_count": null,
   "metadata": {
    "cellUniqueIdByVincent": "d3479"
   },
   "outputs": [],
   "source": [
    "print(f\"You just earned {new_points} points!\")"
   ]
  },
  {
   "cell_type": "markdown",
   "metadata": {
    "cellUniqueIdByVincent": "56216"
   },
   "source": [
    "<div class=\"alert alert-info\" style=\"background-color:#001469; color:white; padding:0px 10px; border-radius:5px;\">\n",
    "  <h2 style='margin:10px 5px'>Modifying Values in a Dictionary</h2>\n",
    "</div>"
   ]
  },
  {
   "cell_type": "code",
   "execution_count": null,
   "metadata": {
    "cellUniqueIdByVincent": "8bb39"
   },
   "outputs": [],
   "source": [
    "mycolour = {'color': 'red'}\n",
    "print(f\"Ijeoma has a {mycolour['color']} car.\")"
   ]
  },
  {
   "cell_type": "code",
   "execution_count": null,
   "metadata": {
    "cellUniqueIdByVincent": "ab2fe"
   },
   "outputs": [],
   "source": [
    "mycolour = {'color': 'White', 'size':'big','wheel':6}\n",
    "print(f\"Yemi has a {mycolour['color']} car, and the size is {mycolour['size']} and car has {mycolour['wheel']} wheels\")"
   ]
  },
  {
   "cell_type": "code",
   "execution_count": null,
   "metadata": {
    "cellUniqueIdByVincent": "78673"
   },
   "outputs": [],
   "source": [
    "mycolour['color'] = 'yellow'\n",
    "print(f\"Ijeoma has {mycolour['color']} car.\")"
   ]
  },
  {
   "cell_type": "markdown",
   "metadata": {
    "cellUniqueIdByVincent": "fe16b"
   },
   "source": [
    "<div class=\"alert alert-info\" style=\"background-color:#001469; color:white; padding:0px 10px; border-radius:5px;\">\n",
    "  <h2 style='margin:10px 5px'>Nested Dictionary</h2>\n",
    "</div>"
   ]
  },
  {
   "cell_type": "code",
   "execution_count": null,
   "metadata": {
    "cellUniqueIdByVincent": "4925a"
   },
   "outputs": [],
   "source": [
    "########## Nested Dictionary ##########\n",
    "word = {\n",
    "    \"a\":\n",
    "    {\"apple\":\"A fruit which is round\",\n",
    "    \"ant\":\"A small insect that moves around\",\n",
    "    \"meat\": \"Raw flesh from animals\"\n",
    "    },\n",
    "    \"b\":\n",
    "    {\"club\": \"eaten by a young lion\",\n",
    "    \"kitten\":\"eaten by a young cat\",\n",
    "    \"kid\": \"eaten by a young goat\"\n",
    "    }\n",
    "}"
   ]
  },
  {
   "cell_type": "code",
   "execution_count": null,
   "metadata": {
    "cellUniqueIdByVincent": "bb208"
   },
   "outputs": [],
   "source": [
    "print(word[\"b\"][\"kid\"])"
   ]
  },
  {
   "cell_type": "code",
   "execution_count": null,
   "metadata": {
    "cellUniqueIdByVincent": "60608"
   },
   "outputs": [],
   "source": [
    "print(word[\"a\"][\"meat\"])"
   ]
  },
  {
   "cell_type": "code",
   "execution_count": null,
   "metadata": {
    "cellUniqueIdByVincent": "7f81b"
   },
   "outputs": [],
   "source": [
    "print (word[\"a\"][\"apple\"], word[\"b\"][\"kid\"])"
   ]
  },
  {
   "cell_type": "markdown",
   "metadata": {
    "cellUniqueIdByVincent": "73717"
   },
   "source": [
    "<div class=\"alert alert-info\" style=\"background-color:#001469; color:white; padding:0px 10px; border-radius:5px;\">\n",
    "  <h2 style='margin:10px 5px'>Looping Through a Dictionary</h2>\n",
    "</div>"
   ]
  },
  {
   "cell_type": "code",
   "execution_count": null,
   "metadata": {
    "cellUniqueIdByVincent": "2af67"
   },
   "outputs": [],
   "source": [
    "favorite_languages = {\n",
    "'jen': 'python',\n",
    "'sarah': 'c',\n",
    "'edward': 'ruby',\n",
    "'phil': 'python'}\n",
    "\n",
    "for name, language in favorite_languages.items():\n",
    "    print(f\"{name.title()}'s favorite language is {language.title()}.\")"
   ]
  },
  {
   "cell_type": "code",
   "execution_count": null,
   "metadata": {
    "cellUniqueIdByVincent": "cada9"
   },
   "outputs": [],
   "source": []
  }
 ],
 "metadata": {
  "vincent": {
   "sessionId": "3d1183a650d01ce74d00539c_2025-07-02T08-27-16-923Z"
  }
 },
 "nbformat": 4,
 "nbformat_minor": 4
}
